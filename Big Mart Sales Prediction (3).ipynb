{
 "cells": [
  {
   "cell_type": "markdown",
   "id": "4afcb1c4",
   "metadata": {},
   "source": [
    "# Big Mart Sales Prediction"
   ]
  },
  {
   "cell_type": "markdown",
   "id": "86bde48d",
   "metadata": {},
   "source": [
    "# Problem statement\n",
    "### The data scientists at BigMart have collected 2013 sales data for 1559 products across 10 stores in different cities. Also, certain attributes of each product and store have been defined. The aim is to build a predictive model and predict the sales of each product at a particular outlet."
   ]
  },
  {
   "cell_type": "code",
   "execution_count": 1,
   "id": "e74559c7",
   "metadata": {},
   "outputs": [],
   "source": [
    "from mpl_toolkits.mplot3d import Axes3D\n",
    "from sklearn.preprocessing import StandardScaler\n",
    "import matplotlib.pyplot as plt \n",
    "import numpy as np \n",
    "import os \n",
    "import pandas as pd\n",
    "import plotly.express as px"
   ]
  },
  {
   "cell_type": "code",
   "execution_count": 2,
   "id": "15003930",
   "metadata": {},
   "outputs": [],
   "source": [
    "df = pd.read_csv(\"C:/Users/user/train_bigmart.csv\")"
   ]
  },
  {
   "cell_type": "code",
   "execution_count": 3,
   "id": "15ab2aa2",
   "metadata": {},
   "outputs": [
    {
     "data": {
      "text/plain": [
       "0"
      ]
     },
     "execution_count": 3,
     "metadata": {},
     "output_type": "execute_result"
    }
   ],
   "source": [
    "dup = df.duplicated()\n",
    "\n",
    "sum(dup)"
   ]
  },
  {
   "cell_type": "code",
   "execution_count": 4,
   "id": "2b7f32fe",
   "metadata": {
    "scrolled": true
   },
   "outputs": [
    {
     "data": {
      "text/html": [
       "<div>\n",
       "<style scoped>\n",
       "    .dataframe tbody tr th:only-of-type {\n",
       "        vertical-align: middle;\n",
       "    }\n",
       "\n",
       "    .dataframe tbody tr th {\n",
       "        vertical-align: top;\n",
       "    }\n",
       "\n",
       "    .dataframe thead th {\n",
       "        text-align: right;\n",
       "    }\n",
       "</style>\n",
       "<table border=\"1\" class=\"dataframe\">\n",
       "  <thead>\n",
       "    <tr style=\"text-align: right;\">\n",
       "      <th></th>\n",
       "      <th>Item_Identifier</th>\n",
       "      <th>Item_Weight</th>\n",
       "      <th>Item_Fat_Content</th>\n",
       "      <th>Item_Visibility</th>\n",
       "      <th>Item_Type</th>\n",
       "      <th>Item_MRP</th>\n",
       "      <th>Outlet_Identifier</th>\n",
       "      <th>Outlet_Establishment_Year</th>\n",
       "      <th>Outlet_Size</th>\n",
       "      <th>Outlet_Location_Type</th>\n",
       "      <th>Outlet_Type</th>\n",
       "      <th>Item_Outlet_Sales</th>\n",
       "    </tr>\n",
       "  </thead>\n",
       "  <tbody>\n",
       "    <tr>\n",
       "      <th>0</th>\n",
       "      <td>FDA15</td>\n",
       "      <td>9.30</td>\n",
       "      <td>Low Fat</td>\n",
       "      <td>0.016047</td>\n",
       "      <td>Dairy</td>\n",
       "      <td>249.8092</td>\n",
       "      <td>OUT049</td>\n",
       "      <td>1999</td>\n",
       "      <td>Medium</td>\n",
       "      <td>Tier 1</td>\n",
       "      <td>Supermarket Type1</td>\n",
       "      <td>3735.1380</td>\n",
       "    </tr>\n",
       "    <tr>\n",
       "      <th>1</th>\n",
       "      <td>DRC01</td>\n",
       "      <td>5.92</td>\n",
       "      <td>Regular</td>\n",
       "      <td>0.019278</td>\n",
       "      <td>Soft Drinks</td>\n",
       "      <td>48.2692</td>\n",
       "      <td>OUT018</td>\n",
       "      <td>2009</td>\n",
       "      <td>Medium</td>\n",
       "      <td>Tier 3</td>\n",
       "      <td>Supermarket Type2</td>\n",
       "      <td>443.4228</td>\n",
       "    </tr>\n",
       "    <tr>\n",
       "      <th>2</th>\n",
       "      <td>FDN15</td>\n",
       "      <td>17.50</td>\n",
       "      <td>Low Fat</td>\n",
       "      <td>0.016760</td>\n",
       "      <td>Meat</td>\n",
       "      <td>141.6180</td>\n",
       "      <td>OUT049</td>\n",
       "      <td>1999</td>\n",
       "      <td>Medium</td>\n",
       "      <td>Tier 1</td>\n",
       "      <td>Supermarket Type1</td>\n",
       "      <td>2097.2700</td>\n",
       "    </tr>\n",
       "    <tr>\n",
       "      <th>3</th>\n",
       "      <td>FDX07</td>\n",
       "      <td>19.20</td>\n",
       "      <td>Regular</td>\n",
       "      <td>0.000000</td>\n",
       "      <td>Fruits and Vegetables</td>\n",
       "      <td>182.0950</td>\n",
       "      <td>OUT010</td>\n",
       "      <td>1998</td>\n",
       "      <td>NaN</td>\n",
       "      <td>Tier 3</td>\n",
       "      <td>Grocery Store</td>\n",
       "      <td>732.3800</td>\n",
       "    </tr>\n",
       "    <tr>\n",
       "      <th>4</th>\n",
       "      <td>NCD19</td>\n",
       "      <td>8.93</td>\n",
       "      <td>Low Fat</td>\n",
       "      <td>0.000000</td>\n",
       "      <td>Household</td>\n",
       "      <td>53.8614</td>\n",
       "      <td>OUT013</td>\n",
       "      <td>1987</td>\n",
       "      <td>High</td>\n",
       "      <td>Tier 3</td>\n",
       "      <td>Supermarket Type1</td>\n",
       "      <td>994.7052</td>\n",
       "    </tr>\n",
       "  </tbody>\n",
       "</table>\n",
       "</div>"
      ],
      "text/plain": [
       "  Item_Identifier  Item_Weight Item_Fat_Content  Item_Visibility  \\\n",
       "0           FDA15         9.30          Low Fat         0.016047   \n",
       "1           DRC01         5.92          Regular         0.019278   \n",
       "2           FDN15        17.50          Low Fat         0.016760   \n",
       "3           FDX07        19.20          Regular         0.000000   \n",
       "4           NCD19         8.93          Low Fat         0.000000   \n",
       "\n",
       "               Item_Type  Item_MRP Outlet_Identifier  \\\n",
       "0                  Dairy  249.8092            OUT049   \n",
       "1            Soft Drinks   48.2692            OUT018   \n",
       "2                   Meat  141.6180            OUT049   \n",
       "3  Fruits and Vegetables  182.0950            OUT010   \n",
       "4              Household   53.8614            OUT013   \n",
       "\n",
       "   Outlet_Establishment_Year Outlet_Size Outlet_Location_Type  \\\n",
       "0                       1999      Medium               Tier 1   \n",
       "1                       2009      Medium               Tier 3   \n",
       "2                       1999      Medium               Tier 1   \n",
       "3                       1998         NaN               Tier 3   \n",
       "4                       1987        High               Tier 3   \n",
       "\n",
       "         Outlet_Type  Item_Outlet_Sales  \n",
       "0  Supermarket Type1          3735.1380  \n",
       "1  Supermarket Type2           443.4228  \n",
       "2  Supermarket Type1          2097.2700  \n",
       "3      Grocery Store           732.3800  \n",
       "4  Supermarket Type1           994.7052  "
      ]
     },
     "execution_count": 4,
     "metadata": {},
     "output_type": "execute_result"
    }
   ],
   "source": [
    "df.head()"
   ]
  },
  {
   "cell_type": "code",
   "execution_count": 5,
   "id": "9b82f3da",
   "metadata": {},
   "outputs": [
    {
     "name": "stdout",
     "output_type": "stream",
     "text": [
      "<class 'pandas.core.frame.DataFrame'>\n",
      "RangeIndex: 8523 entries, 0 to 8522\n",
      "Data columns (total 12 columns):\n",
      " #   Column                     Non-Null Count  Dtype  \n",
      "---  ------                     --------------  -----  \n",
      " 0   Item_Identifier            8523 non-null   object \n",
      " 1   Item_Weight                7060 non-null   float64\n",
      " 2   Item_Fat_Content           8523 non-null   object \n",
      " 3   Item_Visibility            8523 non-null   float64\n",
      " 4   Item_Type                  8523 non-null   object \n",
      " 5   Item_MRP                   8523 non-null   float64\n",
      " 6   Outlet_Identifier          8523 non-null   object \n",
      " 7   Outlet_Establishment_Year  8523 non-null   int64  \n",
      " 8   Outlet_Size                6113 non-null   object \n",
      " 9   Outlet_Location_Type       8523 non-null   object \n",
      " 10  Outlet_Type                8523 non-null   object \n",
      " 11  Item_Outlet_Sales          8523 non-null   float64\n",
      "dtypes: float64(4), int64(1), object(7)\n",
      "memory usage: 799.2+ KB\n"
     ]
    }
   ],
   "source": [
    "df.info()"
   ]
  },
  {
   "cell_type": "markdown",
   "id": "da780df1",
   "metadata": {},
   "source": [
    "# Handling the missing values"
   ]
  },
  {
   "cell_type": "code",
   "execution_count": 6,
   "id": "3d0fc4eb",
   "metadata": {},
   "outputs": [],
   "source": [
    "percent_missing = df.isnull().sum() * 100 / len(df)\n",
    "missing_value_df = pd.DataFrame({'column_name': df.columns,\n",
    "                                 'percent_missing': percent_missing})"
   ]
  },
  {
   "cell_type": "code",
   "execution_count": 7,
   "id": "e892c922",
   "metadata": {},
   "outputs": [
    {
     "data": {
      "text/html": [
       "<div>\n",
       "<style scoped>\n",
       "    .dataframe tbody tr th:only-of-type {\n",
       "        vertical-align: middle;\n",
       "    }\n",
       "\n",
       "    .dataframe tbody tr th {\n",
       "        vertical-align: top;\n",
       "    }\n",
       "\n",
       "    .dataframe thead th {\n",
       "        text-align: right;\n",
       "    }\n",
       "</style>\n",
       "<table border=\"1\" class=\"dataframe\">\n",
       "  <thead>\n",
       "    <tr style=\"text-align: right;\">\n",
       "      <th></th>\n",
       "      <th>column_name</th>\n",
       "      <th>percent_missing</th>\n",
       "    </tr>\n",
       "  </thead>\n",
       "  <tbody>\n",
       "    <tr>\n",
       "      <th>Item_Identifier</th>\n",
       "      <td>Item_Identifier</td>\n",
       "      <td>0.000000</td>\n",
       "    </tr>\n",
       "    <tr>\n",
       "      <th>Item_Weight</th>\n",
       "      <td>Item_Weight</td>\n",
       "      <td>17.165317</td>\n",
       "    </tr>\n",
       "    <tr>\n",
       "      <th>Item_Fat_Content</th>\n",
       "      <td>Item_Fat_Content</td>\n",
       "      <td>0.000000</td>\n",
       "    </tr>\n",
       "    <tr>\n",
       "      <th>Item_Visibility</th>\n",
       "      <td>Item_Visibility</td>\n",
       "      <td>0.000000</td>\n",
       "    </tr>\n",
       "    <tr>\n",
       "      <th>Item_Type</th>\n",
       "      <td>Item_Type</td>\n",
       "      <td>0.000000</td>\n",
       "    </tr>\n",
       "    <tr>\n",
       "      <th>Item_MRP</th>\n",
       "      <td>Item_MRP</td>\n",
       "      <td>0.000000</td>\n",
       "    </tr>\n",
       "    <tr>\n",
       "      <th>Outlet_Identifier</th>\n",
       "      <td>Outlet_Identifier</td>\n",
       "      <td>0.000000</td>\n",
       "    </tr>\n",
       "    <tr>\n",
       "      <th>Outlet_Establishment_Year</th>\n",
       "      <td>Outlet_Establishment_Year</td>\n",
       "      <td>0.000000</td>\n",
       "    </tr>\n",
       "    <tr>\n",
       "      <th>Outlet_Size</th>\n",
       "      <td>Outlet_Size</td>\n",
       "      <td>28.276428</td>\n",
       "    </tr>\n",
       "    <tr>\n",
       "      <th>Outlet_Location_Type</th>\n",
       "      <td>Outlet_Location_Type</td>\n",
       "      <td>0.000000</td>\n",
       "    </tr>\n",
       "    <tr>\n",
       "      <th>Outlet_Type</th>\n",
       "      <td>Outlet_Type</td>\n",
       "      <td>0.000000</td>\n",
       "    </tr>\n",
       "    <tr>\n",
       "      <th>Item_Outlet_Sales</th>\n",
       "      <td>Item_Outlet_Sales</td>\n",
       "      <td>0.000000</td>\n",
       "    </tr>\n",
       "  </tbody>\n",
       "</table>\n",
       "</div>"
      ],
      "text/plain": [
       "                                         column_name  percent_missing\n",
       "Item_Identifier                      Item_Identifier         0.000000\n",
       "Item_Weight                              Item_Weight        17.165317\n",
       "Item_Fat_Content                    Item_Fat_Content         0.000000\n",
       "Item_Visibility                      Item_Visibility         0.000000\n",
       "Item_Type                                  Item_Type         0.000000\n",
       "Item_MRP                                    Item_MRP         0.000000\n",
       "Outlet_Identifier                  Outlet_Identifier         0.000000\n",
       "Outlet_Establishment_Year  Outlet_Establishment_Year         0.000000\n",
       "Outlet_Size                              Outlet_Size        28.276428\n",
       "Outlet_Location_Type            Outlet_Location_Type         0.000000\n",
       "Outlet_Type                              Outlet_Type         0.000000\n",
       "Item_Outlet_Sales                  Item_Outlet_Sales         0.000000"
      ]
     },
     "execution_count": 7,
     "metadata": {},
     "output_type": "execute_result"
    }
   ],
   "source": [
    "missing_value_df"
   ]
  },
  {
   "cell_type": "markdown",
   "id": "b332e4ed",
   "metadata": {},
   "source": [
    "### Outlet size has 28% Null values and Item_Weight 17% Null values"
   ]
  },
  {
   "cell_type": "code",
   "execution_count": 8,
   "id": "334b5a09",
   "metadata": {},
   "outputs": [
    {
     "data": {
      "text/plain": [
       "count    7060.000000\n",
       "mean       12.857645\n",
       "std         4.643456\n",
       "min         4.555000\n",
       "25%         8.773750\n",
       "50%        12.600000\n",
       "75%        16.850000\n",
       "max        21.350000\n",
       "Name: Item_Weight, dtype: float64"
      ]
     },
     "execution_count": 8,
     "metadata": {},
     "output_type": "execute_result"
    }
   ],
   "source": [
    "df.Item_Weight.describe()"
   ]
  },
  {
   "cell_type": "code",
   "execution_count": 9,
   "id": "f9732f84",
   "metadata": {},
   "outputs": [
    {
     "data": {
      "text/plain": [
       "(array([483., 870., 865., 664., 779., 629., 755., 735., 677., 603.]),\n",
       " array([ 4.555 ,  6.2345,  7.914 ,  9.5935, 11.273 , 12.9525, 14.632 ,\n",
       "        16.3115, 17.991 , 19.6705, 21.35  ]),\n",
       " <BarContainer object of 10 artists>)"
      ]
     },
     "execution_count": 9,
     "metadata": {},
     "output_type": "execute_result"
    },
    {
     "data": {
      "image/png": "[encoded data removed]",
      "text/plain": [
       "<Figure size 432x288 with 1 Axes>"
      ]
     },
     "metadata": {
      "needs_background": "light"
     },
     "output_type": "display_data"
    }
   ],
   "source": [
    "plt.hist(df.Item_Weight)"
   ]
  },
  {
   "cell_type": "markdown",
   "id": "0eb0e2fb",
   "metadata": {},
   "source": [
    "#### Replacing null values in Item_Weight with mean value"
   ]
  },
  {
   "cell_type": "code",
   "execution_count": 10,
   "id": "d21e42d8",
   "metadata": {},
   "outputs": [
    {
     "data": {
      "text/plain": [
       "12.857645184136183"
      ]
     },
     "execution_count": 10,
     "metadata": {},
     "output_type": "execute_result"
    }
   ],
   "source": [
    "mean = df.Item_Weight.mean()\n",
    "mean"
   ]
  },
  {
   "cell_type": "code",
   "execution_count": 11,
   "id": "9a1fc2fd",
   "metadata": {},
   "outputs": [
    {
     "data": {
      "text/html": [
       "<div>\n",
       "<style scoped>\n",
       "    .dataframe tbody tr th:only-of-type {\n",
       "        vertical-align: middle;\n",
       "    }\n",
       "\n",
       "    .dataframe tbody tr th {\n",
       "        vertical-align: top;\n",
       "    }\n",
       "\n",
       "    .dataframe thead th {\n",
       "        text-align: right;\n",
       "    }\n",
       "</style>\n",
       "<table border=\"1\" class=\"dataframe\">\n",
       "  <thead>\n",
       "    <tr style=\"text-align: right;\">\n",
       "      <th></th>\n",
       "      <th>Item_Weight</th>\n",
       "      <th>Item_Visibility</th>\n",
       "      <th>Item_MRP</th>\n",
       "      <th>Outlet_Establishment_Year</th>\n",
       "      <th>Item_Outlet_Sales</th>\n",
       "    </tr>\n",
       "  </thead>\n",
       "  <tbody>\n",
       "    <tr>\n",
       "      <th>Item_Weight</th>\n",
       "      <td>1.000000</td>\n",
       "      <td>-0.014048</td>\n",
       "      <td>0.027141</td>\n",
       "      <td>-0.011588</td>\n",
       "      <td>0.014123</td>\n",
       "    </tr>\n",
       "    <tr>\n",
       "      <th>Item_Visibility</th>\n",
       "      <td>-0.014048</td>\n",
       "      <td>1.000000</td>\n",
       "      <td>-0.001315</td>\n",
       "      <td>-0.074834</td>\n",
       "      <td>-0.128625</td>\n",
       "    </tr>\n",
       "    <tr>\n",
       "      <th>Item_MRP</th>\n",
       "      <td>0.027141</td>\n",
       "      <td>-0.001315</td>\n",
       "      <td>1.000000</td>\n",
       "      <td>0.005020</td>\n",
       "      <td>0.567574</td>\n",
       "    </tr>\n",
       "    <tr>\n",
       "      <th>Outlet_Establishment_Year</th>\n",
       "      <td>-0.011588</td>\n",
       "      <td>-0.074834</td>\n",
       "      <td>0.005020</td>\n",
       "      <td>1.000000</td>\n",
       "      <td>-0.049135</td>\n",
       "    </tr>\n",
       "    <tr>\n",
       "      <th>Item_Outlet_Sales</th>\n",
       "      <td>0.014123</td>\n",
       "      <td>-0.128625</td>\n",
       "      <td>0.567574</td>\n",
       "      <td>-0.049135</td>\n",
       "      <td>1.000000</td>\n",
       "    </tr>\n",
       "  </tbody>\n",
       "</table>\n",
       "</div>"
      ],
      "text/plain": [
       "                           Item_Weight  Item_Visibility  Item_MRP  \\\n",
       "Item_Weight                   1.000000        -0.014048  0.027141   \n",
       "Item_Visibility              -0.014048         1.000000 -0.001315   \n",
       "Item_MRP                      0.027141        -0.001315  1.000000   \n",
       "Outlet_Establishment_Year    -0.011588        -0.074834  0.005020   \n",
       "Item_Outlet_Sales             0.014123        -0.128625  0.567574   \n",
       "\n",
       "                           Outlet_Establishment_Year  Item_Outlet_Sales  \n",
       "Item_Weight                                -0.011588           0.014123  \n",
       "Item_Visibility                            -0.074834          -0.128625  \n",
       "Item_MRP                                    0.005020           0.567574  \n",
       "Outlet_Establishment_Year                   1.000000          -0.049135  \n",
       "Item_Outlet_Sales                          -0.049135           1.000000  "
      ]
     },
     "execution_count": 11,
     "metadata": {},
     "output_type": "execute_result"
    }
   ],
   "source": [
    "df.corr()"
   ]
  },
  {
   "cell_type": "code",
   "execution_count": 12,
   "id": "32b84078",
   "metadata": {},
   "outputs": [],
   "source": [
    "df.Item_Weight = df.Item_Weight.fillna(mean)"
   ]
  },
  {
   "cell_type": "code",
   "execution_count": 13,
   "id": "17ebc271",
   "metadata": {},
   "outputs": [
    {
     "name": "stdout",
     "output_type": "stream",
     "text": [
      "<class 'pandas.core.frame.DataFrame'>\n",
      "RangeIndex: 8523 entries, 0 to 8522\n",
      "Data columns (total 12 columns):\n",
      " #   Column                     Non-Null Count  Dtype  \n",
      "---  ------                     --------------  -----  \n",
      " 0   Item_Identifier            8523 non-null   object \n",
      " 1   Item_Weight                8523 non-null   float64\n",
      " 2   Item_Fat_Content           8523 non-null   object \n",
      " 3   Item_Visibility            8523 non-null   float64\n",
      " 4   Item_Type                  8523 non-null   object \n",
      " 5   Item_MRP                   8523 non-null   float64\n",
      " 6   Outlet_Identifier          8523 non-null   object \n",
      " 7   Outlet_Establishment_Year  8523 non-null   int64  \n",
      " 8   Outlet_Size                6113 non-null   object \n",
      " 9   Outlet_Location_Type       8523 non-null   object \n",
      " 10  Outlet_Type                8523 non-null   object \n",
      " 11  Item_Outlet_Sales          8523 non-null   float64\n",
      "dtypes: float64(4), int64(1), object(7)\n",
      "memory usage: 799.2+ KB\n"
     ]
    }
   ],
   "source": [
    "df.info()"
   ]
  },
  {
   "cell_type": "code",
   "execution_count": 14,
   "id": "0d18b736",
   "metadata": {},
   "outputs": [
    {
     "data": {
      "text/plain": [
       "array(['Medium', nan, 'High', 'Small'], dtype=object)"
      ]
     },
     "execution_count": 14,
     "metadata": {},
     "output_type": "execute_result"
    }
   ],
   "source": [
    "df.Outlet_Size.unique()"
   ]
  },
  {
   "cell_type": "code",
   "execution_count": 15,
   "id": "ef31ddd9",
   "metadata": {},
   "outputs": [
    {
     "data": {
      "text/plain": [
       "<AxesSubplot:>"
      ]
     },
     "execution_count": 15,
     "metadata": {},
     "output_type": "execute_result"
    },
    {
     "data": {
      "image/png": "[encoded data removed]",
      "text/plain": [
       "<Figure size 432x288 with 1 Axes>"
      ]
     },
     "metadata": {
      "needs_background": "light"
     },
     "output_type": "display_data"
    }
   ],
   "source": [
    "df.Outlet_Size.value_counts().plot(kind = \"bar\")"
   ]
  },
  {
   "cell_type": "code",
   "execution_count": 16,
   "id": "3c0a9457",
   "metadata": {},
   "outputs": [],
   "source": [
    "dummy = df"
   ]
  },
  {
   "cell_type": "code",
   "execution_count": 17,
   "id": "8314793b",
   "metadata": {},
   "outputs": [],
   "source": [
    "dummy.Outlet_Size = dummy.Outlet_Size.fillna(1)"
   ]
  },
  {
   "cell_type": "code",
   "execution_count": 18,
   "id": "d30c9333",
   "metadata": {},
   "outputs": [
    {
     "data": {
      "text/plain": [
       "Item_Identifier              0\n",
       "Item_Weight                  0\n",
       "Item_Fat_Content             0\n",
       "Item_Visibility              0\n",
       "Item_Type                    0\n",
       "Item_MRP                     0\n",
       "Outlet_Identifier            0\n",
       "Outlet_Establishment_Year    0\n",
       "Outlet_Size                  0\n",
       "Outlet_Location_Type         0\n",
       "Outlet_Type                  0\n",
       "Item_Outlet_Sales            0\n",
       "dtype: int64"
      ]
     },
     "execution_count": 18,
     "metadata": {},
     "output_type": "execute_result"
    }
   ],
   "source": [
    "dummy.isnull().sum()"
   ]
  },
  {
   "cell_type": "code",
   "execution_count": 19,
   "id": "612fb0f7",
   "metadata": {},
   "outputs": [],
   "source": [
    "dummy1 = dummy[dummy.Outlet_Size==1]"
   ]
  },
  {
   "cell_type": "code",
   "execution_count": 20,
   "id": "bdfa47a8",
   "metadata": {},
   "outputs": [
    {
     "data": {
      "text/html": [
       "<div>\n",
       "<style scoped>\n",
       "    .dataframe tbody tr th:only-of-type {\n",
       "        vertical-align: middle;\n",
       "    }\n",
       "\n",
       "    .dataframe tbody tr th {\n",
       "        vertical-align: top;\n",
       "    }\n",
       "\n",
       "    .dataframe thead th {\n",
       "        text-align: right;\n",
       "    }\n",
       "</style>\n",
       "<table border=\"1\" class=\"dataframe\">\n",
       "  <thead>\n",
       "    <tr style=\"text-align: right;\">\n",
       "      <th></th>\n",
       "      <th>Item_Identifier</th>\n",
       "      <th>Item_Weight</th>\n",
       "      <th>Item_Fat_Content</th>\n",
       "      <th>Item_Visibility</th>\n",
       "      <th>Item_Type</th>\n",
       "      <th>Item_MRP</th>\n",
       "      <th>Outlet_Identifier</th>\n",
       "      <th>Outlet_Establishment_Year</th>\n",
       "      <th>Outlet_Size</th>\n",
       "      <th>Outlet_Location_Type</th>\n",
       "      <th>Outlet_Type</th>\n",
       "      <th>Item_Outlet_Sales</th>\n",
       "    </tr>\n",
       "  </thead>\n",
       "  <tbody>\n",
       "    <tr>\n",
       "      <th>3</th>\n",
       "      <td>FDX07</td>\n",
       "      <td>19.200</td>\n",
       "      <td>Regular</td>\n",
       "      <td>0.000000</td>\n",
       "      <td>Fruits and Vegetables</td>\n",
       "      <td>182.0950</td>\n",
       "      <td>OUT010</td>\n",
       "      <td>1998</td>\n",
       "      <td>1</td>\n",
       "      <td>Tier 3</td>\n",
       "      <td>Grocery Store</td>\n",
       "      <td>732.3800</td>\n",
       "    </tr>\n",
       "    <tr>\n",
       "      <th>8</th>\n",
       "      <td>FDH17</td>\n",
       "      <td>16.200</td>\n",
       "      <td>Regular</td>\n",
       "      <td>0.016687</td>\n",
       "      <td>Frozen Foods</td>\n",
       "      <td>96.9726</td>\n",
       "      <td>OUT045</td>\n",
       "      <td>2002</td>\n",
       "      <td>1</td>\n",
       "      <td>Tier 2</td>\n",
       "      <td>Supermarket Type1</td>\n",
       "      <td>1076.5986</td>\n",
       "    </tr>\n",
       "    <tr>\n",
       "      <th>9</th>\n",
       "      <td>FDU28</td>\n",
       "      <td>19.200</td>\n",
       "      <td>Regular</td>\n",
       "      <td>0.094450</td>\n",
       "      <td>Frozen Foods</td>\n",
       "      <td>187.8214</td>\n",
       "      <td>OUT017</td>\n",
       "      <td>2007</td>\n",
       "      <td>1</td>\n",
       "      <td>Tier 2</td>\n",
       "      <td>Supermarket Type1</td>\n",
       "      <td>4710.5350</td>\n",
       "    </tr>\n",
       "    <tr>\n",
       "      <th>25</th>\n",
       "      <td>NCD06</td>\n",
       "      <td>13.000</td>\n",
       "      <td>Low Fat</td>\n",
       "      <td>0.099887</td>\n",
       "      <td>Household</td>\n",
       "      <td>45.9060</td>\n",
       "      <td>OUT017</td>\n",
       "      <td>2007</td>\n",
       "      <td>1</td>\n",
       "      <td>Tier 2</td>\n",
       "      <td>Supermarket Type1</td>\n",
       "      <td>838.9080</td>\n",
       "    </tr>\n",
       "    <tr>\n",
       "      <th>28</th>\n",
       "      <td>FDE51</td>\n",
       "      <td>5.925</td>\n",
       "      <td>Regular</td>\n",
       "      <td>0.161467</td>\n",
       "      <td>Dairy</td>\n",
       "      <td>45.5086</td>\n",
       "      <td>OUT010</td>\n",
       "      <td>1998</td>\n",
       "      <td>1</td>\n",
       "      <td>Tier 3</td>\n",
       "      <td>Grocery Store</td>\n",
       "      <td>178.4344</td>\n",
       "    </tr>\n",
       "    <tr>\n",
       "      <th>...</th>\n",
       "      <td>...</td>\n",
       "      <td>...</td>\n",
       "      <td>...</td>\n",
       "      <td>...</td>\n",
       "      <td>...</td>\n",
       "      <td>...</td>\n",
       "      <td>...</td>\n",
       "      <td>...</td>\n",
       "      <td>...</td>\n",
       "      <td>...</td>\n",
       "      <td>...</td>\n",
       "      <td>...</td>\n",
       "    </tr>\n",
       "    <tr>\n",
       "      <th>8502</th>\n",
       "      <td>NCH43</td>\n",
       "      <td>8.420</td>\n",
       "      <td>Low Fat</td>\n",
       "      <td>0.070712</td>\n",
       "      <td>Household</td>\n",
       "      <td>216.4192</td>\n",
       "      <td>OUT045</td>\n",
       "      <td>2002</td>\n",
       "      <td>1</td>\n",
       "      <td>Tier 2</td>\n",
       "      <td>Supermarket Type1</td>\n",
       "      <td>3020.0688</td>\n",
       "    </tr>\n",
       "    <tr>\n",
       "      <th>8508</th>\n",
       "      <td>FDW31</td>\n",
       "      <td>11.350</td>\n",
       "      <td>Regular</td>\n",
       "      <td>0.043246</td>\n",
       "      <td>Fruits and Vegetables</td>\n",
       "      <td>199.4742</td>\n",
       "      <td>OUT045</td>\n",
       "      <td>2002</td>\n",
       "      <td>1</td>\n",
       "      <td>Tier 2</td>\n",
       "      <td>Supermarket Type1</td>\n",
       "      <td>2587.9646</td>\n",
       "    </tr>\n",
       "    <tr>\n",
       "      <th>8509</th>\n",
       "      <td>FDG45</td>\n",
       "      <td>8.100</td>\n",
       "      <td>Low Fat</td>\n",
       "      <td>0.214306</td>\n",
       "      <td>Fruits and Vegetables</td>\n",
       "      <td>213.9902</td>\n",
       "      <td>OUT010</td>\n",
       "      <td>1998</td>\n",
       "      <td>1</td>\n",
       "      <td>Tier 3</td>\n",
       "      <td>Grocery Store</td>\n",
       "      <td>424.7804</td>\n",
       "    </tr>\n",
       "    <tr>\n",
       "      <th>8514</th>\n",
       "      <td>FDA01</td>\n",
       "      <td>15.000</td>\n",
       "      <td>Regular</td>\n",
       "      <td>0.054489</td>\n",
       "      <td>Canned</td>\n",
       "      <td>57.5904</td>\n",
       "      <td>OUT045</td>\n",
       "      <td>2002</td>\n",
       "      <td>1</td>\n",
       "      <td>Tier 2</td>\n",
       "      <td>Supermarket Type1</td>\n",
       "      <td>468.7232</td>\n",
       "    </tr>\n",
       "    <tr>\n",
       "      <th>8519</th>\n",
       "      <td>FDS36</td>\n",
       "      <td>8.380</td>\n",
       "      <td>Regular</td>\n",
       "      <td>0.046982</td>\n",
       "      <td>Baking Goods</td>\n",
       "      <td>108.1570</td>\n",
       "      <td>OUT045</td>\n",
       "      <td>2002</td>\n",
       "      <td>1</td>\n",
       "      <td>Tier 2</td>\n",
       "      <td>Supermarket Type1</td>\n",
       "      <td>549.2850</td>\n",
       "    </tr>\n",
       "  </tbody>\n",
       "</table>\n",
       "<p>2410 rows × 12 columns</p>\n",
       "</div>"
      ],
      "text/plain": [
       "     Item_Identifier  Item_Weight Item_Fat_Content  Item_Visibility  \\\n",
       "3              FDX07       19.200          Regular         0.000000   \n",
       "8              FDH17       16.200          Regular         0.016687   \n",
       "9              FDU28       19.200          Regular         0.094450   \n",
       "25             NCD06       13.000          Low Fat         0.099887   \n",
       "28             FDE51        5.925          Regular         0.161467   \n",
       "...              ...          ...              ...              ...   \n",
       "8502           NCH43        8.420          Low Fat         0.070712   \n",
       "8508           FDW31       11.350          Regular         0.043246   \n",
       "8509           FDG45        8.100          Low Fat         0.214306   \n",
       "8514           FDA01       15.000          Regular         0.054489   \n",
       "8519           FDS36        8.380          Regular         0.046982   \n",
       "\n",
       "                  Item_Type  Item_MRP Outlet_Identifier  \\\n",
       "3     Fruits and Vegetables  182.0950            OUT010   \n",
       "8              Frozen Foods   96.9726            OUT045   \n",
       "9              Frozen Foods  187.8214            OUT017   \n",
       "25                Household   45.9060            OUT017   \n",
       "28                    Dairy   45.5086            OUT010   \n",
       "...                     ...       ...               ...   \n",
       "8502              Household  216.4192            OUT045   \n",
       "8508  Fruits and Vegetables  199.4742            OUT045   \n",
       "8509  Fruits and Vegetables  213.9902            OUT010   \n",
       "8514                 Canned   57.5904            OUT045   \n",
       "8519           Baking Goods  108.1570            OUT045   \n",
       "\n",
       "      Outlet_Establishment_Year Outlet_Size Outlet_Location_Type  \\\n",
       "3                          1998           1               Tier 3   \n",
       "8                          2002           1               Tier 2   \n",
       "9                          2007           1               Tier 2   \n",
       "25                         2007           1               Tier 2   \n",
       "28                         1998           1               Tier 3   \n",
       "...                         ...         ...                  ...   \n",
       "8502                       2002           1               Tier 2   \n",
       "8508                       2002           1               Tier 2   \n",
       "8509                       1998           1               Tier 3   \n",
       "8514                       2002           1               Tier 2   \n",
       "8519                       2002           1               Tier 2   \n",
       "\n",
       "            Outlet_Type  Item_Outlet_Sales  \n",
       "3         Grocery Store           732.3800  \n",
       "8     Supermarket Type1          1076.5986  \n",
       "9     Supermarket Type1          4710.5350  \n",
       "25    Supermarket Type1           838.9080  \n",
       "28        Grocery Store           178.4344  \n",
       "...                 ...                ...  \n",
       "8502  Supermarket Type1          3020.0688  \n",
       "8508  Supermarket Type1          2587.9646  \n",
       "8509      Grocery Store           424.7804  \n",
       "8514  Supermarket Type1           468.7232  \n",
       "8519  Supermarket Type1           549.2850  \n",
       "\n",
       "[2410 rows x 12 columns]"
      ]
     },
     "execution_count": 20,
     "metadata": {},
     "output_type": "execute_result"
    }
   ],
   "source": [
    "dummy1 "
   ]
  },
  {
   "cell_type": "code",
   "execution_count": 21,
   "id": "19b92162",
   "metadata": {},
   "outputs": [
    {
     "data": {
      "text/plain": [
       "Item_Identifier              1393\n",
       "Item_Weight                   393\n",
       "Item_Fat_Content                5\n",
       "Item_Visibility              2240\n",
       "Item_Type                      16\n",
       "Item_MRP                     2178\n",
       "Outlet_Identifier               3\n",
       "Outlet_Establishment_Year       3\n",
       "Outlet_Size                     1\n",
       "Outlet_Location_Type            2\n",
       "Outlet_Type                     2\n",
       "Item_Outlet_Sales            1627\n",
       "dtype: int64"
      ]
     },
     "execution_count": 21,
     "metadata": {},
     "output_type": "execute_result"
    }
   ],
   "source": [
    "dummy1.nunique()"
   ]
  },
  {
   "cell_type": "code",
   "execution_count": 22,
   "id": "7e737f51",
   "metadata": {},
   "outputs": [
    {
     "data": {
      "text/plain": [
       "array(['OUT010', 'OUT045', 'OUT017'], dtype=object)"
      ]
     },
     "execution_count": 22,
     "metadata": {},
     "output_type": "execute_result"
    }
   ],
   "source": [
    "dummy1.Outlet_Identifier.unique()"
   ]
  },
  {
   "cell_type": "code",
   "execution_count": 23,
   "id": "87fd9de2",
   "metadata": {},
   "outputs": [
    {
     "data": {
      "text/plain": [
       "array([1998, 2002, 2007], dtype=int64)"
      ]
     },
     "execution_count": 23,
     "metadata": {},
     "output_type": "execute_result"
    }
   ],
   "source": [
    "dummy1.Outlet_Establishment_Year.unique()"
   ]
  },
  {
   "cell_type": "markdown",
   "id": "fa75624a",
   "metadata": {},
   "source": [
    "### For missing values on Outlet_Size we will replace the value based on Outlet_Location_Type mode values"
   ]
  },
  {
   "cell_type": "code",
   "execution_count": 24,
   "id": "f1be6ef1",
   "metadata": {},
   "outputs": [],
   "source": [
    "dummy1 = df[df.Outlet_Location_Type==\"Tier 3\"]"
   ]
  },
  {
   "cell_type": "code",
   "execution_count": 25,
   "id": "0dff085c",
   "metadata": {},
   "outputs": [
    {
     "data": {
      "text/html": [
       "<div>\n",
       "<style scoped>\n",
       "    .dataframe tbody tr th:only-of-type {\n",
       "        vertical-align: middle;\n",
       "    }\n",
       "\n",
       "    .dataframe tbody tr th {\n",
       "        vertical-align: top;\n",
       "    }\n",
       "\n",
       "    .dataframe thead th {\n",
       "        text-align: right;\n",
       "    }\n",
       "</style>\n",
       "<table border=\"1\" class=\"dataframe\">\n",
       "  <thead>\n",
       "    <tr style=\"text-align: right;\">\n",
       "      <th></th>\n",
       "      <th>Item_Identifier</th>\n",
       "      <th>Item_Weight</th>\n",
       "      <th>Item_Fat_Content</th>\n",
       "      <th>Item_Visibility</th>\n",
       "      <th>Item_Type</th>\n",
       "      <th>Item_MRP</th>\n",
       "      <th>Outlet_Identifier</th>\n",
       "      <th>Outlet_Establishment_Year</th>\n",
       "      <th>Outlet_Size</th>\n",
       "      <th>Outlet_Location_Type</th>\n",
       "      <th>Outlet_Type</th>\n",
       "      <th>Item_Outlet_Sales</th>\n",
       "    </tr>\n",
       "  </thead>\n",
       "  <tbody>\n",
       "    <tr>\n",
       "      <th>1</th>\n",
       "      <td>DRC01</td>\n",
       "      <td>5.920</td>\n",
       "      <td>Regular</td>\n",
       "      <td>0.019278</td>\n",
       "      <td>Soft Drinks</td>\n",
       "      <td>48.2692</td>\n",
       "      <td>OUT018</td>\n",
       "      <td>2009</td>\n",
       "      <td>Medium</td>\n",
       "      <td>Tier 3</td>\n",
       "      <td>Supermarket Type2</td>\n",
       "      <td>443.4228</td>\n",
       "    </tr>\n",
       "    <tr>\n",
       "      <th>3</th>\n",
       "      <td>FDX07</td>\n",
       "      <td>19.200</td>\n",
       "      <td>Regular</td>\n",
       "      <td>0.000000</td>\n",
       "      <td>Fruits and Vegetables</td>\n",
       "      <td>182.0950</td>\n",
       "      <td>OUT010</td>\n",
       "      <td>1998</td>\n",
       "      <td>1</td>\n",
       "      <td>Tier 3</td>\n",
       "      <td>Grocery Store</td>\n",
       "      <td>732.3800</td>\n",
       "    </tr>\n",
       "    <tr>\n",
       "      <th>4</th>\n",
       "      <td>NCD19</td>\n",
       "      <td>8.930</td>\n",
       "      <td>Low Fat</td>\n",
       "      <td>0.000000</td>\n",
       "      <td>Household</td>\n",
       "      <td>53.8614</td>\n",
       "      <td>OUT013</td>\n",
       "      <td>1987</td>\n",
       "      <td>High</td>\n",
       "      <td>Tier 3</td>\n",
       "      <td>Supermarket Type1</td>\n",
       "      <td>994.7052</td>\n",
       "    </tr>\n",
       "    <tr>\n",
       "      <th>5</th>\n",
       "      <td>FDP36</td>\n",
       "      <td>10.395</td>\n",
       "      <td>Regular</td>\n",
       "      <td>0.000000</td>\n",
       "      <td>Baking Goods</td>\n",
       "      <td>51.4008</td>\n",
       "      <td>OUT018</td>\n",
       "      <td>2009</td>\n",
       "      <td>Medium</td>\n",
       "      <td>Tier 3</td>\n",
       "      <td>Supermarket Type2</td>\n",
       "      <td>556.6088</td>\n",
       "    </tr>\n",
       "    <tr>\n",
       "      <th>6</th>\n",
       "      <td>FDO10</td>\n",
       "      <td>13.650</td>\n",
       "      <td>Regular</td>\n",
       "      <td>0.012741</td>\n",
       "      <td>Snack Foods</td>\n",
       "      <td>57.6588</td>\n",
       "      <td>OUT013</td>\n",
       "      <td>1987</td>\n",
       "      <td>High</td>\n",
       "      <td>Tier 3</td>\n",
       "      <td>Supermarket Type1</td>\n",
       "      <td>343.5528</td>\n",
       "    </tr>\n",
       "    <tr>\n",
       "      <th>...</th>\n",
       "      <td>...</td>\n",
       "      <td>...</td>\n",
       "      <td>...</td>\n",
       "      <td>...</td>\n",
       "      <td>...</td>\n",
       "      <td>...</td>\n",
       "      <td>...</td>\n",
       "      <td>...</td>\n",
       "      <td>...</td>\n",
       "      <td>...</td>\n",
       "      <td>...</td>\n",
       "      <td>...</td>\n",
       "    </tr>\n",
       "    <tr>\n",
       "      <th>8512</th>\n",
       "      <td>FDR26</td>\n",
       "      <td>20.700</td>\n",
       "      <td>Low Fat</td>\n",
       "      <td>0.042801</td>\n",
       "      <td>Dairy</td>\n",
       "      <td>178.3028</td>\n",
       "      <td>OUT013</td>\n",
       "      <td>1987</td>\n",
       "      <td>High</td>\n",
       "      <td>Tier 3</td>\n",
       "      <td>Supermarket Type1</td>\n",
       "      <td>2479.4392</td>\n",
       "    </tr>\n",
       "    <tr>\n",
       "      <th>8515</th>\n",
       "      <td>FDH24</td>\n",
       "      <td>20.700</td>\n",
       "      <td>Low Fat</td>\n",
       "      <td>0.021518</td>\n",
       "      <td>Baking Goods</td>\n",
       "      <td>157.5288</td>\n",
       "      <td>OUT018</td>\n",
       "      <td>2009</td>\n",
       "      <td>Medium</td>\n",
       "      <td>Tier 3</td>\n",
       "      <td>Supermarket Type2</td>\n",
       "      <td>1571.2880</td>\n",
       "    </tr>\n",
       "    <tr>\n",
       "      <th>8516</th>\n",
       "      <td>NCJ19</td>\n",
       "      <td>18.600</td>\n",
       "      <td>Low Fat</td>\n",
       "      <td>0.118661</td>\n",
       "      <td>Others</td>\n",
       "      <td>58.7588</td>\n",
       "      <td>OUT018</td>\n",
       "      <td>2009</td>\n",
       "      <td>Medium</td>\n",
       "      <td>Tier 3</td>\n",
       "      <td>Supermarket Type2</td>\n",
       "      <td>858.8820</td>\n",
       "    </tr>\n",
       "    <tr>\n",
       "      <th>8518</th>\n",
       "      <td>FDF22</td>\n",
       "      <td>6.865</td>\n",
       "      <td>Low Fat</td>\n",
       "      <td>0.056783</td>\n",
       "      <td>Snack Foods</td>\n",
       "      <td>214.5218</td>\n",
       "      <td>OUT013</td>\n",
       "      <td>1987</td>\n",
       "      <td>High</td>\n",
       "      <td>Tier 3</td>\n",
       "      <td>Supermarket Type1</td>\n",
       "      <td>2778.3834</td>\n",
       "    </tr>\n",
       "    <tr>\n",
       "      <th>8521</th>\n",
       "      <td>FDN46</td>\n",
       "      <td>7.210</td>\n",
       "      <td>Regular</td>\n",
       "      <td>0.145221</td>\n",
       "      <td>Snack Foods</td>\n",
       "      <td>103.1332</td>\n",
       "      <td>OUT018</td>\n",
       "      <td>2009</td>\n",
       "      <td>Medium</td>\n",
       "      <td>Tier 3</td>\n",
       "      <td>Supermarket Type2</td>\n",
       "      <td>1845.5976</td>\n",
       "    </tr>\n",
       "  </tbody>\n",
       "</table>\n",
       "<p>3350 rows × 12 columns</p>\n",
       "</div>"
      ],
      "text/plain": [
       "     Item_Identifier  Item_Weight Item_Fat_Content  Item_Visibility  \\\n",
       "1              DRC01        5.920          Regular         0.019278   \n",
       "3              FDX07       19.200          Regular         0.000000   \n",
       "4              NCD19        8.930          Low Fat         0.000000   \n",
       "5              FDP36       10.395          Regular         0.000000   \n",
       "6              FDO10       13.650          Regular         0.012741   \n",
       "...              ...          ...              ...              ...   \n",
       "8512           FDR26       20.700          Low Fat         0.042801   \n",
       "8515           FDH24       20.700          Low Fat         0.021518   \n",
       "8516           NCJ19       18.600          Low Fat         0.118661   \n",
       "8518           FDF22        6.865          Low Fat         0.056783   \n",
       "8521           FDN46        7.210          Regular         0.145221   \n",
       "\n",
       "                  Item_Type  Item_MRP Outlet_Identifier  \\\n",
       "1               Soft Drinks   48.2692            OUT018   \n",
       "3     Fruits and Vegetables  182.0950            OUT010   \n",
       "4                 Household   53.8614            OUT013   \n",
       "5              Baking Goods   51.4008            OUT018   \n",
       "6               Snack Foods   57.6588            OUT013   \n",
       "...                     ...       ...               ...   \n",
       "8512                  Dairy  178.3028            OUT013   \n",
       "8515           Baking Goods  157.5288            OUT018   \n",
       "8516                 Others   58.7588            OUT018   \n",
       "8518            Snack Foods  214.5218            OUT013   \n",
       "8521            Snack Foods  103.1332            OUT018   \n",
       "\n",
       "      Outlet_Establishment_Year Outlet_Size Outlet_Location_Type  \\\n",
       "1                          2009      Medium               Tier 3   \n",
       "3                          1998           1               Tier 3   \n",
       "4                          1987        High               Tier 3   \n",
       "5                          2009      Medium               Tier 3   \n",
       "6                          1987        High               Tier 3   \n",
       "...                         ...         ...                  ...   \n",
       "8512                       1987        High               Tier 3   \n",
       "8515                       2009      Medium               Tier 3   \n",
       "8516                       2009      Medium               Tier 3   \n",
       "8518                       1987        High               Tier 3   \n",
       "8521                       2009      Medium               Tier 3   \n",
       "\n",
       "            Outlet_Type  Item_Outlet_Sales  \n",
       "1     Supermarket Type2           443.4228  \n",
       "3         Grocery Store           732.3800  \n",
       "4     Supermarket Type1           994.7052  \n",
       "5     Supermarket Type2           556.6088  \n",
       "6     Supermarket Type1           343.5528  \n",
       "...                 ...                ...  \n",
       "8512  Supermarket Type1          2479.4392  \n",
       "8515  Supermarket Type2          1571.2880  \n",
       "8516  Supermarket Type2           858.8820  \n",
       "8518  Supermarket Type1          2778.3834  \n",
       "8521  Supermarket Type2          1845.5976  \n",
       "\n",
       "[3350 rows x 12 columns]"
      ]
     },
     "execution_count": 25,
     "metadata": {},
     "output_type": "execute_result"
    }
   ],
   "source": [
    "dummy1 "
   ]
  },
  {
   "cell_type": "code",
   "execution_count": 26,
   "id": "1c6da7ad",
   "metadata": {},
   "outputs": [
    {
     "data": {
      "text/plain": [
       "Medium    1863\n",
       "High       932\n",
       "1          555\n",
       "Name: Outlet_Size, dtype: int64"
      ]
     },
     "execution_count": 26,
     "metadata": {},
     "output_type": "execute_result"
    }
   ],
   "source": [
    "dummy1.Outlet_Size.value_counts()"
   ]
  },
  {
   "cell_type": "code",
   "execution_count": 27,
   "id": "2ffd34f4",
   "metadata": {},
   "outputs": [
    {
     "data": {
      "text/plain": [
       "array(['OUT010'], dtype=object)"
      ]
     },
     "execution_count": 27,
     "metadata": {},
     "output_type": "execute_result"
    }
   ],
   "source": [
    "dummy1[dummy1.Outlet_Size==1].Outlet_Identifier.unique()"
   ]
  },
  {
   "cell_type": "code",
   "execution_count": 28,
   "id": "00726e32",
   "metadata": {},
   "outputs": [],
   "source": [
    "dummy2 = df[df.Outlet_Location_Type==\"Tier 2\"]"
   ]
  },
  {
   "cell_type": "code",
   "execution_count": 29,
   "id": "3dc55f83",
   "metadata": {},
   "outputs": [
    {
     "data": {
      "text/plain": [
       "1        1855\n",
       "Small     930\n",
       "Name: Outlet_Size, dtype: int64"
      ]
     },
     "execution_count": 29,
     "metadata": {},
     "output_type": "execute_result"
    }
   ],
   "source": [
    "dummy2.Outlet_Size.value_counts()"
   ]
  },
  {
   "cell_type": "code",
   "execution_count": 30,
   "id": "fed9b13e",
   "metadata": {},
   "outputs": [
    {
     "data": {
      "text/plain": [
       "OUT035    930\n",
       "OUT045    929\n",
       "OUT017    926\n",
       "Name: Outlet_Identifier, dtype: int64"
      ]
     },
     "execution_count": 30,
     "metadata": {},
     "output_type": "execute_result"
    }
   ],
   "source": [
    "dummy2.Outlet_Identifier.value_counts()"
   ]
  },
  {
   "cell_type": "code",
   "execution_count": 31,
   "id": "cc820486",
   "metadata": {},
   "outputs": [],
   "source": [
    "for i in df.Outlet_Identifier:\n",
    "    if i == \"OUT035\":\n",
    "        df['Outlet_Size'] = df['Outlet_Size'].replace([1],'Small')\n",
    "    elif i == \"OUT045\":\n",
    "        df['Outlet_Size'] = df['Outlet_Size'].replace([1],'Small')\n",
    "    elif i == \"OUT017\":\n",
    "        df['Outlet_Size'] = df['Outlet_Size'].replace([1],'Small')\n",
    "    elif i == \"OUT010\":\n",
    "        df['Outlet_Size'] = df['Outlet_Size'].replace([1],'Medium')"
   ]
  },
  {
   "cell_type": "code",
   "execution_count": 32,
   "id": "5fa54bcf",
   "metadata": {},
   "outputs": [],
   "source": [
    "for i in df.Outlet_Identifier:\n",
    "    if i == \"OUT010\":\n",
    "        df['Outlet_Size'] = df['Outlet_Size'].replace([\"Small\"],'Medium')"
   ]
  },
  {
   "cell_type": "code",
   "execution_count": 33,
   "id": "418f216c",
   "metadata": {},
   "outputs": [
    {
     "data": {
      "text/html": [
       "<div>\n",
       "<style scoped>\n",
       "    .dataframe tbody tr th:only-of-type {\n",
       "        vertical-align: middle;\n",
       "    }\n",
       "\n",
       "    .dataframe tbody tr th {\n",
       "        vertical-align: top;\n",
       "    }\n",
       "\n",
       "    .dataframe thead th {\n",
       "        text-align: right;\n",
       "    }\n",
       "</style>\n",
       "<table border=\"1\" class=\"dataframe\">\n",
       "  <thead>\n",
       "    <tr style=\"text-align: right;\">\n",
       "      <th></th>\n",
       "      <th>Item_Identifier</th>\n",
       "      <th>Item_Weight</th>\n",
       "      <th>Item_Fat_Content</th>\n",
       "      <th>Item_Visibility</th>\n",
       "      <th>Item_Type</th>\n",
       "      <th>Item_MRP</th>\n",
       "      <th>Outlet_Identifier</th>\n",
       "      <th>Outlet_Establishment_Year</th>\n",
       "      <th>Outlet_Size</th>\n",
       "      <th>Outlet_Location_Type</th>\n",
       "      <th>Outlet_Type</th>\n",
       "      <th>Item_Outlet_Sales</th>\n",
       "    </tr>\n",
       "  </thead>\n",
       "  <tbody>\n",
       "    <tr>\n",
       "      <th>3</th>\n",
       "      <td>FDX07</td>\n",
       "      <td>19.200</td>\n",
       "      <td>Regular</td>\n",
       "      <td>0.000000</td>\n",
       "      <td>Fruits and Vegetables</td>\n",
       "      <td>182.0950</td>\n",
       "      <td>OUT010</td>\n",
       "      <td>1998</td>\n",
       "      <td>Medium</td>\n",
       "      <td>Tier 3</td>\n",
       "      <td>Grocery Store</td>\n",
       "      <td>732.3800</td>\n",
       "    </tr>\n",
       "    <tr>\n",
       "      <th>28</th>\n",
       "      <td>FDE51</td>\n",
       "      <td>5.925</td>\n",
       "      <td>Regular</td>\n",
       "      <td>0.161467</td>\n",
       "      <td>Dairy</td>\n",
       "      <td>45.5086</td>\n",
       "      <td>OUT010</td>\n",
       "      <td>1998</td>\n",
       "      <td>Medium</td>\n",
       "      <td>Tier 3</td>\n",
       "      <td>Grocery Store</td>\n",
       "      <td>178.4344</td>\n",
       "    </tr>\n",
       "    <tr>\n",
       "      <th>30</th>\n",
       "      <td>FDV38</td>\n",
       "      <td>19.250</td>\n",
       "      <td>Low Fat</td>\n",
       "      <td>0.170349</td>\n",
       "      <td>Dairy</td>\n",
       "      <td>55.7956</td>\n",
       "      <td>OUT010</td>\n",
       "      <td>1998</td>\n",
       "      <td>Medium</td>\n",
       "      <td>Tier 3</td>\n",
       "      <td>Grocery Store</td>\n",
       "      <td>163.7868</td>\n",
       "    </tr>\n",
       "    <tr>\n",
       "      <th>45</th>\n",
       "      <td>FDM39</td>\n",
       "      <td>6.420</td>\n",
       "      <td>LF</td>\n",
       "      <td>0.089499</td>\n",
       "      <td>Dairy</td>\n",
       "      <td>178.1002</td>\n",
       "      <td>OUT010</td>\n",
       "      <td>1998</td>\n",
       "      <td>Medium</td>\n",
       "      <td>Tier 3</td>\n",
       "      <td>Grocery Store</td>\n",
       "      <td>358.2004</td>\n",
       "    </tr>\n",
       "    <tr>\n",
       "      <th>65</th>\n",
       "      <td>FDC46</td>\n",
       "      <td>17.700</td>\n",
       "      <td>LF</td>\n",
       "      <td>0.195068</td>\n",
       "      <td>Snack Foods</td>\n",
       "      <td>185.4266</td>\n",
       "      <td>OUT010</td>\n",
       "      <td>1998</td>\n",
       "      <td>Medium</td>\n",
       "      <td>Tier 3</td>\n",
       "      <td>Grocery Store</td>\n",
       "      <td>184.4266</td>\n",
       "    </tr>\n",
       "    <tr>\n",
       "      <th>...</th>\n",
       "      <td>...</td>\n",
       "      <td>...</td>\n",
       "      <td>...</td>\n",
       "      <td>...</td>\n",
       "      <td>...</td>\n",
       "      <td>...</td>\n",
       "      <td>...</td>\n",
       "      <td>...</td>\n",
       "      <td>...</td>\n",
       "      <td>...</td>\n",
       "      <td>...</td>\n",
       "      <td>...</td>\n",
       "    </tr>\n",
       "    <tr>\n",
       "      <th>8400</th>\n",
       "      <td>NCE07</td>\n",
       "      <td>8.180</td>\n",
       "      <td>Low Fat</td>\n",
       "      <td>0.021977</td>\n",
       "      <td>Household</td>\n",
       "      <td>140.6154</td>\n",
       "      <td>OUT010</td>\n",
       "      <td>1998</td>\n",
       "      <td>Medium</td>\n",
       "      <td>Tier 3</td>\n",
       "      <td>Grocery Store</td>\n",
       "      <td>425.4462</td>\n",
       "    </tr>\n",
       "    <tr>\n",
       "      <th>8432</th>\n",
       "      <td>FDI16</td>\n",
       "      <td>14.000</td>\n",
       "      <td>Regular</td>\n",
       "      <td>0.227261</td>\n",
       "      <td>Frozen Foods</td>\n",
       "      <td>54.3640</td>\n",
       "      <td>OUT010</td>\n",
       "      <td>1998</td>\n",
       "      <td>Medium</td>\n",
       "      <td>Tier 3</td>\n",
       "      <td>Grocery Store</td>\n",
       "      <td>159.7920</td>\n",
       "    </tr>\n",
       "    <tr>\n",
       "      <th>8473</th>\n",
       "      <td>DRI47</td>\n",
       "      <td>14.700</td>\n",
       "      <td>Low Fat</td>\n",
       "      <td>0.035016</td>\n",
       "      <td>Hard Drinks</td>\n",
       "      <td>144.3128</td>\n",
       "      <td>OUT010</td>\n",
       "      <td>1998</td>\n",
       "      <td>Medium</td>\n",
       "      <td>Tier 3</td>\n",
       "      <td>Grocery Store</td>\n",
       "      <td>431.4384</td>\n",
       "    </tr>\n",
       "    <tr>\n",
       "      <th>8486</th>\n",
       "      <td>FDR20</td>\n",
       "      <td>20.000</td>\n",
       "      <td>Regular</td>\n",
       "      <td>0.000000</td>\n",
       "      <td>Fruits and Vegetables</td>\n",
       "      <td>46.4744</td>\n",
       "      <td>OUT010</td>\n",
       "      <td>1998</td>\n",
       "      <td>Medium</td>\n",
       "      <td>Tier 3</td>\n",
       "      <td>Grocery Store</td>\n",
       "      <td>45.2744</td>\n",
       "    </tr>\n",
       "    <tr>\n",
       "      <th>8509</th>\n",
       "      <td>FDG45</td>\n",
       "      <td>8.100</td>\n",
       "      <td>Low Fat</td>\n",
       "      <td>0.214306</td>\n",
       "      <td>Fruits and Vegetables</td>\n",
       "      <td>213.9902</td>\n",
       "      <td>OUT010</td>\n",
       "      <td>1998</td>\n",
       "      <td>Medium</td>\n",
       "      <td>Tier 3</td>\n",
       "      <td>Grocery Store</td>\n",
       "      <td>424.7804</td>\n",
       "    </tr>\n",
       "  </tbody>\n",
       "</table>\n",
       "<p>555 rows × 12 columns</p>\n",
       "</div>"
      ],
      "text/plain": [
       "     Item_Identifier  Item_Weight Item_Fat_Content  Item_Visibility  \\\n",
       "3              FDX07       19.200          Regular         0.000000   \n",
       "28             FDE51        5.925          Regular         0.161467   \n",
       "30             FDV38       19.250          Low Fat         0.170349   \n",
       "45             FDM39        6.420               LF         0.089499   \n",
       "65             FDC46       17.700               LF         0.195068   \n",
       "...              ...          ...              ...              ...   \n",
       "8400           NCE07        8.180          Low Fat         0.021977   \n",
       "8432           FDI16       14.000          Regular         0.227261   \n",
       "8473           DRI47       14.700          Low Fat         0.035016   \n",
       "8486           FDR20       20.000          Regular         0.000000   \n",
       "8509           FDG45        8.100          Low Fat         0.214306   \n",
       "\n",
       "                  Item_Type  Item_MRP Outlet_Identifier  \\\n",
       "3     Fruits and Vegetables  182.0950            OUT010   \n",
       "28                    Dairy   45.5086            OUT010   \n",
       "30                    Dairy   55.7956            OUT010   \n",
       "45                    Dairy  178.1002            OUT010   \n",
       "65              Snack Foods  185.4266            OUT010   \n",
       "...                     ...       ...               ...   \n",
       "8400              Household  140.6154            OUT010   \n",
       "8432           Frozen Foods   54.3640            OUT010   \n",
       "8473            Hard Drinks  144.3128            OUT010   \n",
       "8486  Fruits and Vegetables   46.4744            OUT010   \n",
       "8509  Fruits and Vegetables  213.9902            OUT010   \n",
       "\n",
       "      Outlet_Establishment_Year Outlet_Size Outlet_Location_Type  \\\n",
       "3                          1998      Medium               Tier 3   \n",
       "28                         1998      Medium               Tier 3   \n",
       "30                         1998      Medium               Tier 3   \n",
       "45                         1998      Medium               Tier 3   \n",
       "65                         1998      Medium               Tier 3   \n",
       "...                         ...         ...                  ...   \n",
       "8400                       1998      Medium               Tier 3   \n",
       "8432                       1998      Medium               Tier 3   \n",
       "8473                       1998      Medium               Tier 3   \n",
       "8486                       1998      Medium               Tier 3   \n",
       "8509                       1998      Medium               Tier 3   \n",
       "\n",
       "        Outlet_Type  Item_Outlet_Sales  \n",
       "3     Grocery Store           732.3800  \n",
       "28    Grocery Store           178.4344  \n",
       "30    Grocery Store           163.7868  \n",
       "45    Grocery Store           358.2004  \n",
       "65    Grocery Store           184.4266  \n",
       "...             ...                ...  \n",
       "8400  Grocery Store           425.4462  \n",
       "8432  Grocery Store           159.7920  \n",
       "8473  Grocery Store           431.4384  \n",
       "8486  Grocery Store            45.2744  \n",
       "8509  Grocery Store           424.7804  \n",
       "\n",
       "[555 rows x 12 columns]"
      ]
     },
     "execution_count": 33,
     "metadata": {},
     "output_type": "execute_result"
    }
   ],
   "source": [
    "df[df.Outlet_Identifier==\"OUT010\"]"
   ]
  },
  {
   "cell_type": "code",
   "execution_count": 34,
   "id": "9c53ac32",
   "metadata": {},
   "outputs": [
    {
     "data": {
      "text/plain": [
       "Item_Identifier              0\n",
       "Item_Weight                  0\n",
       "Item_Fat_Content             0\n",
       "Item_Visibility              0\n",
       "Item_Type                    0\n",
       "Item_MRP                     0\n",
       "Outlet_Identifier            0\n",
       "Outlet_Establishment_Year    0\n",
       "Outlet_Size                  0\n",
       "Outlet_Location_Type         0\n",
       "Outlet_Type                  0\n",
       "Item_Outlet_Sales            0\n",
       "dtype: int64"
      ]
     },
     "execution_count": 34,
     "metadata": {},
     "output_type": "execute_result"
    }
   ],
   "source": [
    "df.isnull().sum()"
   ]
  },
  {
   "cell_type": "code",
   "execution_count": 35,
   "id": "4d939acb",
   "metadata": {},
   "outputs": [],
   "source": [
    "Item_Identifier = df.groupby(\"Item_Identifier\").sum()"
   ]
  },
  {
   "cell_type": "code",
   "execution_count": 36,
   "id": "46c71196",
   "metadata": {},
   "outputs": [
    {
     "data": {
      "text/html": [
       "<div>\n",
       "<style scoped>\n",
       "    .dataframe tbody tr th:only-of-type {\n",
       "        vertical-align: middle;\n",
       "    }\n",
       "\n",
       "    .dataframe tbody tr th {\n",
       "        vertical-align: top;\n",
       "    }\n",
       "\n",
       "    .dataframe thead th {\n",
       "        text-align: right;\n",
       "    }\n",
       "</style>\n",
       "<table border=\"1\" class=\"dataframe\">\n",
       "  <thead>\n",
       "    <tr style=\"text-align: right;\">\n",
       "      <th></th>\n",
       "      <th>Item_Weight</th>\n",
       "      <th>Item_Visibility</th>\n",
       "      <th>Item_MRP</th>\n",
       "      <th>Outlet_Establishment_Year</th>\n",
       "      <th>Item_Outlet_Sales</th>\n",
       "    </tr>\n",
       "    <tr>\n",
       "      <th>Item_Identifier</th>\n",
       "      <th></th>\n",
       "      <th></th>\n",
       "      <th></th>\n",
       "      <th></th>\n",
       "      <th></th>\n",
       "    </tr>\n",
       "  </thead>\n",
       "  <tbody>\n",
       "    <tr>\n",
       "      <th>DRA12</th>\n",
       "      <td>69.600000</td>\n",
       "      <td>0.191737</td>\n",
       "      <td>851.1924</td>\n",
       "      <td>12007</td>\n",
       "      <td>11061.6012</td>\n",
       "    </tr>\n",
       "    <tr>\n",
       "      <th>DRA24</th>\n",
       "      <td>122.465290</td>\n",
       "      <td>0.336436</td>\n",
       "      <td>1148.6076</td>\n",
       "      <td>13965</td>\n",
       "      <td>15723.5328</td>\n",
       "    </tr>\n",
       "    <tr>\n",
       "      <th>DRA59</th>\n",
       "      <td>75.335290</td>\n",
       "      <td>1.077744</td>\n",
       "      <td>1481.4392</td>\n",
       "      <td>15967</td>\n",
       "      <td>20915.4412</td>\n",
       "    </tr>\n",
       "    <tr>\n",
       "      <th>DRB01</th>\n",
       "      <td>27.637645</td>\n",
       "      <td>0.246379</td>\n",
       "      <td>568.7590</td>\n",
       "      <td>5971</td>\n",
       "      <td>4554.0720</td>\n",
       "    </tr>\n",
       "    <tr>\n",
       "      <th>DRB13</th>\n",
       "      <td>30.575000</td>\n",
       "      <td>0.040012</td>\n",
       "      <td>948.4650</td>\n",
       "      <td>9995</td>\n",
       "      <td>12144.1920</td>\n",
       "    </tr>\n",
       "    <tr>\n",
       "      <th>...</th>\n",
       "      <td>...</td>\n",
       "      <td>...</td>\n",
       "      <td>...</td>\n",
       "      <td>...</td>\n",
       "      <td>...</td>\n",
       "    </tr>\n",
       "    <tr>\n",
       "      <th>NCZ30</th>\n",
       "      <td>52.397645</td>\n",
       "      <td>0.174693</td>\n",
       "      <td>845.2686</td>\n",
       "      <td>13982</td>\n",
       "      <td>12653.5290</td>\n",
       "    </tr>\n",
       "    <tr>\n",
       "      <th>NCZ41</th>\n",
       "      <td>99.250000</td>\n",
       "      <td>0.258114</td>\n",
       "      <td>628.1520</td>\n",
       "      <td>10009</td>\n",
       "      <td>9137.4392</td>\n",
       "    </tr>\n",
       "    <tr>\n",
       "      <th>NCZ42</th>\n",
       "      <td>52.500000</td>\n",
       "      <td>0.045222</td>\n",
       "      <td>1183.2240</td>\n",
       "      <td>9995</td>\n",
       "      <td>19199.0088</td>\n",
       "    </tr>\n",
       "    <tr>\n",
       "      <th>NCZ53</th>\n",
       "      <td>51.257645</td>\n",
       "      <td>0.138877</td>\n",
       "      <td>941.6070</td>\n",
       "      <td>9978</td>\n",
       "      <td>15073.7120</td>\n",
       "    </tr>\n",
       "    <tr>\n",
       "      <th>NCZ54</th>\n",
       "      <td>98.965290</td>\n",
       "      <td>0.562983</td>\n",
       "      <td>1135.7864</td>\n",
       "      <td>13975</td>\n",
       "      <td>22743.7280</td>\n",
       "    </tr>\n",
       "  </tbody>\n",
       "</table>\n",
       "<p>1559 rows × 5 columns</p>\n",
       "</div>"
      ],
      "text/plain": [
       "                 Item_Weight  Item_Visibility   Item_MRP  \\\n",
       "Item_Identifier                                            \n",
       "DRA12              69.600000         0.191737   851.1924   \n",
       "DRA24             122.465290         0.336436  1148.6076   \n",
       "DRA59              75.335290         1.077744  1481.4392   \n",
       "DRB01              27.637645         0.246379   568.7590   \n",
       "DRB13              30.575000         0.040012   948.4650   \n",
       "...                      ...              ...        ...   \n",
       "NCZ30              52.397645         0.174693   845.2686   \n",
       "NCZ41              99.250000         0.258114   628.1520   \n",
       "NCZ42              52.500000         0.045222  1183.2240   \n",
       "NCZ53              51.257645         0.138877   941.6070   \n",
       "NCZ54              98.965290         0.562983  1135.7864   \n",
       "\n",
       "                 Outlet_Establishment_Year  Item_Outlet_Sales  \n",
       "Item_Identifier                                                \n",
       "DRA12                                12007         11061.6012  \n",
       "DRA24                                13965         15723.5328  \n",
       "DRA59                                15967         20915.4412  \n",
       "DRB01                                 5971          4554.0720  \n",
       "DRB13                                 9995         12144.1920  \n",
       "...                                    ...                ...  \n",
       "NCZ30                                13982         12653.5290  \n",
       "NCZ41                                10009          9137.4392  \n",
       "NCZ42                                 9995         19199.0088  \n",
       "NCZ53                                 9978         15073.7120  \n",
       "NCZ54                                13975         22743.7280  \n",
       "\n",
       "[1559 rows x 5 columns]"
      ]
     },
     "execution_count": 36,
     "metadata": {},
     "output_type": "execute_result"
    }
   ],
   "source": [
    "Item_Identifier"
   ]
  },
  {
   "cell_type": "code",
   "execution_count": 37,
   "id": "f009155e",
   "metadata": {},
   "outputs": [
    {
     "data": {
      "text/plain": [
       "Item_Weight                  0\n",
       "Item_Visibility              0\n",
       "Item_MRP                     0\n",
       "Outlet_Establishment_Year    0\n",
       "Item_Outlet_Sales            0\n",
       "dtype: int64"
      ]
     },
     "execution_count": 37,
     "metadata": {},
     "output_type": "execute_result"
    }
   ],
   "source": [
    "Item_Identifier[Item_Identifier[\"Outlet_Establishment_Year\"] <= 2].count()"
   ]
  },
  {
   "cell_type": "code",
   "execution_count": 38,
   "id": "f3d5fe7f",
   "metadata": {},
   "outputs": [
    {
     "data": {
      "text/plain": [
       "Item_Weight                  1559\n",
       "Item_Visibility              1559\n",
       "Item_MRP                     1559\n",
       "Outlet_Establishment_Year    1559\n",
       "Item_Outlet_Sales            1559\n",
       "dtype: int64"
      ]
     },
     "execution_count": 38,
     "metadata": {},
     "output_type": "execute_result"
    }
   ],
   "source": [
    "Item_Identifier[Item_Identifier[\"Outlet_Establishment_Year\"] > 5].count()"
   ]
  },
  {
   "cell_type": "code",
   "execution_count": 39,
   "id": "ef3cda83",
   "metadata": {},
   "outputs": [
    {
     "data": {
      "text/plain": [
       "(8523, 12)"
      ]
     },
     "execution_count": 39,
     "metadata": {},
     "output_type": "execute_result"
    }
   ],
   "source": [
    "df.shape"
   ]
  },
  {
   "cell_type": "code",
   "execution_count": 40,
   "id": "be4d4d74",
   "metadata": {},
   "outputs": [
    {
     "name": "stdout",
     "output_type": "stream",
     "text": [
      "<class 'pandas.core.frame.DataFrame'>\n",
      "RangeIndex: 8523 entries, 0 to 8522\n",
      "Data columns (total 12 columns):\n",
      " #   Column                     Non-Null Count  Dtype  \n",
      "---  ------                     --------------  -----  \n",
      " 0   Item_Identifier            8523 non-null   object \n",
      " 1   Item_Weight                8523 non-null   float64\n",
      " 2   Item_Fat_Content           8523 non-null   object \n",
      " 3   Item_Visibility            8523 non-null   float64\n",
      " 4   Item_Type                  8523 non-null   object \n",
      " 5   Item_MRP                   8523 non-null   float64\n",
      " 6   Outlet_Identifier          8523 non-null   object \n",
      " 7   Outlet_Establishment_Year  8523 non-null   int64  \n",
      " 8   Outlet_Size                8523 non-null   object \n",
      " 9   Outlet_Location_Type       8523 non-null   object \n",
      " 10  Outlet_Type                8523 non-null   object \n",
      " 11  Item_Outlet_Sales          8523 non-null   float64\n",
      "dtypes: float64(4), int64(1), object(7)\n",
      "memory usage: 799.2+ KB\n"
     ]
    }
   ],
   "source": [
    "df.info()"
   ]
  },
  {
   "cell_type": "code",
   "execution_count": 41,
   "id": "9b2001da",
   "metadata": {},
   "outputs": [
    {
     "data": {
      "text/plain": [
       "Item_Identifier              0\n",
       "Item_Weight                  0\n",
       "Item_Fat_Content             0\n",
       "Item_Visibility              0\n",
       "Item_Type                    0\n",
       "Item_MRP                     0\n",
       "Outlet_Identifier            0\n",
       "Outlet_Establishment_Year    0\n",
       "Outlet_Size                  0\n",
       "Outlet_Location_Type         0\n",
       "Outlet_Type                  0\n",
       "Item_Outlet_Sales            0\n",
       "dtype: int64"
      ]
     },
     "execution_count": 41,
     "metadata": {},
     "output_type": "execute_result"
    }
   ],
   "source": [
    "df.isnull().sum()"
   ]
  },
  {
   "cell_type": "markdown",
   "id": "1369f99a",
   "metadata": {},
   "source": []
  },
  {
   "cell_type": "code",
   "execution_count": 42,
   "id": "5f1ec5f3",
   "metadata": {},
   "outputs": [
    {
     "data": {
      "text/plain": [
       "OUT027    935\n",
       "OUT013    932\n",
       "OUT049    930\n",
       "OUT046    930\n",
       "OUT035    930\n",
       "OUT045    929\n",
       "OUT018    928\n",
       "OUT017    926\n",
       "OUT010    555\n",
       "OUT019    528\n",
       "Name: Outlet_Identifier, dtype: int64"
      ]
     },
     "execution_count": 42,
     "metadata": {},
     "output_type": "execute_result"
    }
   ],
   "source": [
    "df.Outlet_Identifier.value_counts()"
   ]
  },
  {
   "cell_type": "code",
   "execution_count": 43,
   "id": "78680823",
   "metadata": {},
   "outputs": [
    {
     "data": {
      "text/plain": [
       "Item_Identifier              1559\n",
       "Item_Weight                   416\n",
       "Item_Fat_Content                5\n",
       "Item_Visibility              7880\n",
       "Item_Type                      16\n",
       "Item_MRP                     5938\n",
       "Outlet_Identifier              10\n",
       "Outlet_Establishment_Year       9\n",
       "Outlet_Size                     2\n",
       "Outlet_Location_Type            3\n",
       "Outlet_Type                     4\n",
       "Item_Outlet_Sales            3493\n",
       "dtype: int64"
      ]
     },
     "execution_count": 43,
     "metadata": {},
     "output_type": "execute_result"
    }
   ],
   "source": [
    "df.nunique()"
   ]
  },
  {
   "cell_type": "code",
   "execution_count": 44,
   "id": "35e7b783",
   "metadata": {},
   "outputs": [],
   "source": [
    "df = df"
   ]
  },
  {
   "cell_type": "code",
   "execution_count": 45,
   "id": "1e751052",
   "metadata": {},
   "outputs": [
    {
     "data": {
      "text/plain": [
       "array(['Medium', 'High'], dtype=object)"
      ]
     },
     "execution_count": 45,
     "metadata": {},
     "output_type": "execute_result"
    }
   ],
   "source": [
    "df.Outlet_Size.unique()"
   ]
  },
  {
   "cell_type": "code",
   "execution_count": 46,
   "id": "351244c3",
   "metadata": {},
   "outputs": [],
   "source": [
    "ka = df.Outlet_Size.fillna"
   ]
  },
  {
   "cell_type": "code",
   "execution_count": 47,
   "id": "0409430a",
   "metadata": {},
   "outputs": [],
   "source": [
    "ka = df[df.Outlet_Size==\"nan\"]"
   ]
  },
  {
   "cell_type": "code",
   "execution_count": 48,
   "id": "01644d23",
   "metadata": {},
   "outputs": [
    {
     "name": "stdout",
     "output_type": "stream",
     "text": [
      "<class 'pandas.core.frame.DataFrame'>\n",
      "Int64Index: 0 entries\n",
      "Data columns (total 12 columns):\n",
      " #   Column                     Non-Null Count  Dtype  \n",
      "---  ------                     --------------  -----  \n",
      " 0   Item_Identifier            0 non-null      object \n",
      " 1   Item_Weight                0 non-null      float64\n",
      " 2   Item_Fat_Content           0 non-null      object \n",
      " 3   Item_Visibility            0 non-null      float64\n",
      " 4   Item_Type                  0 non-null      object \n",
      " 5   Item_MRP                   0 non-null      float64\n",
      " 6   Outlet_Identifier          0 non-null      object \n",
      " 7   Outlet_Establishment_Year  0 non-null      int64  \n",
      " 8   Outlet_Size                0 non-null      object \n",
      " 9   Outlet_Location_Type       0 non-null      object \n",
      " 10  Outlet_Type                0 non-null      object \n",
      " 11  Item_Outlet_Sales          0 non-null      float64\n",
      "dtypes: float64(4), int64(1), object(7)\n",
      "memory usage: 0.0+ bytes\n"
     ]
    }
   ],
   "source": [
    "ka.info()"
   ]
  },
  {
   "cell_type": "markdown",
   "id": "fadc151f",
   "metadata": {},
   "source": [
    "# Item_Fat_Content"
   ]
  },
  {
   "cell_type": "code",
   "execution_count": 49,
   "id": "71e1f352",
   "metadata": {},
   "outputs": [
    {
     "data": {
      "text/plain": [
       "array(['Low Fat', 'Regular', 'low fat', 'LF', 'reg'], dtype=object)"
      ]
     },
     "execution_count": 49,
     "metadata": {},
     "output_type": "execute_result"
    }
   ],
   "source": [
    "df.Item_Fat_Content.unique()"
   ]
  },
  {
   "cell_type": "code",
   "execution_count": 50,
   "id": "b9053d7c",
   "metadata": {},
   "outputs": [
    {
     "data": {
      "text/plain": [
       "Low Fat    5089\n",
       "Regular    2889\n",
       "LF          316\n",
       "reg         117\n",
       "low fat     112\n",
       "Name: Item_Fat_Content, dtype: int64"
      ]
     },
     "execution_count": 50,
     "metadata": {},
     "output_type": "execute_result"
    },
    {
     "data": {
      "image/png": "[encoded data removed]",
      "text/plain": [
       "<Figure size 432x288 with 1 Axes>"
      ]
     },
     "metadata": {
      "needs_background": "light"
     },
     "output_type": "display_data"
    }
   ],
   "source": [
    "df.Item_Fat_Content.value_counts().plot(kind = \"bar\")\n",
    "df.Item_Fat_Content.value_counts()\n"
   ]
  },
  {
   "cell_type": "code",
   "execution_count": 51,
   "id": "caa733a5",
   "metadata": {},
   "outputs": [],
   "source": [
    "from scipy import stats\n",
    "import statsmodels.api as sm\n",
    "from statsmodels.formula.api import ols\n",
    "from statsmodels.stats.multicomp import pairwise_tukeyhsd"
   ]
  },
  {
   "cell_type": "code",
   "execution_count": 52,
   "id": "4bc534ce",
   "metadata": {},
   "outputs": [
    {
     "data": {
      "text/html": [
       "<div>\n",
       "<style scoped>\n",
       "    .dataframe tbody tr th:only-of-type {\n",
       "        vertical-align: middle;\n",
       "    }\n",
       "\n",
       "    .dataframe tbody tr th {\n",
       "        vertical-align: top;\n",
       "    }\n",
       "\n",
       "    .dataframe thead th {\n",
       "        text-align: right;\n",
       "    }\n",
       "</style>\n",
       "<table border=\"1\" class=\"dataframe\">\n",
       "  <thead>\n",
       "    <tr style=\"text-align: right;\">\n",
       "      <th></th>\n",
       "      <th>df</th>\n",
       "      <th>sum_sq</th>\n",
       "      <th>mean_sq</th>\n",
       "      <th>F</th>\n",
       "      <th>PR(&gt;F)</th>\n",
       "    </tr>\n",
       "  </thead>\n",
       "  <tbody>\n",
       "    <tr>\n",
       "      <th>Item_Fat_Content</th>\n",
       "      <td>4.0</td>\n",
       "      <td>2.009519e+07</td>\n",
       "      <td>5.023797e+06</td>\n",
       "      <td>1.725709</td>\n",
       "      <td>0.141221</td>\n",
       "    </tr>\n",
       "    <tr>\n",
       "      <th>Residual</th>\n",
       "      <td>8518.0</td>\n",
       "      <td>2.479717e+10</td>\n",
       "      <td>2.911149e+06</td>\n",
       "      <td>NaN</td>\n",
       "      <td>NaN</td>\n",
       "    </tr>\n",
       "  </tbody>\n",
       "</table>\n",
       "</div>"
      ],
      "text/plain": [
       "                      df        sum_sq       mean_sq         F    PR(>F)\n",
       "Item_Fat_Content     4.0  2.009519e+07  5.023797e+06  1.725709  0.141221\n",
       "Residual          8518.0  2.479717e+10  2.911149e+06       NaN       NaN"
      ]
     },
     "execution_count": 52,
     "metadata": {},
     "output_type": "execute_result"
    }
   ],
   "source": [
    "mode = ols(\"Item_Outlet_Sales  ~ Item_Fat_Content \", data = df).fit()\n",
    "sm.stats.anova_lm(mode)"
   ]
  },
  {
   "cell_type": "markdown",
   "id": "3d97c0d3",
   "metadata": {},
   "source": [
    "### Adding Item_Fat_Content in model will not make any sensce"
   ]
  },
  {
   "cell_type": "code",
   "execution_count": 53,
   "id": "469cfe20",
   "metadata": {},
   "outputs": [
    {
     "name": "stderr",
     "output_type": "stream",
     "text": [
      "C:\\Users\\user\\anaconda3\\lib\\site-packages\\seaborn\\_decorators.py:36: FutureWarning: Pass the following variable as a keyword arg: x. From version 0.12, the only valid positional argument will be `data`, and passing other arguments without an explicit keyword will result in an error or misinterpretation.\n",
      "  warnings.warn(\n"
     ]
    },
    {
     "data": {
      "text/plain": [
       "Text(0.5, 1.0, 'Box Plot of Item_Visibility')"
      ]
     },
     "execution_count": 53,
     "metadata": {},
     "output_type": "execute_result"
    },
    {
     "data": {
      "image/png": "[encoded data removed]",
      "text/plain": [
       "<Figure size 432x288 with 1 Axes>"
      ]
     },
     "metadata": {},
     "output_type": "display_data"
    }
   ],
   "source": [
    "import seaborn as sns\n",
    "sns.set_style('whitegrid')\n",
    "sns.boxplot(df.Item_Visibility, color = 'r')\n",
    "plt.title('Box Plot of Item_Visibility')"
   ]
  },
  {
   "cell_type": "code",
   "execution_count": 54,
   "id": "df161dd3",
   "metadata": {},
   "outputs": [
    {
     "name": "stderr",
     "output_type": "stream",
     "text": [
      "C:\\Users\\user\\anaconda3\\lib\\site-packages\\seaborn\\distributions.py:2619: FutureWarning: `distplot` is a deprecated function and will be removed in a future version. Please adapt your code to use either `displot` (a figure-level function with similar flexibility) or `histplot` (an axes-level function for histograms).\n",
      "  warnings.warn(msg, FutureWarning)\n"
     ]
    },
    {
     "data": {
      "text/plain": [
       "Text(0.5, 1.0, 'Item_Visibility')"
      ]
     },
     "execution_count": 54,
     "metadata": {},
     "output_type": "execute_result"
    },
    {
     "data": {
      "image/png": "[encoded data removed]",
      "text/plain": [
       "<Figure size 432x288 with 1 Axes>"
      ]
     },
     "metadata": {},
     "output_type": "display_data"
    }
   ],
   "source": [
    "sns.distplot(df.Item_Visibility)\n",
    "plt.title('Item_Visibility')"
   ]
  },
  {
   "cell_type": "code",
   "execution_count": 55,
   "id": "e2529d39",
   "metadata": {},
   "outputs": [],
   "source": [
    "# There are lot of ouliers Item_Visibility"
   ]
  },
  {
   "cell_type": "code",
   "execution_count": 56,
   "id": "12c36b5f",
   "metadata": {},
   "outputs": [
    {
     "data": {
      "text/plain": [
       "count    8523.000000\n",
       "mean        0.066132\n",
       "std         0.051598\n",
       "min         0.000000\n",
       "25%         0.026989\n",
       "50%         0.053931\n",
       "75%         0.094585\n",
       "max         0.328391\n",
       "Name: Item_Visibility, dtype: float64"
      ]
     },
     "execution_count": 56,
     "metadata": {},
     "output_type": "execute_result"
    }
   ],
   "source": [
    "df.Item_Visibility.describe()"
   ]
  },
  {
   "cell_type": "code",
   "execution_count": 57,
   "id": "c23676db",
   "metadata": {},
   "outputs": [
    {
     "name": "stdout",
     "output_type": "stream",
     "text": [
      "0.195979015 -0.07440424500000001\n"
     ]
    }
   ],
   "source": [
    "IQR = df.Item_Visibility.quantile(0.75)-df.Item_Visibility.quantile(0.25)\n",
    "upper_limit = df.Item_Visibility.quantile(0.75) + (1.5*IQR)\n",
    "lower_limit = df.Item_Visibility.quantile(0.25) - (1.5*IQR)\n",
    "print(upper_limit,lower_limit )"
   ]
  },
  {
   "cell_type": "code",
   "execution_count": 58,
   "id": "3a4df6df",
   "metadata": {},
   "outputs": [
    {
     "data": {
      "text/plain": [
       "Item_Identifier              144\n",
       "Item_Weight                  144\n",
       "Item_Fat_Content             144\n",
       "Item_Visibility              144\n",
       "Item_Type                    144\n",
       "Item_MRP                     144\n",
       "Outlet_Identifier            144\n",
       "Outlet_Establishment_Year    144\n",
       "Outlet_Size                  144\n",
       "Outlet_Location_Type         144\n",
       "Outlet_Type                  144\n",
       "Item_Outlet_Sales            144\n",
       "dtype: int64"
      ]
     },
     "execution_count": 58,
     "metadata": {},
     "output_type": "execute_result"
    }
   ],
   "source": [
    "df[df[\"Item_Visibility\"]>upper_limit].count()"
   ]
  },
  {
   "cell_type": "code",
   "execution_count": 59,
   "id": "50398721",
   "metadata": {},
   "outputs": [],
   "source": [
    "df[\"Item_Visibility\"] = np.where(df[\"Item_Visibility\"] > upper_limit,upper_limit,df[\"Item_Visibility\"])\n",
    "df[\"Item_Visibility\"]  = np.where(df[\"Item_Visibility\"] < lower_limit,lower_limit,df[\"Item_Visibility\"])"
   ]
  },
  {
   "cell_type": "code",
   "execution_count": 60,
   "id": "44caeacc",
   "metadata": {},
   "outputs": [
    {
     "name": "stderr",
     "output_type": "stream",
     "text": [
      "C:\\Users\\user\\anaconda3\\lib\\site-packages\\seaborn\\_decorators.py:36: FutureWarning: Pass the following variable as a keyword arg: x. From version 0.12, the only valid positional argument will be `data`, and passing other arguments without an explicit keyword will result in an error or misinterpretation.\n",
      "  warnings.warn(\n"
     ]
    },
    {
     "data": {
      "text/plain": [
       "Text(0.5, 1.0, 'Box Plot of Outlet_Sales')"
      ]
     },
     "execution_count": 60,
     "metadata": {},
     "output_type": "execute_result"
    },
    {
     "data": {
      "image/png": "[encoded data removed]",
      "text/plain": [
       "<Figure size 432x288 with 1 Axes>"
      ]
     },
     "metadata": {},
     "output_type": "display_data"
    }
   ],
   "source": [
    "sns.set_style('whitegrid')\n",
    "sns.boxplot(df.Item_Visibility, color = 'r')\n",
    "plt.title('Box Plot of Outlet_Sales')"
   ]
  },
  {
   "cell_type": "code",
   "execution_count": 61,
   "id": "6c42e336",
   "metadata": {},
   "outputs": [],
   "source": [
    "Item_Visibility = df.groupby(\"Outlet_Identifier\")[\"Item_Visibility\"]"
   ]
  },
  {
   "cell_type": "code",
   "execution_count": 62,
   "id": "d29b6b3e",
   "metadata": {},
   "outputs": [
    {
     "data": {
      "text/html": [
       "<div>\n",
       "<style scoped>\n",
       "    .dataframe tbody tr th:only-of-type {\n",
       "        vertical-align: middle;\n",
       "    }\n",
       "\n",
       "    .dataframe tbody tr th {\n",
       "        vertical-align: top;\n",
       "    }\n",
       "\n",
       "    .dataframe thead th {\n",
       "        text-align: right;\n",
       "    }\n",
       "</style>\n",
       "<table border=\"1\" class=\"dataframe\">\n",
       "  <thead>\n",
       "    <tr style=\"text-align: right;\">\n",
       "      <th></th>\n",
       "      <th>count</th>\n",
       "      <th>mean</th>\n",
       "      <th>std</th>\n",
       "      <th>min</th>\n",
       "      <th>25%</th>\n",
       "      <th>50%</th>\n",
       "      <th>75%</th>\n",
       "      <th>max</th>\n",
       "    </tr>\n",
       "    <tr>\n",
       "      <th>Outlet_Identifier</th>\n",
       "      <th></th>\n",
       "      <th></th>\n",
       "      <th></th>\n",
       "      <th></th>\n",
       "      <th></th>\n",
       "      <th></th>\n",
       "      <th></th>\n",
       "      <th></th>\n",
       "    </tr>\n",
       "  </thead>\n",
       "  <tbody>\n",
       "    <tr>\n",
       "      <th>OUT010</th>\n",
       "      <td>555.0</td>\n",
       "      <td>0.096172</td>\n",
       "      <td>0.061616</td>\n",
       "      <td>0.0</td>\n",
       "      <td>0.044024</td>\n",
       "      <td>0.088258</td>\n",
       "      <td>0.146837</td>\n",
       "      <td>0.195979</td>\n",
       "    </tr>\n",
       "    <tr>\n",
       "      <th>OUT013</th>\n",
       "      <td>932.0</td>\n",
       "      <td>0.059957</td>\n",
       "      <td>0.044235</td>\n",
       "      <td>0.0</td>\n",
       "      <td>0.026109</td>\n",
       "      <td>0.049587</td>\n",
       "      <td>0.086466</td>\n",
       "      <td>0.185705</td>\n",
       "    </tr>\n",
       "    <tr>\n",
       "      <th>OUT017</th>\n",
       "      <td>926.0</td>\n",
       "      <td>0.061377</td>\n",
       "      <td>0.044643</td>\n",
       "      <td>0.0</td>\n",
       "      <td>0.026953</td>\n",
       "      <td>0.050345</td>\n",
       "      <td>0.089545</td>\n",
       "      <td>0.188620</td>\n",
       "    </tr>\n",
       "    <tr>\n",
       "      <th>OUT018</th>\n",
       "      <td>928.0</td>\n",
       "      <td>0.061014</td>\n",
       "      <td>0.045386</td>\n",
       "      <td>0.0</td>\n",
       "      <td>0.025861</td>\n",
       "      <td>0.049124</td>\n",
       "      <td>0.090376</td>\n",
       "      <td>0.188323</td>\n",
       "    </tr>\n",
       "    <tr>\n",
       "      <th>OUT019</th>\n",
       "      <td>528.0</td>\n",
       "      <td>0.100679</td>\n",
       "      <td>0.063928</td>\n",
       "      <td>0.0</td>\n",
       "      <td>0.046488</td>\n",
       "      <td>0.094019</td>\n",
       "      <td>0.159171</td>\n",
       "      <td>0.195979</td>\n",
       "    </tr>\n",
       "    <tr>\n",
       "      <th>OUT027</th>\n",
       "      <td>935.0</td>\n",
       "      <td>0.058615</td>\n",
       "      <td>0.043147</td>\n",
       "      <td>0.0</td>\n",
       "      <td>0.026057</td>\n",
       "      <td>0.048427</td>\n",
       "      <td>0.082521</td>\n",
       "      <td>0.183948</td>\n",
       "    </tr>\n",
       "    <tr>\n",
       "      <th>OUT035</th>\n",
       "      <td>930.0</td>\n",
       "      <td>0.061263</td>\n",
       "      <td>0.044271</td>\n",
       "      <td>0.0</td>\n",
       "      <td>0.025970</td>\n",
       "      <td>0.053688</td>\n",
       "      <td>0.089054</td>\n",
       "      <td>0.187523</td>\n",
       "    </tr>\n",
       "    <tr>\n",
       "      <th>OUT045</th>\n",
       "      <td>929.0</td>\n",
       "      <td>0.060474</td>\n",
       "      <td>0.044930</td>\n",
       "      <td>0.0</td>\n",
       "      <td>0.025460</td>\n",
       "      <td>0.049820</td>\n",
       "      <td>0.088172</td>\n",
       "      <td>0.187939</td>\n",
       "    </tr>\n",
       "    <tr>\n",
       "      <th>OUT046</th>\n",
       "      <td>930.0</td>\n",
       "      <td>0.060464</td>\n",
       "      <td>0.044616</td>\n",
       "      <td>0.0</td>\n",
       "      <td>0.025929</td>\n",
       "      <td>0.048723</td>\n",
       "      <td>0.089116</td>\n",
       "      <td>0.187559</td>\n",
       "    </tr>\n",
       "    <tr>\n",
       "      <th>OUT049</th>\n",
       "      <td>930.0</td>\n",
       "      <td>0.060806</td>\n",
       "      <td>0.044602</td>\n",
       "      <td>0.0</td>\n",
       "      <td>0.026429</td>\n",
       "      <td>0.048937</td>\n",
       "      <td>0.087506</td>\n",
       "      <td>0.187850</td>\n",
       "    </tr>\n",
       "  </tbody>\n",
       "</table>\n",
       "</div>"
      ],
      "text/plain": [
       "                   count      mean       std  min       25%       50%  \\\n",
       "Outlet_Identifier                                                       \n",
       "OUT010             555.0  0.096172  0.061616  0.0  0.044024  0.088258   \n",
       "OUT013             932.0  0.059957  0.044235  0.0  0.026109  0.049587   \n",
       "OUT017             926.0  0.061377  0.044643  0.0  0.026953  0.050345   \n",
       "OUT018             928.0  0.061014  0.045386  0.0  0.025861  0.049124   \n",
       "OUT019             528.0  0.100679  0.063928  0.0  0.046488  0.094019   \n",
       "OUT027             935.0  0.058615  0.043147  0.0  0.026057  0.048427   \n",
       "OUT035             930.0  0.061263  0.044271  0.0  0.025970  0.053688   \n",
       "OUT045             929.0  0.060474  0.044930  0.0  0.025460  0.049820   \n",
       "OUT046             930.0  0.060464  0.044616  0.0  0.025929  0.048723   \n",
       "OUT049             930.0  0.060806  0.044602  0.0  0.026429  0.048937   \n",
       "\n",
       "                        75%       max  \n",
       "Outlet_Identifier                      \n",
       "OUT010             0.146837  0.195979  \n",
       "OUT013             0.086466  0.185705  \n",
       "OUT017             0.089545  0.188620  \n",
       "OUT018             0.090376  0.188323  \n",
       "OUT019             0.159171  0.195979  \n",
       "OUT027             0.082521  0.183948  \n",
       "OUT035             0.089054  0.187523  \n",
       "OUT045             0.088172  0.187939  \n",
       "OUT046             0.089116  0.187559  \n",
       "OUT049             0.087506  0.187850  "
      ]
     },
     "execution_count": 62,
     "metadata": {},
     "output_type": "execute_result"
    }
   ],
   "source": [
    "Item_Visibility.describe()"
   ]
  },
  {
   "cell_type": "code",
   "execution_count": 63,
   "id": "9dababd9",
   "metadata": {},
   "outputs": [
    {
     "data": {
      "text/plain": [
       "0                       Dairy\n",
       "1                 Soft Drinks\n",
       "2                        Meat\n",
       "3       Fruits and Vegetables\n",
       "4                   Household\n",
       "                ...          \n",
       "8518              Snack Foods\n",
       "8519             Baking Goods\n",
       "8520       Health and Hygiene\n",
       "8521              Snack Foods\n",
       "8522              Soft Drinks\n",
       "Name: Item_Type, Length: 8523, dtype: object"
      ]
     },
     "execution_count": 63,
     "metadata": {},
     "output_type": "execute_result"
    }
   ],
   "source": [
    "df.Item_Type"
   ]
  },
  {
   "cell_type": "code",
   "execution_count": 64,
   "id": "a2184404",
   "metadata": {},
   "outputs": [
    {
     "data": {
      "text/plain": [
       "array(['Dairy', 'Soft Drinks', 'Meat', 'Fruits and Vegetables',\n",
       "       'Household', 'Baking Goods', 'Snack Foods', 'Frozen Foods',\n",
       "       'Breakfast', 'Health and Hygiene', 'Hard Drinks', 'Canned',\n",
       "       'Breads', 'Starchy Foods', 'Others', 'Seafood'], dtype=object)"
      ]
     },
     "execution_count": 64,
     "metadata": {},
     "output_type": "execute_result"
    }
   ],
   "source": [
    "df.Item_Type.unique()"
   ]
  },
  {
   "cell_type": "code",
   "execution_count": 65,
   "id": "f9f6928d",
   "metadata": {},
   "outputs": [
    {
     "data": {
      "text/plain": [
       "Fruits and Vegetables    1232\n",
       "Snack Foods              1200\n",
       "Household                 910\n",
       "Frozen Foods              856\n",
       "Dairy                     682\n",
       "Canned                    649\n",
       "Baking Goods              648\n",
       "Health and Hygiene        520\n",
       "Soft Drinks               445\n",
       "Meat                      425\n",
       "Breads                    251\n",
       "Hard Drinks               214\n",
       "Others                    169\n",
       "Starchy Foods             148\n",
       "Breakfast                 110\n",
       "Seafood                    64\n",
       "Name: Item_Type, dtype: int64"
      ]
     },
     "execution_count": 65,
     "metadata": {},
     "output_type": "execute_result"
    },
    {
     "data": {
      "image/png": "[encoded data removed]",
      "text/plain": [
       "<Figure size 432x288 with 1 Axes>"
      ]
     },
     "metadata": {},
     "output_type": "display_data"
    }
   ],
   "source": [
    "df.Item_Type.value_counts().plot(kind = \"bar\")\n",
    "df.Item_Type.value_counts()"
   ]
  },
  {
   "cell_type": "code",
   "execution_count": 66,
   "id": "4c4e009e",
   "metadata": {},
   "outputs": [
    {
     "data": {
      "text/html": [
       "<div>\n",
       "<style scoped>\n",
       "    .dataframe tbody tr th:only-of-type {\n",
       "        vertical-align: middle;\n",
       "    }\n",
       "\n",
       "    .dataframe tbody tr th {\n",
       "        vertical-align: top;\n",
       "    }\n",
       "\n",
       "    .dataframe thead th {\n",
       "        text-align: right;\n",
       "    }\n",
       "</style>\n",
       "<table border=\"1\" class=\"dataframe\">\n",
       "  <thead>\n",
       "    <tr style=\"text-align: right;\">\n",
       "      <th></th>\n",
       "      <th>df</th>\n",
       "      <th>sum_sq</th>\n",
       "      <th>mean_sq</th>\n",
       "      <th>F</th>\n",
       "      <th>PR(&gt;F)</th>\n",
       "    </tr>\n",
       "  </thead>\n",
       "  <tbody>\n",
       "    <tr>\n",
       "      <th>Item_Type</th>\n",
       "      <td>15.0</td>\n",
       "      <td>1.176182e+08</td>\n",
       "      <td>7.841211e+06</td>\n",
       "      <td>2.700653</td>\n",
       "      <td>0.000388</td>\n",
       "    </tr>\n",
       "    <tr>\n",
       "      <th>Residual</th>\n",
       "      <td>8507.0</td>\n",
       "      <td>2.469965e+10</td>\n",
       "      <td>2.903450e+06</td>\n",
       "      <td>NaN</td>\n",
       "      <td>NaN</td>\n",
       "    </tr>\n",
       "  </tbody>\n",
       "</table>\n",
       "</div>"
      ],
      "text/plain": [
       "               df        sum_sq       mean_sq         F    PR(>F)\n",
       "Item_Type    15.0  1.176182e+08  7.841211e+06  2.700653  0.000388\n",
       "Residual   8507.0  2.469965e+10  2.903450e+06       NaN       NaN"
      ]
     },
     "execution_count": 66,
     "metadata": {},
     "output_type": "execute_result"
    }
   ],
   "source": [
    "mode = ols(\"Item_Outlet_Sales  ~ Item_Type \", data = df).fit()\n",
    "sm.stats.anova_lm(mode)"
   ]
  },
  {
   "cell_type": "code",
   "execution_count": 67,
   "id": "48e0c2a6",
   "metadata": {},
   "outputs": [],
   "source": [
    "df1 = df.drop([\"Item_Fat_Content\"], axis = 1)"
   ]
  },
  {
   "cell_type": "code",
   "execution_count": 68,
   "id": "85137f02",
   "metadata": {},
   "outputs": [
    {
     "data": {
      "text/html": [
       "<div>\n",
       "<style scoped>\n",
       "    .dataframe tbody tr th:only-of-type {\n",
       "        vertical-align: middle;\n",
       "    }\n",
       "\n",
       "    .dataframe tbody tr th {\n",
       "        vertical-align: top;\n",
       "    }\n",
       "\n",
       "    .dataframe thead th {\n",
       "        text-align: right;\n",
       "    }\n",
       "</style>\n",
       "<table border=\"1\" class=\"dataframe\">\n",
       "  <thead>\n",
       "    <tr style=\"text-align: right;\">\n",
       "      <th></th>\n",
       "      <th>Item_Identifier</th>\n",
       "      <th>Item_Weight</th>\n",
       "      <th>Item_Visibility</th>\n",
       "      <th>Item_Type</th>\n",
       "      <th>Item_MRP</th>\n",
       "      <th>Outlet_Identifier</th>\n",
       "      <th>Outlet_Establishment_Year</th>\n",
       "      <th>Outlet_Size</th>\n",
       "      <th>Outlet_Location_Type</th>\n",
       "      <th>Outlet_Type</th>\n",
       "      <th>Item_Outlet_Sales</th>\n",
       "    </tr>\n",
       "  </thead>\n",
       "  <tbody>\n",
       "    <tr>\n",
       "      <th>0</th>\n",
       "      <td>FDA15</td>\n",
       "      <td>9.300</td>\n",
       "      <td>0.016047</td>\n",
       "      <td>Dairy</td>\n",
       "      <td>249.8092</td>\n",
       "      <td>OUT049</td>\n",
       "      <td>1999</td>\n",
       "      <td>Medium</td>\n",
       "      <td>Tier 1</td>\n",
       "      <td>Supermarket Type1</td>\n",
       "      <td>3735.1380</td>\n",
       "    </tr>\n",
       "    <tr>\n",
       "      <th>1</th>\n",
       "      <td>DRC01</td>\n",
       "      <td>5.920</td>\n",
       "      <td>0.019278</td>\n",
       "      <td>Soft Drinks</td>\n",
       "      <td>48.2692</td>\n",
       "      <td>OUT018</td>\n",
       "      <td>2009</td>\n",
       "      <td>Medium</td>\n",
       "      <td>Tier 3</td>\n",
       "      <td>Supermarket Type2</td>\n",
       "      <td>443.4228</td>\n",
       "    </tr>\n",
       "    <tr>\n",
       "      <th>2</th>\n",
       "      <td>FDN15</td>\n",
       "      <td>17.500</td>\n",
       "      <td>0.016760</td>\n",
       "      <td>Meat</td>\n",
       "      <td>141.6180</td>\n",
       "      <td>OUT049</td>\n",
       "      <td>1999</td>\n",
       "      <td>Medium</td>\n",
       "      <td>Tier 1</td>\n",
       "      <td>Supermarket Type1</td>\n",
       "      <td>2097.2700</td>\n",
       "    </tr>\n",
       "    <tr>\n",
       "      <th>3</th>\n",
       "      <td>FDX07</td>\n",
       "      <td>19.200</td>\n",
       "      <td>0.000000</td>\n",
       "      <td>Fruits and Vegetables</td>\n",
       "      <td>182.0950</td>\n",
       "      <td>OUT010</td>\n",
       "      <td>1998</td>\n",
       "      <td>Medium</td>\n",
       "      <td>Tier 3</td>\n",
       "      <td>Grocery Store</td>\n",
       "      <td>732.3800</td>\n",
       "    </tr>\n",
       "    <tr>\n",
       "      <th>4</th>\n",
       "      <td>NCD19</td>\n",
       "      <td>8.930</td>\n",
       "      <td>0.000000</td>\n",
       "      <td>Household</td>\n",
       "      <td>53.8614</td>\n",
       "      <td>OUT013</td>\n",
       "      <td>1987</td>\n",
       "      <td>High</td>\n",
       "      <td>Tier 3</td>\n",
       "      <td>Supermarket Type1</td>\n",
       "      <td>994.7052</td>\n",
       "    </tr>\n",
       "    <tr>\n",
       "      <th>...</th>\n",
       "      <td>...</td>\n",
       "      <td>...</td>\n",
       "      <td>...</td>\n",
       "      <td>...</td>\n",
       "      <td>...</td>\n",
       "      <td>...</td>\n",
       "      <td>...</td>\n",
       "      <td>...</td>\n",
       "      <td>...</td>\n",
       "      <td>...</td>\n",
       "      <td>...</td>\n",
       "    </tr>\n",
       "    <tr>\n",
       "      <th>8518</th>\n",
       "      <td>FDF22</td>\n",
       "      <td>6.865</td>\n",
       "      <td>0.056783</td>\n",
       "      <td>Snack Foods</td>\n",
       "      <td>214.5218</td>\n",
       "      <td>OUT013</td>\n",
       "      <td>1987</td>\n",
       "      <td>High</td>\n",
       "      <td>Tier 3</td>\n",
       "      <td>Supermarket Type1</td>\n",
       "      <td>2778.3834</td>\n",
       "    </tr>\n",
       "    <tr>\n",
       "      <th>8519</th>\n",
       "      <td>FDS36</td>\n",
       "      <td>8.380</td>\n",
       "      <td>0.046982</td>\n",
       "      <td>Baking Goods</td>\n",
       "      <td>108.1570</td>\n",
       "      <td>OUT045</td>\n",
       "      <td>2002</td>\n",
       "      <td>Medium</td>\n",
       "      <td>Tier 2</td>\n",
       "      <td>Supermarket Type1</td>\n",
       "      <td>549.2850</td>\n",
       "    </tr>\n",
       "    <tr>\n",
       "      <th>8520</th>\n",
       "      <td>NCJ29</td>\n",
       "      <td>10.600</td>\n",
       "      <td>0.035186</td>\n",
       "      <td>Health and Hygiene</td>\n",
       "      <td>85.1224</td>\n",
       "      <td>OUT035</td>\n",
       "      <td>2004</td>\n",
       "      <td>Medium</td>\n",
       "      <td>Tier 2</td>\n",
       "      <td>Supermarket Type1</td>\n",
       "      <td>1193.1136</td>\n",
       "    </tr>\n",
       "    <tr>\n",
       "      <th>8521</th>\n",
       "      <td>FDN46</td>\n",
       "      <td>7.210</td>\n",
       "      <td>0.145221</td>\n",
       "      <td>Snack Foods</td>\n",
       "      <td>103.1332</td>\n",
       "      <td>OUT018</td>\n",
       "      <td>2009</td>\n",
       "      <td>Medium</td>\n",
       "      <td>Tier 3</td>\n",
       "      <td>Supermarket Type2</td>\n",
       "      <td>1845.5976</td>\n",
       "    </tr>\n",
       "    <tr>\n",
       "      <th>8522</th>\n",
       "      <td>DRG01</td>\n",
       "      <td>14.800</td>\n",
       "      <td>0.044878</td>\n",
       "      <td>Soft Drinks</td>\n",
       "      <td>75.4670</td>\n",
       "      <td>OUT046</td>\n",
       "      <td>1997</td>\n",
       "      <td>Medium</td>\n",
       "      <td>Tier 1</td>\n",
       "      <td>Supermarket Type1</td>\n",
       "      <td>765.6700</td>\n",
       "    </tr>\n",
       "  </tbody>\n",
       "</table>\n",
       "<p>8523 rows × 11 columns</p>\n",
       "</div>"
      ],
      "text/plain": [
       "     Item_Identifier  Item_Weight  Item_Visibility              Item_Type  \\\n",
       "0              FDA15        9.300         0.016047                  Dairy   \n",
       "1              DRC01        5.920         0.019278            Soft Drinks   \n",
       "2              FDN15       17.500         0.016760                   Meat   \n",
       "3              FDX07       19.200         0.000000  Fruits and Vegetables   \n",
       "4              NCD19        8.930         0.000000              Household   \n",
       "...              ...          ...              ...                    ...   \n",
       "8518           FDF22        6.865         0.056783            Snack Foods   \n",
       "8519           FDS36        8.380         0.046982           Baking Goods   \n",
       "8520           NCJ29       10.600         0.035186     Health and Hygiene   \n",
       "8521           FDN46        7.210         0.145221            Snack Foods   \n",
       "8522           DRG01       14.800         0.044878            Soft Drinks   \n",
       "\n",
       "      Item_MRP Outlet_Identifier  Outlet_Establishment_Year Outlet_Size  \\\n",
       "0     249.8092            OUT049                       1999      Medium   \n",
       "1      48.2692            OUT018                       2009      Medium   \n",
       "2     141.6180            OUT049                       1999      Medium   \n",
       "3     182.0950            OUT010                       1998      Medium   \n",
       "4      53.8614            OUT013                       1987        High   \n",
       "...        ...               ...                        ...         ...   \n",
       "8518  214.5218            OUT013                       1987        High   \n",
       "8519  108.1570            OUT045                       2002      Medium   \n",
       "8520   85.1224            OUT035                       2004      Medium   \n",
       "8521  103.1332            OUT018                       2009      Medium   \n",
       "8522   75.4670            OUT046                       1997      Medium   \n",
       "\n",
       "     Outlet_Location_Type        Outlet_Type  Item_Outlet_Sales  \n",
       "0                  Tier 1  Supermarket Type1          3735.1380  \n",
       "1                  Tier 3  Supermarket Type2           443.4228  \n",
       "2                  Tier 1  Supermarket Type1          2097.2700  \n",
       "3                  Tier 3      Grocery Store           732.3800  \n",
       "4                  Tier 3  Supermarket Type1           994.7052  \n",
       "...                   ...                ...                ...  \n",
       "8518               Tier 3  Supermarket Type1          2778.3834  \n",
       "8519               Tier 2  Supermarket Type1           549.2850  \n",
       "8520               Tier 2  Supermarket Type1          1193.1136  \n",
       "8521               Tier 3  Supermarket Type2          1845.5976  \n",
       "8522               Tier 1  Supermarket Type1           765.6700  \n",
       "\n",
       "[8523 rows x 11 columns]"
      ]
     },
     "execution_count": 68,
     "metadata": {},
     "output_type": "execute_result"
    }
   ],
   "source": [
    "df1"
   ]
  },
  {
   "cell_type": "code",
   "execution_count": 69,
   "id": "f9ccc1e5",
   "metadata": {},
   "outputs": [
    {
     "data": {
      "text/html": [
       "<div>\n",
       "<style scoped>\n",
       "    .dataframe tbody tr th:only-of-type {\n",
       "        vertical-align: middle;\n",
       "    }\n",
       "\n",
       "    .dataframe tbody tr th {\n",
       "        vertical-align: top;\n",
       "    }\n",
       "\n",
       "    .dataframe thead th {\n",
       "        text-align: right;\n",
       "    }\n",
       "</style>\n",
       "<table border=\"1\" class=\"dataframe\">\n",
       "  <thead>\n",
       "    <tr style=\"text-align: right;\">\n",
       "      <th></th>\n",
       "      <th>Item_Weight</th>\n",
       "      <th>Item_Visibility</th>\n",
       "      <th>Item_MRP</th>\n",
       "      <th>Outlet_Establishment_Year</th>\n",
       "      <th>Item_Outlet_Sales</th>\n",
       "    </tr>\n",
       "  </thead>\n",
       "  <tbody>\n",
       "    <tr>\n",
       "      <th>count</th>\n",
       "      <td>8523.000000</td>\n",
       "      <td>8523.000000</td>\n",
       "      <td>8523.000000</td>\n",
       "      <td>8523.000000</td>\n",
       "      <td>8523.000000</td>\n",
       "    </tr>\n",
       "    <tr>\n",
       "      <th>mean</th>\n",
       "      <td>12.857645</td>\n",
       "      <td>0.065307</td>\n",
       "      <td>140.992782</td>\n",
       "      <td>1997.831867</td>\n",
       "      <td>2181.288914</td>\n",
       "    </tr>\n",
       "    <tr>\n",
       "      <th>std</th>\n",
       "      <td>4.226124</td>\n",
       "      <td>0.048841</td>\n",
       "      <td>62.275067</td>\n",
       "      <td>8.371760</td>\n",
       "      <td>1706.499616</td>\n",
       "    </tr>\n",
       "    <tr>\n",
       "      <th>min</th>\n",
       "      <td>4.555000</td>\n",
       "      <td>0.000000</td>\n",
       "      <td>31.290000</td>\n",
       "      <td>1985.000000</td>\n",
       "      <td>33.290000</td>\n",
       "    </tr>\n",
       "    <tr>\n",
       "      <th>25%</th>\n",
       "      <td>9.310000</td>\n",
       "      <td>0.026989</td>\n",
       "      <td>93.826500</td>\n",
       "      <td>1987.000000</td>\n",
       "      <td>834.247400</td>\n",
       "    </tr>\n",
       "    <tr>\n",
       "      <th>50%</th>\n",
       "      <td>12.857645</td>\n",
       "      <td>0.053931</td>\n",
       "      <td>143.012800</td>\n",
       "      <td>1999.000000</td>\n",
       "      <td>1794.331000</td>\n",
       "    </tr>\n",
       "    <tr>\n",
       "      <th>75%</th>\n",
       "      <td>16.000000</td>\n",
       "      <td>0.094585</td>\n",
       "      <td>185.643700</td>\n",
       "      <td>2004.000000</td>\n",
       "      <td>3101.296400</td>\n",
       "    </tr>\n",
       "    <tr>\n",
       "      <th>max</th>\n",
       "      <td>21.350000</td>\n",
       "      <td>0.195979</td>\n",
       "      <td>266.888400</td>\n",
       "      <td>2009.000000</td>\n",
       "      <td>13086.964800</td>\n",
       "    </tr>\n",
       "  </tbody>\n",
       "</table>\n",
       "</div>"
      ],
      "text/plain": [
       "       Item_Weight  Item_Visibility     Item_MRP  Outlet_Establishment_Year  \\\n",
       "count  8523.000000      8523.000000  8523.000000                8523.000000   \n",
       "mean     12.857645         0.065307   140.992782                1997.831867   \n",
       "std       4.226124         0.048841    62.275067                   8.371760   \n",
       "min       4.555000         0.000000    31.290000                1985.000000   \n",
       "25%       9.310000         0.026989    93.826500                1987.000000   \n",
       "50%      12.857645         0.053931   143.012800                1999.000000   \n",
       "75%      16.000000         0.094585   185.643700                2004.000000   \n",
       "max      21.350000         0.195979   266.888400                2009.000000   \n",
       "\n",
       "       Item_Outlet_Sales  \n",
       "count        8523.000000  \n",
       "mean         2181.288914  \n",
       "std          1706.499616  \n",
       "min            33.290000  \n",
       "25%           834.247400  \n",
       "50%          1794.331000  \n",
       "75%          3101.296400  \n",
       "max         13086.964800  "
      ]
     },
     "execution_count": 69,
     "metadata": {},
     "output_type": "execute_result"
    }
   ],
   "source": [
    "df1.describe()"
   ]
  },
  {
   "cell_type": "code",
   "execution_count": 70,
   "id": "83a652ae",
   "metadata": {},
   "outputs": [
    {
     "data": {
      "text/plain": [
       "Item_Identifier              1559\n",
       "Item_Weight                   416\n",
       "Item_Visibility              7737\n",
       "Item_Type                      16\n",
       "Item_MRP                     5938\n",
       "Outlet_Identifier              10\n",
       "Outlet_Establishment_Year       9\n",
       "Outlet_Size                     2\n",
       "Outlet_Location_Type            3\n",
       "Outlet_Type                     4\n",
       "Item_Outlet_Sales            3493\n",
       "dtype: int64"
      ]
     },
     "execution_count": 70,
     "metadata": {},
     "output_type": "execute_result"
    }
   ],
   "source": [
    "df1.nunique()"
   ]
  },
  {
   "cell_type": "code",
   "execution_count": 71,
   "id": "ece8f252",
   "metadata": {},
   "outputs": [
    {
     "data": {
      "image/png": "[encoded data removed]",
      "text/plain": [
       "<Figure size 1008x864 with 1 Axes>"
      ]
     },
     "metadata": {},
     "output_type": "display_data"
    }
   ],
   "source": [
    "import seaborn as sns\n",
    "plt.figure(figsize = (14, 12))\n",
    "sns.heatmap(df.corr(), annot = True, linewidth = .5, center = 0, cbar = False, cmap = 'YlGnBu')\n",
    "plt.show()"
   ]
  },
  {
   "cell_type": "code",
   "execution_count": 72,
   "id": "bf2009e8",
   "metadata": {},
   "outputs": [
    {
     "data": {
      "text/plain": [
       "count     8523.000000\n",
       "mean      2181.288914\n",
       "std       1706.499616\n",
       "min         33.290000\n",
       "25%        834.247400\n",
       "50%       1794.331000\n",
       "75%       3101.296400\n",
       "max      13086.964800\n",
       "Name: Item_Outlet_Sales, dtype: float64"
      ]
     },
     "execution_count": 72,
     "metadata": {},
     "output_type": "execute_result"
    }
   ],
   "source": [
    "df1.Item_Outlet_Sales.describe()"
   ]
  },
  {
   "cell_type": "code",
   "execution_count": 73,
   "id": "59225e96",
   "metadata": {},
   "outputs": [
    {
     "data": {
      "text/plain": [
       "Outlet_Identifier\n",
       "OUT010     339.351662\n",
       "OUT013    2298.995256\n",
       "OUT017    2340.675263\n",
       "OUT018    1995.498739\n",
       "OUT019     340.329723\n",
       "OUT027    3694.038558\n",
       "OUT035    2438.841866\n",
       "OUT045    2192.384798\n",
       "OUT046    2277.844267\n",
       "OUT049    2348.354635\n",
       "Name: Item_Outlet_Sales, dtype: float64"
      ]
     },
     "execution_count": 73,
     "metadata": {},
     "output_type": "execute_result"
    }
   ],
   "source": [
    "df1.groupby(\"Outlet_Identifier\")[\"Item_Outlet_Sales\"].mean()"
   ]
  },
  {
   "cell_type": "code",
   "execution_count": 74,
   "id": "ea80c1a6",
   "metadata": {},
   "outputs": [
    {
     "data": {
      "text/plain": [
       "<AxesSubplot:>"
      ]
     },
     "execution_count": 74,
     "metadata": {},
     "output_type": "execute_result"
    },
    {
     "data": {
      "image/png": "[encoded data removed]",
      "text/plain": [
       "<Figure size 432x288 with 1 Axes>"
      ]
     },
     "metadata": {},
     "output_type": "display_data"
    }
   ],
   "source": [
    "df1.Outlet_Identifier.value_counts().plot(kind='bar')"
   ]
  },
  {
   "cell_type": "code",
   "execution_count": 75,
   "id": "9217ec90",
   "metadata": {},
   "outputs": [
    {
     "name": "stderr",
     "output_type": "stream",
     "text": [
      "C:\\Users\\user\\anaconda3\\lib\\site-packages\\seaborn\\distributions.py:2619: FutureWarning: `distplot` is a deprecated function and will be removed in a future version. Please adapt your code to use either `displot` (a figure-level function with similar flexibility) or `histplot` (an axes-level function for histograms).\n",
      "  warnings.warn(msg, FutureWarning)\n"
     ]
    },
    {
     "data": {
      "text/plain": [
       "Text(0.5, 1.0, 'Normality of age')"
      ]
     },
     "execution_count": 75,
     "metadata": {},
     "output_type": "execute_result"
    },
    {
     "data": {
      "image/png": "[encoded data removed]",
      "text/plain": [
       "<Figure size 432x288 with 1 Axes>"
      ]
     },
     "metadata": {},
     "output_type": "display_data"
    }
   ],
   "source": [
    "sns.distplot(df1.Item_Outlet_Sales)\n",
    "plt.title('Normality of age')"
   ]
  },
  {
   "cell_type": "code",
   "execution_count": 76,
   "id": "66fdcfa2",
   "metadata": {},
   "outputs": [
    {
     "name": "stdout",
     "output_type": "stream",
     "text": [
      "<class 'pandas.core.frame.DataFrame'>\n",
      "RangeIndex: 8523 entries, 0 to 8522\n",
      "Data columns (total 11 columns):\n",
      " #   Column                     Non-Null Count  Dtype  \n",
      "---  ------                     --------------  -----  \n",
      " 0   Item_Identifier            8523 non-null   object \n",
      " 1   Item_Weight                8523 non-null   float64\n",
      " 2   Item_Visibility            8523 non-null   float64\n",
      " 3   Item_Type                  8523 non-null   object \n",
      " 4   Item_MRP                   8523 non-null   float64\n",
      " 5   Outlet_Identifier          8523 non-null   object \n",
      " 6   Outlet_Establishment_Year  8523 non-null   int64  \n",
      " 7   Outlet_Size                8523 non-null   object \n",
      " 8   Outlet_Location_Type       8523 non-null   object \n",
      " 9   Outlet_Type                8523 non-null   object \n",
      " 10  Item_Outlet_Sales          8523 non-null   float64\n",
      "dtypes: float64(4), int64(1), object(6)\n",
      "memory usage: 732.6+ KB\n"
     ]
    }
   ],
   "source": [
    "df1.info()"
   ]
  },
  {
   "cell_type": "code",
   "execution_count": 77,
   "id": "982549e1",
   "metadata": {},
   "outputs": [
    {
     "data": {
      "text/plain": [
       "count    8523.000000\n",
       "mean        0.065307\n",
       "std         0.048841\n",
       "min         0.000000\n",
       "25%         0.026989\n",
       "50%         0.053931\n",
       "75%         0.094585\n",
       "max         0.195979\n",
       "Name: Item_Visibility, dtype: float64"
      ]
     },
     "execution_count": 77,
     "metadata": {},
     "output_type": "execute_result"
    }
   ],
   "source": [
    "df1.Item_Visibility.describe()"
   ]
  },
  {
   "cell_type": "code",
   "execution_count": 78,
   "id": "93ae10fa",
   "metadata": {},
   "outputs": [
    {
     "name": "stderr",
     "output_type": "stream",
     "text": [
      "C:\\Users\\user\\anaconda3\\lib\\site-packages\\seaborn\\_decorators.py:36: FutureWarning: Pass the following variable as a keyword arg: x. From version 0.12, the only valid positional argument will be `data`, and passing other arguments without an explicit keyword will result in an error or misinterpretation.\n",
      "  warnings.warn(\n"
     ]
    },
    {
     "data": {
      "text/plain": [
       "Text(0.5, 1.0, 'Box Plot of Item_Visibility')"
      ]
     },
     "execution_count": 78,
     "metadata": {},
     "output_type": "execute_result"
    },
    {
     "data": {
      "image/png": "[encoded data removed]",
      "text/plain": [
       "<Figure size 432x288 with 1 Axes>"
      ]
     },
     "metadata": {},
     "output_type": "display_data"
    }
   ],
   "source": [
    "sns.set_style('whitegrid')\n",
    "sns.boxplot(df1.Item_Visibility, color = 'b')\n",
    "plt.title('Box Plot of Item_Visibility')"
   ]
  },
  {
   "cell_type": "code",
   "execution_count": 79,
   "id": "cd7f8672",
   "metadata": {},
   "outputs": [],
   "source": [
    "# There are outliers in Item_Outlet_Sales so removing the outliers from the dataset"
   ]
  },
  {
   "cell_type": "code",
   "execution_count": 80,
   "id": "fee1527b",
   "metadata": {},
   "outputs": [
    {
     "name": "stdout",
     "output_type": "stream",
     "text": [
      "6501.8699 -2566.3261\n"
     ]
    }
   ],
   "source": [
    "IQR = df1.Item_Outlet_Sales.quantile(0.75)-df1.Item_Outlet_Sales.quantile(0.25)\n",
    "upper_limit = df1.Item_Outlet_Sales.quantile(0.75) + (1.5*IQR)\n",
    "lower_limit = df1.Item_Outlet_Sales.quantile(0.25) - (1.5*IQR)\n",
    "print(upper_limit,lower_limit )"
   ]
  },
  {
   "cell_type": "code",
   "execution_count": 81,
   "id": "fa74ff52",
   "metadata": {},
   "outputs": [
    {
     "data": {
      "text/plain": [
       "Item_Identifier              186\n",
       "Item_Weight                  186\n",
       "Item_Visibility              186\n",
       "Item_Type                    186\n",
       "Item_MRP                     186\n",
       "Outlet_Identifier            186\n",
       "Outlet_Establishment_Year    186\n",
       "Outlet_Size                  186\n",
       "Outlet_Location_Type         186\n",
       "Outlet_Type                  186\n",
       "Item_Outlet_Sales            186\n",
       "dtype: int64"
      ]
     },
     "execution_count": 81,
     "metadata": {},
     "output_type": "execute_result"
    }
   ],
   "source": [
    "df1[df1[\"Item_Outlet_Sales\"]>6501.8699].count()"
   ]
  },
  {
   "cell_type": "code",
   "execution_count": 82,
   "id": "e7d86052",
   "metadata": {},
   "outputs": [
    {
     "data": {
      "text/plain": [
       "(8523, 11)"
      ]
     },
     "execution_count": 82,
     "metadata": {},
     "output_type": "execute_result"
    }
   ],
   "source": [
    "df1.shape"
   ]
  },
  {
   "cell_type": "code",
   "execution_count": 83,
   "id": "15cc37d3",
   "metadata": {},
   "outputs": [],
   "source": [
    "df2 = df1[~(df1[\"Item_Outlet_Sales\"]>=6501.8699)]"
   ]
  },
  {
   "cell_type": "code",
   "execution_count": 84,
   "id": "ceb605e6",
   "metadata": {},
   "outputs": [
    {
     "data": {
      "text/plain": [
       "(8337, 11)"
      ]
     },
     "execution_count": 84,
     "metadata": {},
     "output_type": "execute_result"
    }
   ],
   "source": [
    "df2.shape"
   ]
  },
  {
   "cell_type": "code",
   "execution_count": 85,
   "id": "fced221c",
   "metadata": {},
   "outputs": [
    {
     "name": "stderr",
     "output_type": "stream",
     "text": [
      "C:\\Users\\user\\anaconda3\\lib\\site-packages\\seaborn\\_decorators.py:36: FutureWarning: Pass the following variable as a keyword arg: x. From version 0.12, the only valid positional argument will be `data`, and passing other arguments without an explicit keyword will result in an error or misinterpretation.\n",
      "  warnings.warn(\n"
     ]
    },
    {
     "data": {
      "text/plain": [
       "Text(0.5, 1.0, 'Box Plot of Outlet_Sales')"
      ]
     },
     "execution_count": 85,
     "metadata": {},
     "output_type": "execute_result"
    },
    {
     "data": {
      "image/png": "[encoded data removed]",
      "text/plain": [
       "<Figure size 432x288 with 1 Axes>"
      ]
     },
     "metadata": {},
     "output_type": "display_data"
    }
   ],
   "source": [
    "sns.set_style('whitegrid')\n",
    "sns.boxplot(df2.Item_Outlet_Sales, color = 'b')\n",
    "plt.title('Box Plot of Outlet_Sales')"
   ]
  },
  {
   "cell_type": "code",
   "execution_count": 86,
   "id": "f4ec03b5",
   "metadata": {},
   "outputs": [],
   "source": [
    "k2 = df2.groupby(\"Outlet_Identifier\")[\"Item_Outlet_Sales\"]"
   ]
  },
  {
   "cell_type": "code",
   "execution_count": 87,
   "id": "d9b06d42",
   "metadata": {},
   "outputs": [
    {
     "data": {
      "text/html": [
       "<div>\n",
       "<style scoped>\n",
       "    .dataframe tbody tr th:only-of-type {\n",
       "        vertical-align: middle;\n",
       "    }\n",
       "\n",
       "    .dataframe tbody tr th {\n",
       "        vertical-align: top;\n",
       "    }\n",
       "\n",
       "    .dataframe thead th {\n",
       "        text-align: right;\n",
       "    }\n",
       "</style>\n",
       "<table border=\"1\" class=\"dataframe\">\n",
       "  <thead>\n",
       "    <tr style=\"text-align: right;\">\n",
       "      <th></th>\n",
       "      <th>count</th>\n",
       "      <th>mean</th>\n",
       "      <th>std</th>\n",
       "      <th>min</th>\n",
       "      <th>25%</th>\n",
       "      <th>50%</th>\n",
       "      <th>75%</th>\n",
       "      <th>max</th>\n",
       "    </tr>\n",
       "    <tr>\n",
       "      <th>Outlet_Identifier</th>\n",
       "      <th></th>\n",
       "      <th></th>\n",
       "      <th></th>\n",
       "      <th></th>\n",
       "      <th></th>\n",
       "      <th></th>\n",
       "      <th></th>\n",
       "      <th></th>\n",
       "    </tr>\n",
       "  </thead>\n",
       "  <tbody>\n",
       "    <tr>\n",
       "      <th>OUT010</th>\n",
       "      <td>555.0</td>\n",
       "      <td>339.351662</td>\n",
       "      <td>271.014855</td>\n",
       "      <td>33.2900</td>\n",
       "      <td>154.13270</td>\n",
       "      <td>250.3408</td>\n",
       "      <td>455.40720</td>\n",
       "      <td>1775.6886</td>\n",
       "    </tr>\n",
       "    <tr>\n",
       "      <th>OUT013</th>\n",
       "      <td>917.0</td>\n",
       "      <td>2217.100205</td>\n",
       "      <td>1398.677744</td>\n",
       "      <td>73.2380</td>\n",
       "      <td>1057.95620</td>\n",
       "      <td>2014.7108</td>\n",
       "      <td>3103.95960</td>\n",
       "      <td>6474.2392</td>\n",
       "    </tr>\n",
       "    <tr>\n",
       "      <th>OUT017</th>\n",
       "      <td>907.0</td>\n",
       "      <td>2233.103477</td>\n",
       "      <td>1368.939423</td>\n",
       "      <td>143.8128</td>\n",
       "      <td>1174.47120</td>\n",
       "      <td>1970.7680</td>\n",
       "      <td>3029.39000</td>\n",
       "      <td>6471.5760</td>\n",
       "    </tr>\n",
       "    <tr>\n",
       "      <th>OUT018</th>\n",
       "      <td>925.0</td>\n",
       "      <td>1980.230278</td>\n",
       "      <td>1351.714417</td>\n",
       "      <td>69.2432</td>\n",
       "      <td>980.05760</td>\n",
       "      <td>1651.1840</td>\n",
       "      <td>2687.83460</td>\n",
       "      <td>6439.6176</td>\n",
       "    </tr>\n",
       "    <tr>\n",
       "      <th>OUT019</th>\n",
       "      <td>528.0</td>\n",
       "      <td>340.329723</td>\n",
       "      <td>249.979449</td>\n",
       "      <td>33.9558</td>\n",
       "      <td>153.63335</td>\n",
       "      <td>265.3213</td>\n",
       "      <td>460.73360</td>\n",
       "      <td>1482.0708</td>\n",
       "    </tr>\n",
       "    <tr>\n",
       "      <th>OUT027</th>\n",
       "      <td>832.0</td>\n",
       "      <td>3174.872101</td>\n",
       "      <td>1564.822218</td>\n",
       "      <td>241.6854</td>\n",
       "      <td>1868.06835</td>\n",
       "      <td>3098.6332</td>\n",
       "      <td>4376.96920</td>\n",
       "      <td>6478.2340</td>\n",
       "    </tr>\n",
       "    <tr>\n",
       "      <th>OUT035</th>\n",
       "      <td>914.0</td>\n",
       "      <td>2356.620225</td>\n",
       "      <td>1417.754807</td>\n",
       "      <td>113.8518</td>\n",
       "      <td>1235.05900</td>\n",
       "      <td>2090.9449</td>\n",
       "      <td>3233.29125</td>\n",
       "      <td>6474.2392</td>\n",
       "    </tr>\n",
       "    <tr>\n",
       "      <th>OUT045</th>\n",
       "      <td>920.0</td>\n",
       "      <td>2137.772351</td>\n",
       "      <td>1357.869542</td>\n",
       "      <td>99.8700</td>\n",
       "      <td>1062.61680</td>\n",
       "      <td>1818.9656</td>\n",
       "      <td>2893.56680</td>\n",
       "      <td>6426.3016</td>\n",
       "    </tr>\n",
       "    <tr>\n",
       "      <th>OUT046</th>\n",
       "      <td>920.0</td>\n",
       "      <td>2219.794569</td>\n",
       "      <td>1384.221202</td>\n",
       "      <td>101.8674</td>\n",
       "      <td>1124.03685</td>\n",
       "      <td>1924.8278</td>\n",
       "      <td>3063.17935</td>\n",
       "      <td>6308.4550</td>\n",
       "    </tr>\n",
       "    <tr>\n",
       "      <th>OUT049</th>\n",
       "      <td>919.0</td>\n",
       "      <td>2291.892251</td>\n",
       "      <td>1430.498046</td>\n",
       "      <td>111.8544</td>\n",
       "      <td>1175.80280</td>\n",
       "      <td>1957.4520</td>\n",
       "      <td>3225.80100</td>\n",
       "      <td>6424.9700</td>\n",
       "    </tr>\n",
       "  </tbody>\n",
       "</table>\n",
       "</div>"
      ],
      "text/plain": [
       "                   count         mean          std       min         25%  \\\n",
       "Outlet_Identifier                                                          \n",
       "OUT010             555.0   339.351662   271.014855   33.2900   154.13270   \n",
       "OUT013             917.0  2217.100205  1398.677744   73.2380  1057.95620   \n",
       "OUT017             907.0  2233.103477  1368.939423  143.8128  1174.47120   \n",
       "OUT018             925.0  1980.230278  1351.714417   69.2432   980.05760   \n",
       "OUT019             528.0   340.329723   249.979449   33.9558   153.63335   \n",
       "OUT027             832.0  3174.872101  1564.822218  241.6854  1868.06835   \n",
       "OUT035             914.0  2356.620225  1417.754807  113.8518  1235.05900   \n",
       "OUT045             920.0  2137.772351  1357.869542   99.8700  1062.61680   \n",
       "OUT046             920.0  2219.794569  1384.221202  101.8674  1124.03685   \n",
       "OUT049             919.0  2291.892251  1430.498046  111.8544  1175.80280   \n",
       "\n",
       "                         50%         75%        max  \n",
       "Outlet_Identifier                                    \n",
       "OUT010              250.3408   455.40720  1775.6886  \n",
       "OUT013             2014.7108  3103.95960  6474.2392  \n",
       "OUT017             1970.7680  3029.39000  6471.5760  \n",
       "OUT018             1651.1840  2687.83460  6439.6176  \n",
       "OUT019              265.3213   460.73360  1482.0708  \n",
       "OUT027             3098.6332  4376.96920  6478.2340  \n",
       "OUT035             2090.9449  3233.29125  6474.2392  \n",
       "OUT045             1818.9656  2893.56680  6426.3016  \n",
       "OUT046             1924.8278  3063.17935  6308.4550  \n",
       "OUT049             1957.4520  3225.80100  6424.9700  "
      ]
     },
     "execution_count": 87,
     "metadata": {},
     "output_type": "execute_result"
    }
   ],
   "source": [
    "k2.describe()"
   ]
  },
  {
   "cell_type": "code",
   "execution_count": 88,
   "id": "623f9996",
   "metadata": {},
   "outputs": [],
   "source": [
    "k2 = df2.groupby(\"Outlet_Identifier\")[\"Item_Outlet_Sales\"]"
   ]
  },
  {
   "cell_type": "code",
   "execution_count": 89,
   "id": "9231793d",
   "metadata": {},
   "outputs": [
    {
     "data": {
      "text/plain": [
       "(6011, 11)"
      ]
     },
     "execution_count": 89,
     "metadata": {},
     "output_type": "execute_result"
    }
   ],
   "source": [
    "def remove_pps_outliers(df1):\n",
    "    df_out = pd.DataFrame()\n",
    "    for key, subdf in df1.groupby('Outlet_Identifier'):\n",
    "        m = np.mean(subdf.Item_Outlet_Sales)\n",
    "        st = np.std(subdf.Item_Outlet_Sales)\n",
    "        reduced_df = subdf[(subdf.Item_Outlet_Sales>(m-st)) & (subdf.Item_Outlet_Sales<=(m+st))]\n",
    "        df_out = pd.concat([df_out,reduced_df],ignore_index=True)\n",
    "    return df_out\n",
    "df4 = remove_pps_outliers(df1)\n",
    "df4.shape"
   ]
  },
  {
   "cell_type": "code",
   "execution_count": 90,
   "id": "3917cd83",
   "metadata": {},
   "outputs": [
    {
     "data": {
      "text/html": [
       "<div>\n",
       "<style scoped>\n",
       "    .dataframe tbody tr th:only-of-type {\n",
       "        vertical-align: middle;\n",
       "    }\n",
       "\n",
       "    .dataframe tbody tr th {\n",
       "        vertical-align: top;\n",
       "    }\n",
       "\n",
       "    .dataframe thead th {\n",
       "        text-align: right;\n",
       "    }\n",
       "</style>\n",
       "<table border=\"1\" class=\"dataframe\">\n",
       "  <thead>\n",
       "    <tr style=\"text-align: right;\">\n",
       "      <th></th>\n",
       "      <th>count</th>\n",
       "      <th>mean</th>\n",
       "      <th>std</th>\n",
       "      <th>min</th>\n",
       "      <th>25%</th>\n",
       "      <th>50%</th>\n",
       "      <th>75%</th>\n",
       "      <th>max</th>\n",
       "    </tr>\n",
       "    <tr>\n",
       "      <th>Outlet_Identifier</th>\n",
       "      <th></th>\n",
       "      <th></th>\n",
       "      <th></th>\n",
       "      <th></th>\n",
       "      <th></th>\n",
       "      <th></th>\n",
       "      <th></th>\n",
       "      <th></th>\n",
       "    </tr>\n",
       "  </thead>\n",
       "  <tbody>\n",
       "    <tr>\n",
       "      <th>OUT010</th>\n",
       "      <td>450.0</td>\n",
       "      <td>267.775883</td>\n",
       "      <td>143.013065</td>\n",
       "      <td>70.5748</td>\n",
       "      <td>157.12880</td>\n",
       "      <td>225.7062</td>\n",
       "      <td>376.50990</td>\n",
       "      <td>596.5568</td>\n",
       "    </tr>\n",
       "    <tr>\n",
       "      <th>OUT013</th>\n",
       "      <td>640.0</td>\n",
       "      <td>2149.545703</td>\n",
       "      <td>844.641636</td>\n",
       "      <td>772.3280</td>\n",
       "      <td>1469.75350</td>\n",
       "      <td>2078.6276</td>\n",
       "      <td>2850.28980</td>\n",
       "      <td>3795.0600</td>\n",
       "    </tr>\n",
       "    <tr>\n",
       "      <th>OUT017</th>\n",
       "      <td>652.0</td>\n",
       "      <td>2094.552678</td>\n",
       "      <td>812.448498</td>\n",
       "      <td>792.3020</td>\n",
       "      <td>1412.16180</td>\n",
       "      <td>1988.7446</td>\n",
       "      <td>2697.48870</td>\n",
       "      <td>3844.9950</td>\n",
       "    </tr>\n",
       "    <tr>\n",
       "      <th>OUT018</th>\n",
       "      <td>647.0</td>\n",
       "      <td>1755.822651</td>\n",
       "      <td>717.449150</td>\n",
       "      <td>628.5152</td>\n",
       "      <td>1177.80020</td>\n",
       "      <td>1631.8758</td>\n",
       "      <td>2291.68360</td>\n",
       "      <td>3367.6164</td>\n",
       "    </tr>\n",
       "    <tr>\n",
       "      <th>OUT019</th>\n",
       "      <td>406.0</td>\n",
       "      <td>286.412073</td>\n",
       "      <td>136.583788</td>\n",
       "      <td>91.8804</td>\n",
       "      <td>171.27705</td>\n",
       "      <td>254.3356</td>\n",
       "      <td>385.49820</td>\n",
       "      <td>589.2330</td>\n",
       "    </tr>\n",
       "    <tr>\n",
       "      <th>OUT027</th>\n",
       "      <td>628.0</td>\n",
       "      <td>3457.402923</td>\n",
       "      <td>1165.681335</td>\n",
       "      <td>1569.9564</td>\n",
       "      <td>2469.45220</td>\n",
       "      <td>3366.9506</td>\n",
       "      <td>4377.13565</td>\n",
       "      <td>5816.4288</td>\n",
       "    </tr>\n",
       "    <tr>\n",
       "      <th>OUT035</th>\n",
       "      <td>626.0</td>\n",
       "      <td>2198.780038</td>\n",
       "      <td>812.065906</td>\n",
       "      <td>904.1564</td>\n",
       "      <td>1488.22945</td>\n",
       "      <td>2093.9410</td>\n",
       "      <td>2822.49265</td>\n",
       "      <td>3970.8312</td>\n",
       "    </tr>\n",
       "    <tr>\n",
       "      <th>OUT045</th>\n",
       "      <td>669.0</td>\n",
       "      <td>1936.634056</td>\n",
       "      <td>797.023678</td>\n",
       "      <td>731.0484</td>\n",
       "      <td>1267.01740</td>\n",
       "      <td>1798.9916</td>\n",
       "      <td>2591.29360</td>\n",
       "      <td>3644.5892</td>\n",
       "    </tr>\n",
       "    <tr>\n",
       "      <th>OUT046</th>\n",
       "      <td>654.0</td>\n",
       "      <td>2013.540051</td>\n",
       "      <td>806.941190</td>\n",
       "      <td>790.9704</td>\n",
       "      <td>1312.79115</td>\n",
       "      <td>1904.1880</td>\n",
       "      <td>2652.21430</td>\n",
       "      <td>3749.7856</td>\n",
       "    </tr>\n",
       "    <tr>\n",
       "      <th>OUT049</th>\n",
       "      <td>639.0</td>\n",
       "      <td>2114.025446</td>\n",
       "      <td>848.437066</td>\n",
       "      <td>836.2448</td>\n",
       "      <td>1395.51680</td>\n",
       "      <td>1957.4520</td>\n",
       "      <td>2796.36000</td>\n",
       "      <td>3848.3240</td>\n",
       "    </tr>\n",
       "  </tbody>\n",
       "</table>\n",
       "</div>"
      ],
      "text/plain": [
       "                   count         mean          std        min         25%  \\\n",
       "Outlet_Identifier                                                           \n",
       "OUT010             450.0   267.775883   143.013065    70.5748   157.12880   \n",
       "OUT013             640.0  2149.545703   844.641636   772.3280  1469.75350   \n",
       "OUT017             652.0  2094.552678   812.448498   792.3020  1412.16180   \n",
       "OUT018             647.0  1755.822651   717.449150   628.5152  1177.80020   \n",
       "OUT019             406.0   286.412073   136.583788    91.8804   171.27705   \n",
       "OUT027             628.0  3457.402923  1165.681335  1569.9564  2469.45220   \n",
       "OUT035             626.0  2198.780038   812.065906   904.1564  1488.22945   \n",
       "OUT045             669.0  1936.634056   797.023678   731.0484  1267.01740   \n",
       "OUT046             654.0  2013.540051   806.941190   790.9704  1312.79115   \n",
       "OUT049             639.0  2114.025446   848.437066   836.2448  1395.51680   \n",
       "\n",
       "                         50%         75%        max  \n",
       "Outlet_Identifier                                    \n",
       "OUT010              225.7062   376.50990   596.5568  \n",
       "OUT013             2078.6276  2850.28980  3795.0600  \n",
       "OUT017             1988.7446  2697.48870  3844.9950  \n",
       "OUT018             1631.8758  2291.68360  3367.6164  \n",
       "OUT019              254.3356   385.49820   589.2330  \n",
       "OUT027             3366.9506  4377.13565  5816.4288  \n",
       "OUT035             2093.9410  2822.49265  3970.8312  \n",
       "OUT045             1798.9916  2591.29360  3644.5892  \n",
       "OUT046             1904.1880  2652.21430  3749.7856  \n",
       "OUT049             1957.4520  2796.36000  3848.3240  "
      ]
     },
     "execution_count": 90,
     "metadata": {},
     "output_type": "execute_result"
    }
   ],
   "source": [
    "r = df4.groupby(\"Outlet_Identifier\")[\"Item_Outlet_Sales\"]\n",
    "r.describe()"
   ]
  },
  {
   "cell_type": "code",
   "execution_count": 91,
   "id": "4a1a71d1",
   "metadata": {},
   "outputs": [
    {
     "name": "stderr",
     "output_type": "stream",
     "text": [
      "C:\\Users\\user\\anaconda3\\lib\\site-packages\\seaborn\\_decorators.py:36: FutureWarning: Pass the following variable as a keyword arg: x. From version 0.12, the only valid positional argument will be `data`, and passing other arguments without an explicit keyword will result in an error or misinterpretation.\n",
      "  warnings.warn(\n"
     ]
    },
    {
     "data": {
      "text/plain": [
       "Text(0.5, 1.0, 'Box Plot of Outlet_Sales')"
      ]
     },
     "execution_count": 91,
     "metadata": {},
     "output_type": "execute_result"
    },
    {
     "data": {
      "image/png": "[encoded data removed]",
      "text/plain": [
       "<Figure size 432x288 with 1 Axes>"
      ]
     },
     "metadata": {},
     "output_type": "display_data"
    }
   ],
   "source": [
    "sns.set_style('whitegrid')\n",
    "sns.boxplot(df4.Item_Outlet_Sales, color = 'b')\n",
    "plt.title('Box Plot of Outlet_Sales')"
   ]
  },
  {
   "cell_type": "code",
   "execution_count": 92,
   "id": "00725154",
   "metadata": {},
   "outputs": [
    {
     "data": {
      "text/plain": [
       "(3648, 11)"
      ]
     },
     "execution_count": 92,
     "metadata": {},
     "output_type": "execute_result"
    }
   ],
   "source": [
    "df5 = remove_pps_outliers(df4)\n",
    "df5.shape"
   ]
  },
  {
   "cell_type": "code",
   "execution_count": 93,
   "id": "e8d0ed30",
   "metadata": {},
   "outputs": [
    {
     "name": "stderr",
     "output_type": "stream",
     "text": [
      "C:\\Users\\user\\anaconda3\\lib\\site-packages\\seaborn\\distributions.py:2619: FutureWarning: `distplot` is a deprecated function and will be removed in a future version. Please adapt your code to use either `displot` (a figure-level function with similar flexibility) or `histplot` (an axes-level function for histograms).\n",
      "  warnings.warn(msg, FutureWarning)\n"
     ]
    },
    {
     "data": {
      "text/plain": [
       "Text(0.5, 1.0, 'Normality of age')"
      ]
     },
     "execution_count": 93,
     "metadata": {},
     "output_type": "execute_result"
    },
    {
     "data": {
      "image/png": "[encoded data removed]",
      "text/plain": [
       "<Figure size 432x288 with 1 Axes>"
      ]
     },
     "metadata": {},
     "output_type": "display_data"
    }
   ],
   "source": [
    "sns.distplot(df2.Item_Outlet_Sales)\n",
    "plt.title('Normality of age')"
   ]
  },
  {
   "cell_type": "code",
   "execution_count": 94,
   "id": "7dd8e8a7",
   "metadata": {},
   "outputs": [
    {
     "name": "stderr",
     "output_type": "stream",
     "text": [
      "C:\\Users\\user\\anaconda3\\lib\\site-packages\\seaborn\\distributions.py:2619: FutureWarning: `distplot` is a deprecated function and will be removed in a future version. Please adapt your code to use either `displot` (a figure-level function with similar flexibility) or `histplot` (an axes-level function for histograms).\n",
      "  warnings.warn(msg, FutureWarning)\n"
     ]
    },
    {
     "data": {
      "text/plain": [
       "Text(0.5, 1.0, 'Normality of age')"
      ]
     },
     "execution_count": 94,
     "metadata": {},
     "output_type": "execute_result"
    },
    {
     "data": {
      "image/png": "[encoded data removed]",
      "text/plain": [
       "<Figure size 432x288 with 1 Axes>"
      ]
     },
     "metadata": {},
     "output_type": "display_data"
    }
   ],
   "source": [
    "sns.distplot(df4.Item_Outlet_Sales)\n",
    "plt.title('Normality of age')"
   ]
  },
  {
   "cell_type": "code",
   "execution_count": 95,
   "id": "52798b5d",
   "metadata": {},
   "outputs": [
    {
     "data": {
      "text/html": [
       "<div>\n",
       "<style scoped>\n",
       "    .dataframe tbody tr th:only-of-type {\n",
       "        vertical-align: middle;\n",
       "    }\n",
       "\n",
       "    .dataframe tbody tr th {\n",
       "        vertical-align: top;\n",
       "    }\n",
       "\n",
       "    .dataframe thead th {\n",
       "        text-align: right;\n",
       "    }\n",
       "</style>\n",
       "<table border=\"1\" class=\"dataframe\">\n",
       "  <thead>\n",
       "    <tr style=\"text-align: right;\">\n",
       "      <th></th>\n",
       "      <th>Item_Identifier</th>\n",
       "      <th>Item_Weight</th>\n",
       "      <th>Item_Visibility</th>\n",
       "      <th>Item_Type</th>\n",
       "      <th>Item_MRP</th>\n",
       "      <th>Outlet_Identifier</th>\n",
       "      <th>Outlet_Establishment_Year</th>\n",
       "      <th>Outlet_Size</th>\n",
       "      <th>Outlet_Location_Type</th>\n",
       "      <th>Outlet_Type</th>\n",
       "      <th>Item_Outlet_Sales</th>\n",
       "    </tr>\n",
       "  </thead>\n",
       "  <tbody>\n",
       "    <tr>\n",
       "      <th>0</th>\n",
       "      <td>FDE51</td>\n",
       "      <td>5.925</td>\n",
       "      <td>0.161467</td>\n",
       "      <td>Dairy</td>\n",
       "      <td>45.5086</td>\n",
       "      <td>OUT010</td>\n",
       "      <td>1998</td>\n",
       "      <td>Medium</td>\n",
       "      <td>Tier 3</td>\n",
       "      <td>Grocery Store</td>\n",
       "      <td>178.4344</td>\n",
       "    </tr>\n",
       "    <tr>\n",
       "      <th>1</th>\n",
       "      <td>FDV38</td>\n",
       "      <td>19.250</td>\n",
       "      <td>0.170349</td>\n",
       "      <td>Dairy</td>\n",
       "      <td>55.7956</td>\n",
       "      <td>OUT010</td>\n",
       "      <td>1998</td>\n",
       "      <td>Medium</td>\n",
       "      <td>Tier 3</td>\n",
       "      <td>Grocery Store</td>\n",
       "      <td>163.7868</td>\n",
       "    </tr>\n",
       "    <tr>\n",
       "      <th>2</th>\n",
       "      <td>FDM39</td>\n",
       "      <td>6.420</td>\n",
       "      <td>0.089499</td>\n",
       "      <td>Dairy</td>\n",
       "      <td>178.1002</td>\n",
       "      <td>OUT010</td>\n",
       "      <td>1998</td>\n",
       "      <td>Medium</td>\n",
       "      <td>Tier 3</td>\n",
       "      <td>Grocery Store</td>\n",
       "      <td>358.2004</td>\n",
       "    </tr>\n",
       "    <tr>\n",
       "      <th>3</th>\n",
       "      <td>FDC46</td>\n",
       "      <td>17.700</td>\n",
       "      <td>0.195068</td>\n",
       "      <td>Snack Foods</td>\n",
       "      <td>185.4266</td>\n",
       "      <td>OUT010</td>\n",
       "      <td>1998</td>\n",
       "      <td>Medium</td>\n",
       "      <td>Tier 3</td>\n",
       "      <td>Grocery Store</td>\n",
       "      <td>184.4266</td>\n",
       "    </tr>\n",
       "    <tr>\n",
       "      <th>4</th>\n",
       "      <td>FDW20</td>\n",
       "      <td>20.750</td>\n",
       "      <td>0.040421</td>\n",
       "      <td>Fruits and Vegetables</td>\n",
       "      <td>122.1730</td>\n",
       "      <td>OUT010</td>\n",
       "      <td>1998</td>\n",
       "      <td>Medium</td>\n",
       "      <td>Tier 3</td>\n",
       "      <td>Grocery Store</td>\n",
       "      <td>369.5190</td>\n",
       "    </tr>\n",
       "    <tr>\n",
       "      <th>...</th>\n",
       "      <td>...</td>\n",
       "      <td>...</td>\n",
       "      <td>...</td>\n",
       "      <td>...</td>\n",
       "      <td>...</td>\n",
       "      <td>...</td>\n",
       "      <td>...</td>\n",
       "      <td>...</td>\n",
       "      <td>...</td>\n",
       "      <td>...</td>\n",
       "      <td>...</td>\n",
       "    </tr>\n",
       "    <tr>\n",
       "      <th>6006</th>\n",
       "      <td>FDP39</td>\n",
       "      <td>12.650</td>\n",
       "      <td>0.069533</td>\n",
       "      <td>Meat</td>\n",
       "      <td>51.8324</td>\n",
       "      <td>OUT049</td>\n",
       "      <td>1999</td>\n",
       "      <td>Medium</td>\n",
       "      <td>Tier 1</td>\n",
       "      <td>Supermarket Type1</td>\n",
       "      <td>1090.5804</td>\n",
       "    </tr>\n",
       "    <tr>\n",
       "      <th>6007</th>\n",
       "      <td>FDX15</td>\n",
       "      <td>17.200</td>\n",
       "      <td>0.156542</td>\n",
       "      <td>Meat</td>\n",
       "      <td>162.4578</td>\n",
       "      <td>OUT049</td>\n",
       "      <td>1999</td>\n",
       "      <td>Medium</td>\n",
       "      <td>Tier 1</td>\n",
       "      <td>Supermarket Type1</td>\n",
       "      <td>2888.2404</td>\n",
       "    </tr>\n",
       "    <tr>\n",
       "      <th>6008</th>\n",
       "      <td>FDK21</td>\n",
       "      <td>7.905</td>\n",
       "      <td>0.010028</td>\n",
       "      <td>Snack Foods</td>\n",
       "      <td>249.6408</td>\n",
       "      <td>OUT049</td>\n",
       "      <td>1999</td>\n",
       "      <td>Medium</td>\n",
       "      <td>Tier 1</td>\n",
       "      <td>Supermarket Type1</td>\n",
       "      <td>3254.4304</td>\n",
       "    </tr>\n",
       "    <tr>\n",
       "      <th>6009</th>\n",
       "      <td>FDW27</td>\n",
       "      <td>5.860</td>\n",
       "      <td>0.151088</td>\n",
       "      <td>Meat</td>\n",
       "      <td>155.1314</td>\n",
       "      <td>OUT049</td>\n",
       "      <td>1999</td>\n",
       "      <td>Medium</td>\n",
       "      <td>Tier 1</td>\n",
       "      <td>Supermarket Type1</td>\n",
       "      <td>1551.3140</td>\n",
       "    </tr>\n",
       "    <tr>\n",
       "      <th>6010</th>\n",
       "      <td>FDL10</td>\n",
       "      <td>8.395</td>\n",
       "      <td>0.039554</td>\n",
       "      <td>Snack Foods</td>\n",
       "      <td>99.1042</td>\n",
       "      <td>OUT049</td>\n",
       "      <td>1999</td>\n",
       "      <td>Medium</td>\n",
       "      <td>Tier 1</td>\n",
       "      <td>Supermarket Type1</td>\n",
       "      <td>2579.3092</td>\n",
       "    </tr>\n",
       "  </tbody>\n",
       "</table>\n",
       "<p>6011 rows × 11 columns</p>\n",
       "</div>"
      ],
      "text/plain": [
       "     Item_Identifier  Item_Weight  Item_Visibility              Item_Type  \\\n",
       "0              FDE51        5.925         0.161467                  Dairy   \n",
       "1              FDV38       19.250         0.170349                  Dairy   \n",
       "2              FDM39        6.420         0.089499                  Dairy   \n",
       "3              FDC46       17.700         0.195068            Snack Foods   \n",
       "4              FDW20       20.750         0.040421  Fruits and Vegetables   \n",
       "...              ...          ...              ...                    ...   \n",
       "6006           FDP39       12.650         0.069533                   Meat   \n",
       "6007           FDX15       17.200         0.156542                   Meat   \n",
       "6008           FDK21        7.905         0.010028            Snack Foods   \n",
       "6009           FDW27        5.860         0.151088                   Meat   \n",
       "6010           FDL10        8.395         0.039554            Snack Foods   \n",
       "\n",
       "      Item_MRP Outlet_Identifier  Outlet_Establishment_Year Outlet_Size  \\\n",
       "0      45.5086            OUT010                       1998      Medium   \n",
       "1      55.7956            OUT010                       1998      Medium   \n",
       "2     178.1002            OUT010                       1998      Medium   \n",
       "3     185.4266            OUT010                       1998      Medium   \n",
       "4     122.1730            OUT010                       1998      Medium   \n",
       "...        ...               ...                        ...         ...   \n",
       "6006   51.8324            OUT049                       1999      Medium   \n",
       "6007  162.4578            OUT049                       1999      Medium   \n",
       "6008  249.6408            OUT049                       1999      Medium   \n",
       "6009  155.1314            OUT049                       1999      Medium   \n",
       "6010   99.1042            OUT049                       1999      Medium   \n",
       "\n",
       "     Outlet_Location_Type        Outlet_Type  Item_Outlet_Sales  \n",
       "0                  Tier 3      Grocery Store           178.4344  \n",
       "1                  Tier 3      Grocery Store           163.7868  \n",
       "2                  Tier 3      Grocery Store           358.2004  \n",
       "3                  Tier 3      Grocery Store           184.4266  \n",
       "4                  Tier 3      Grocery Store           369.5190  \n",
       "...                   ...                ...                ...  \n",
       "6006               Tier 1  Supermarket Type1          1090.5804  \n",
       "6007               Tier 1  Supermarket Type1          2888.2404  \n",
       "6008               Tier 1  Supermarket Type1          3254.4304  \n",
       "6009               Tier 1  Supermarket Type1          1551.3140  \n",
       "6010               Tier 1  Supermarket Type1          2579.3092  \n",
       "\n",
       "[6011 rows x 11 columns]"
      ]
     },
     "execution_count": 95,
     "metadata": {},
     "output_type": "execute_result"
    }
   ],
   "source": [
    "df4"
   ]
  },
  {
   "cell_type": "code",
   "execution_count": 96,
   "id": "497c4d34",
   "metadata": {},
   "outputs": [
    {
     "data": {
      "text/plain": [
       "count    6011.000000\n",
       "mean      139.966219\n",
       "std        53.668159\n",
       "min        32.055800\n",
       "25%       100.102900\n",
       "50%       140.383800\n",
       "75%       177.434400\n",
       "max       266.888400\n",
       "Name: Item_MRP, dtype: float64"
      ]
     },
     "execution_count": 96,
     "metadata": {},
     "output_type": "execute_result"
    }
   ],
   "source": [
    "df4.Item_MRP.describe()"
   ]
  },
  {
   "cell_type": "code",
   "execution_count": 97,
   "id": "d90e87e6",
   "metadata": {},
   "outputs": [
    {
     "name": "stderr",
     "output_type": "stream",
     "text": [
      "C:\\Users\\user\\anaconda3\\lib\\site-packages\\seaborn\\_decorators.py:36: FutureWarning: Pass the following variable as a keyword arg: x. From version 0.12, the only valid positional argument will be `data`, and passing other arguments without an explicit keyword will result in an error or misinterpretation.\n",
      "  warnings.warn(\n"
     ]
    },
    {
     "data": {
      "text/plain": [
       "Text(0.5, 1.0, 'Box Plot of Outlet_Sales')"
      ]
     },
     "execution_count": 97,
     "metadata": {},
     "output_type": "execute_result"
    },
    {
     "data": {
      "image/png": "[encoded data removed]",
      "text/plain": [
       "<Figure size 432x288 with 1 Axes>"
      ]
     },
     "metadata": {},
     "output_type": "display_data"
    }
   ],
   "source": [
    "sns.set_style('whitegrid')\n",
    "sns.boxplot(df4.Item_MRP, color = 'r')\n",
    "plt.title('Box Plot of Outlet_Sales')"
   ]
  },
  {
   "cell_type": "code",
   "execution_count": 98,
   "id": "e998a433",
   "metadata": {},
   "outputs": [],
   "source": [
    "Item_Type = df4.groupby(\"Item_Type\")[\"Item_Outlet_Sales\"]"
   ]
  },
  {
   "cell_type": "code",
   "execution_count": 99,
   "id": "4da63dc6",
   "metadata": {},
   "outputs": [
    {
     "data": {
      "text/plain": [
       "(6011, 11)"
      ]
     },
     "execution_count": 99,
     "metadata": {},
     "output_type": "execute_result"
    }
   ],
   "source": [
    "df4.shape"
   ]
  },
  {
   "cell_type": "code",
   "execution_count": 100,
   "id": "e046d98f",
   "metadata": {},
   "outputs": [
    {
     "data": {
      "text/html": [
       "<div>\n",
       "<style scoped>\n",
       "    .dataframe tbody tr th:only-of-type {\n",
       "        vertical-align: middle;\n",
       "    }\n",
       "\n",
       "    .dataframe tbody tr th {\n",
       "        vertical-align: top;\n",
       "    }\n",
       "\n",
       "    .dataframe thead th {\n",
       "        text-align: right;\n",
       "    }\n",
       "</style>\n",
       "<table border=\"1\" class=\"dataframe\">\n",
       "  <thead>\n",
       "    <tr style=\"text-align: right;\">\n",
       "      <th></th>\n",
       "      <th>count</th>\n",
       "      <th>mean</th>\n",
       "      <th>std</th>\n",
       "      <th>min</th>\n",
       "      <th>25%</th>\n",
       "      <th>50%</th>\n",
       "      <th>75%</th>\n",
       "      <th>max</th>\n",
       "    </tr>\n",
       "    <tr>\n",
       "      <th>Item_Type</th>\n",
       "      <th></th>\n",
       "      <th></th>\n",
       "      <th></th>\n",
       "      <th></th>\n",
       "      <th></th>\n",
       "      <th></th>\n",
       "      <th></th>\n",
       "      <th></th>\n",
       "    </tr>\n",
       "  </thead>\n",
       "  <tbody>\n",
       "    <tr>\n",
       "      <th>Baking Goods</th>\n",
       "      <td>465.0</td>\n",
       "      <td>1844.649730</td>\n",
       "      <td>1116.627880</td>\n",
       "      <td>88.5514</td>\n",
       "      <td>1057.95620</td>\n",
       "      <td>1733.7432</td>\n",
       "      <td>2579.97500</td>\n",
       "      <td>5681.2714</td>\n",
       "    </tr>\n",
       "    <tr>\n",
       "      <th>Breads</th>\n",
       "      <td>184.0</td>\n",
       "      <td>1939.482637</td>\n",
       "      <td>1101.287627</td>\n",
       "      <td>91.8804</td>\n",
       "      <td>1090.08105</td>\n",
       "      <td>1860.2452</td>\n",
       "      <td>2688.00105</td>\n",
       "      <td>5685.9320</td>\n",
       "    </tr>\n",
       "    <tr>\n",
       "      <th>Breakfast</th>\n",
       "      <td>65.0</td>\n",
       "      <td>1792.016065</td>\n",
       "      <td>1026.330397</td>\n",
       "      <td>110.5228</td>\n",
       "      <td>1151.16820</td>\n",
       "      <td>1764.3700</td>\n",
       "      <td>2460.79680</td>\n",
       "      <td>3874.2902</td>\n",
       "    </tr>\n",
       "    <tr>\n",
       "      <th>Canned</th>\n",
       "      <td>480.0</td>\n",
       "      <td>1966.169819</td>\n",
       "      <td>1127.567639</td>\n",
       "      <td>87.2198</td>\n",
       "      <td>1193.94585</td>\n",
       "      <td>1848.9266</td>\n",
       "      <td>2745.09340</td>\n",
       "      <td>5734.5354</td>\n",
       "    </tr>\n",
       "    <tr>\n",
       "      <th>Dairy</th>\n",
       "      <td>455.0</td>\n",
       "      <td>1833.499063</td>\n",
       "      <td>1105.506377</td>\n",
       "      <td>81.2276</td>\n",
       "      <td>1066.61160</td>\n",
       "      <td>1657.8420</td>\n",
       "      <td>2595.95420</td>\n",
       "      <td>5695.2532</td>\n",
       "    </tr>\n",
       "    <tr>\n",
       "      <th>Frozen Foods</th>\n",
       "      <td>577.0</td>\n",
       "      <td>1875.915155</td>\n",
       "      <td>1131.239783</td>\n",
       "      <td>75.9012</td>\n",
       "      <td>1039.97960</td>\n",
       "      <td>1765.7016</td>\n",
       "      <td>2609.93600</td>\n",
       "      <td>5806.4418</td>\n",
       "    </tr>\n",
       "    <tr>\n",
       "      <th>Fruits and Vegetables</th>\n",
       "      <td>890.0</td>\n",
       "      <td>1936.450124</td>\n",
       "      <td>1183.716626</td>\n",
       "      <td>82.5592</td>\n",
       "      <td>1117.04595</td>\n",
       "      <td>1769.6964</td>\n",
       "      <td>2759.07520</td>\n",
       "      <td>5779.1440</td>\n",
       "    </tr>\n",
       "    <tr>\n",
       "      <th>Hard Drinks</th>\n",
       "      <td>151.0</td>\n",
       "      <td>1962.831311</td>\n",
       "      <td>1127.270261</td>\n",
       "      <td>71.9064</td>\n",
       "      <td>1186.45560</td>\n",
       "      <td>1829.6184</td>\n",
       "      <td>2882.24820</td>\n",
       "      <td>5448.9072</td>\n",
       "    </tr>\n",
       "    <tr>\n",
       "      <th>Health and Hygiene</th>\n",
       "      <td>377.0</td>\n",
       "      <td>1965.452196</td>\n",
       "      <td>1112.270638</td>\n",
       "      <td>70.5748</td>\n",
       "      <td>1150.50240</td>\n",
       "      <td>1950.7940</td>\n",
       "      <td>2759.07520</td>\n",
       "      <td>5704.5744</td>\n",
       "    </tr>\n",
       "    <tr>\n",
       "      <th>Household</th>\n",
       "      <td>643.0</td>\n",
       "      <td>2041.588204</td>\n",
       "      <td>1153.184681</td>\n",
       "      <td>105.8622</td>\n",
       "      <td>1236.72350</td>\n",
       "      <td>2004.0580</td>\n",
       "      <td>2824.65650</td>\n",
       "      <td>5609.3650</td>\n",
       "    </tr>\n",
       "    <tr>\n",
       "      <th>Meat</th>\n",
       "      <td>303.0</td>\n",
       "      <td>1909.378164</td>\n",
       "      <td>1190.455915</td>\n",
       "      <td>71.9064</td>\n",
       "      <td>1042.64280</td>\n",
       "      <td>1861.5768</td>\n",
       "      <td>2729.11420</td>\n",
       "      <td>5816.4288</td>\n",
       "    </tr>\n",
       "    <tr>\n",
       "      <th>Others</th>\n",
       "      <td>127.0</td>\n",
       "      <td>1808.297072</td>\n",
       "      <td>1102.225356</td>\n",
       "      <td>109.8570</td>\n",
       "      <td>1040.31250</td>\n",
       "      <td>1808.9786</td>\n",
       "      <td>2448.47950</td>\n",
       "      <td>5546.1140</td>\n",
       "    </tr>\n",
       "    <tr>\n",
       "      <th>Seafood</th>\n",
       "      <td>40.0</td>\n",
       "      <td>1832.215020</td>\n",
       "      <td>1318.776884</td>\n",
       "      <td>149.8050</td>\n",
       "      <td>660.14070</td>\n",
       "      <td>1902.1906</td>\n",
       "      <td>2664.53160</td>\n",
       "      <td>5704.5744</td>\n",
       "    </tr>\n",
       "    <tr>\n",
       "      <th>Snack Foods</th>\n",
       "      <td>856.0</td>\n",
       "      <td>2024.014111</td>\n",
       "      <td>1127.450240</td>\n",
       "      <td>79.2302</td>\n",
       "      <td>1230.39840</td>\n",
       "      <td>1947.7979</td>\n",
       "      <td>2816.33400</td>\n",
       "      <td>5753.8436</td>\n",
       "    </tr>\n",
       "    <tr>\n",
       "      <th>Soft Drinks</th>\n",
       "      <td>305.0</td>\n",
       "      <td>1830.683680</td>\n",
       "      <td>1061.450943</td>\n",
       "      <td>95.8752</td>\n",
       "      <td>1090.58040</td>\n",
       "      <td>1701.7848</td>\n",
       "      <td>2552.67720</td>\n",
       "      <td>5778.4782</td>\n",
       "    </tr>\n",
       "    <tr>\n",
       "      <th>Starchy Foods</th>\n",
       "      <td>93.0</td>\n",
       "      <td>2018.390598</td>\n",
       "      <td>1126.339728</td>\n",
       "      <td>97.2068</td>\n",
       "      <td>1159.82360</td>\n",
       "      <td>1911.5118</td>\n",
       "      <td>2885.57720</td>\n",
       "      <td>5262.4832</td>\n",
       "    </tr>\n",
       "  </tbody>\n",
       "</table>\n",
       "</div>"
      ],
      "text/plain": [
       "                       count         mean          std       min         25%  \\\n",
       "Item_Type                                                                      \n",
       "Baking Goods           465.0  1844.649730  1116.627880   88.5514  1057.95620   \n",
       "Breads                 184.0  1939.482637  1101.287627   91.8804  1090.08105   \n",
       "Breakfast               65.0  1792.016065  1026.330397  110.5228  1151.16820   \n",
       "Canned                 480.0  1966.169819  1127.567639   87.2198  1193.94585   \n",
       "Dairy                  455.0  1833.499063  1105.506377   81.2276  1066.61160   \n",
       "Frozen Foods           577.0  1875.915155  1131.239783   75.9012  1039.97960   \n",
       "Fruits and Vegetables  890.0  1936.450124  1183.716626   82.5592  1117.04595   \n",
       "Hard Drinks            151.0  1962.831311  1127.270261   71.9064  1186.45560   \n",
       "Health and Hygiene     377.0  1965.452196  1112.270638   70.5748  1150.50240   \n",
       "Household              643.0  2041.588204  1153.184681  105.8622  1236.72350   \n",
       "Meat                   303.0  1909.378164  1190.455915   71.9064  1042.64280   \n",
       "Others                 127.0  1808.297072  1102.225356  109.8570  1040.31250   \n",
       "Seafood                 40.0  1832.215020  1318.776884  149.8050   660.14070   \n",
       "Snack Foods            856.0  2024.014111  1127.450240   79.2302  1230.39840   \n",
       "Soft Drinks            305.0  1830.683680  1061.450943   95.8752  1090.58040   \n",
       "Starchy Foods           93.0  2018.390598  1126.339728   97.2068  1159.82360   \n",
       "\n",
       "                             50%         75%        max  \n",
       "Item_Type                                                \n",
       "Baking Goods           1733.7432  2579.97500  5681.2714  \n",
       "Breads                 1860.2452  2688.00105  5685.9320  \n",
       "Breakfast              1764.3700  2460.79680  3874.2902  \n",
       "Canned                 1848.9266  2745.09340  5734.5354  \n",
       "Dairy                  1657.8420  2595.95420  5695.2532  \n",
       "Frozen Foods           1765.7016  2609.93600  5806.4418  \n",
       "Fruits and Vegetables  1769.6964  2759.07520  5779.1440  \n",
       "Hard Drinks            1829.6184  2882.24820  5448.9072  \n",
       "Health and Hygiene     1950.7940  2759.07520  5704.5744  \n",
       "Household              2004.0580  2824.65650  5609.3650  \n",
       "Meat                   1861.5768  2729.11420  5816.4288  \n",
       "Others                 1808.9786  2448.47950  5546.1140  \n",
       "Seafood                1902.1906  2664.53160  5704.5744  \n",
       "Snack Foods            1947.7979  2816.33400  5753.8436  \n",
       "Soft Drinks            1701.7848  2552.67720  5778.4782  \n",
       "Starchy Foods          1911.5118  2885.57720  5262.4832  "
      ]
     },
     "execution_count": 100,
     "metadata": {},
     "output_type": "execute_result"
    }
   ],
   "source": [
    "Item_Type.describe()"
   ]
  },
  {
   "cell_type": "code",
   "execution_count": 101,
   "id": "013255ca",
   "metadata": {},
   "outputs": [
    {
     "data": {
      "text/html": [
       "<div>\n",
       "<style scoped>\n",
       "    .dataframe tbody tr th:only-of-type {\n",
       "        vertical-align: middle;\n",
       "    }\n",
       "\n",
       "    .dataframe tbody tr th {\n",
       "        vertical-align: top;\n",
       "    }\n",
       "\n",
       "    .dataframe thead th {\n",
       "        text-align: right;\n",
       "    }\n",
       "</style>\n",
       "<table border=\"1\" class=\"dataframe\">\n",
       "  <thead>\n",
       "    <tr style=\"text-align: right;\">\n",
       "      <th></th>\n",
       "      <th>df</th>\n",
       "      <th>sum_sq</th>\n",
       "      <th>mean_sq</th>\n",
       "      <th>F</th>\n",
       "      <th>PR(&gt;F)</th>\n",
       "    </tr>\n",
       "  </thead>\n",
       "  <tbody>\n",
       "    <tr>\n",
       "      <th>Outlet_Establishment_Year</th>\n",
       "      <td>1.0</td>\n",
       "      <td>4.891924e+07</td>\n",
       "      <td>4.891924e+07</td>\n",
       "      <td>38.158422</td>\n",
       "      <td>6.950070e-10</td>\n",
       "    </tr>\n",
       "    <tr>\n",
       "      <th>Residual</th>\n",
       "      <td>6009.0</td>\n",
       "      <td>7.703560e+09</td>\n",
       "      <td>1.282004e+06</td>\n",
       "      <td>NaN</td>\n",
       "      <td>NaN</td>\n",
       "    </tr>\n",
       "  </tbody>\n",
       "</table>\n",
       "</div>"
      ],
      "text/plain": [
       "                               df        sum_sq       mean_sq          F  \\\n",
       "Outlet_Establishment_Year     1.0  4.891924e+07  4.891924e+07  38.158422   \n",
       "Residual                   6009.0  7.703560e+09  1.282004e+06        NaN   \n",
       "\n",
       "                                 PR(>F)  \n",
       "Outlet_Establishment_Year  6.950070e-10  \n",
       "Residual                            NaN  "
      ]
     },
     "execution_count": 101,
     "metadata": {},
     "output_type": "execute_result"
    }
   ],
   "source": [
    "mode = ols(\"Item_Outlet_Sales  ~ Outlet_Establishment_Year \", data = df4).fit()\n",
    "sm.stats.anova_lm(mode)"
   ]
  },
  {
   "cell_type": "code",
   "execution_count": 102,
   "id": "4a32813d",
   "metadata": {},
   "outputs": [
    {
     "data": {
      "text/plain": [
       "<AxesSubplot:>"
      ]
     },
     "execution_count": 102,
     "metadata": {},
     "output_type": "execute_result"
    },
    {
     "data": {
      "image/png": "[encoded data removed]",
      "text/plain": [
       "<Figure size 432x288 with 1 Axes>"
      ]
     },
     "metadata": {},
     "output_type": "display_data"
    }
   ],
   "source": [
    "df.Outlet_Establishment_Year.value_counts().plot(kind='bar')"
   ]
  },
  {
   "cell_type": "markdown",
   "id": "8fef7725",
   "metadata": {},
   "source": [
    "### Tier 3 making the high number of sales"
   ]
  },
  {
   "cell_type": "markdown",
   "id": "bafc49b1",
   "metadata": {},
   "source": [
    "### Outlet_Location_Type"
   ]
  },
  {
   "cell_type": "code",
   "execution_count": 103,
   "id": "5d68de2e",
   "metadata": {},
   "outputs": [
    {
     "data": {
      "text/plain": [
       "<AxesSubplot:>"
      ]
     },
     "execution_count": 103,
     "metadata": {},
     "output_type": "execute_result"
    },
    {
     "data": {
      "image/png": "[encoded data removed]",
      "text/plain": [
       "<Figure size 432x288 with 1 Axes>"
      ]
     },
     "metadata": {},
     "output_type": "display_data"
    }
   ],
   "source": [
    "df.Outlet_Location_Type.value_counts().plot(kind='bar')"
   ]
  },
  {
   "cell_type": "code",
   "execution_count": 104,
   "id": "59b1c4c0",
   "metadata": {},
   "outputs": [
    {
     "data": {
      "text/html": [
       "<div>\n",
       "<style scoped>\n",
       "    .dataframe tbody tr th:only-of-type {\n",
       "        vertical-align: middle;\n",
       "    }\n",
       "\n",
       "    .dataframe tbody tr th {\n",
       "        vertical-align: top;\n",
       "    }\n",
       "\n",
       "    .dataframe thead th {\n",
       "        text-align: right;\n",
       "    }\n",
       "</style>\n",
       "<table border=\"1\" class=\"dataframe\">\n",
       "  <thead>\n",
       "    <tr style=\"text-align: right;\">\n",
       "      <th></th>\n",
       "      <th>df</th>\n",
       "      <th>sum_sq</th>\n",
       "      <th>mean_sq</th>\n",
       "      <th>F</th>\n",
       "      <th>PR(&gt;F)</th>\n",
       "    </tr>\n",
       "  </thead>\n",
       "  <tbody>\n",
       "    <tr>\n",
       "      <th>Outlet_Location_Type</th>\n",
       "      <td>2.0</td>\n",
       "      <td>2.085820e+08</td>\n",
       "      <td>1.042910e+08</td>\n",
       "      <td>83.057901</td>\n",
       "      <td>2.618665e-36</td>\n",
       "    </tr>\n",
       "    <tr>\n",
       "      <th>Residual</th>\n",
       "      <td>6008.0</td>\n",
       "      <td>7.543897e+09</td>\n",
       "      <td>1.255642e+06</td>\n",
       "      <td>NaN</td>\n",
       "      <td>NaN</td>\n",
       "    </tr>\n",
       "  </tbody>\n",
       "</table>\n",
       "</div>"
      ],
      "text/plain": [
       "                          df        sum_sq       mean_sq          F  \\\n",
       "Outlet_Location_Type     2.0  2.085820e+08  1.042910e+08  83.057901   \n",
       "Residual              6008.0  7.543897e+09  1.255642e+06        NaN   \n",
       "\n",
       "                            PR(>F)  \n",
       "Outlet_Location_Type  2.618665e-36  \n",
       "Residual                       NaN  "
      ]
     },
     "execution_count": 104,
     "metadata": {},
     "output_type": "execute_result"
    }
   ],
   "source": [
    "mode = ols(\"Item_Outlet_Sales  ~ Outlet_Location_Type\", data = df4).fit()\n",
    "sm.stats.anova_lm(mode)"
   ]
  },
  {
   "cell_type": "code",
   "execution_count": 105,
   "id": "d5c4f5f6",
   "metadata": {},
   "outputs": [
    {
     "data": {
      "text/html": [
       "<div>\n",
       "<style scoped>\n",
       "    .dataframe tbody tr th:only-of-type {\n",
       "        vertical-align: middle;\n",
       "    }\n",
       "\n",
       "    .dataframe tbody tr th {\n",
       "        vertical-align: top;\n",
       "    }\n",
       "\n",
       "    .dataframe thead th {\n",
       "        text-align: right;\n",
       "    }\n",
       "</style>\n",
       "<table border=\"1\" class=\"dataframe\">\n",
       "  <thead>\n",
       "    <tr style=\"text-align: right;\">\n",
       "      <th></th>\n",
       "      <th>df</th>\n",
       "      <th>sum_sq</th>\n",
       "      <th>mean_sq</th>\n",
       "      <th>F</th>\n",
       "      <th>PR(&gt;F)</th>\n",
       "    </tr>\n",
       "  </thead>\n",
       "  <tbody>\n",
       "    <tr>\n",
       "      <th>Outlet_Location_Type</th>\n",
       "      <td>2.0</td>\n",
       "      <td>2.085820e+08</td>\n",
       "      <td>1.042910e+08</td>\n",
       "      <td>83.057901</td>\n",
       "      <td>2.618665e-36</td>\n",
       "    </tr>\n",
       "    <tr>\n",
       "      <th>Residual</th>\n",
       "      <td>6008.0</td>\n",
       "      <td>7.543897e+09</td>\n",
       "      <td>1.255642e+06</td>\n",
       "      <td>NaN</td>\n",
       "      <td>NaN</td>\n",
       "    </tr>\n",
       "  </tbody>\n",
       "</table>\n",
       "</div>"
      ],
      "text/plain": [
       "                          df        sum_sq       mean_sq          F  \\\n",
       "Outlet_Location_Type     2.0  2.085820e+08  1.042910e+08  83.057901   \n",
       "Residual              6008.0  7.543897e+09  1.255642e+06        NaN   \n",
       "\n",
       "                            PR(>F)  \n",
       "Outlet_Location_Type  2.618665e-36  \n",
       "Residual                       NaN  "
      ]
     },
     "execution_count": 105,
     "metadata": {},
     "output_type": "execute_result"
    }
   ],
   "source": [
    "mode = ols(\"Item_Outlet_Sales  ~ Outlet_Location_Type\", data = df4).fit()\n",
    "sm.stats.anova_lm(mode)"
   ]
  },
  {
   "cell_type": "markdown",
   "id": "e6775682",
   "metadata": {},
   "source": [
    "## Outlet_Type"
   ]
  },
  {
   "cell_type": "code",
   "execution_count": 106,
   "id": "608efecd",
   "metadata": {},
   "outputs": [
    {
     "data": {
      "text/plain": [
       "<AxesSubplot:>"
      ]
     },
     "execution_count": 106,
     "metadata": {},
     "output_type": "execute_result"
    },
    {
     "data": {
      "image/png": "[encoded data removed]",
      "text/plain": [
       "<Figure size 432x288 with 1 Axes>"
      ]
     },
     "metadata": {},
     "output_type": "display_data"
    }
   ],
   "source": [
    "df.Outlet_Type.value_counts().plot(kind='bar')"
   ]
  },
  {
   "cell_type": "code",
   "execution_count": 107,
   "id": "294e32a4",
   "metadata": {},
   "outputs": [
    {
     "data": {
      "text/html": [
       "<div>\n",
       "<style scoped>\n",
       "    .dataframe tbody tr th:only-of-type {\n",
       "        vertical-align: middle;\n",
       "    }\n",
       "\n",
       "    .dataframe tbody tr th {\n",
       "        vertical-align: top;\n",
       "    }\n",
       "\n",
       "    .dataframe thead th {\n",
       "        text-align: right;\n",
       "    }\n",
       "</style>\n",
       "<table border=\"1\" class=\"dataframe\">\n",
       "  <thead>\n",
       "    <tr style=\"text-align: right;\">\n",
       "      <th></th>\n",
       "      <th>df</th>\n",
       "      <th>sum_sq</th>\n",
       "      <th>mean_sq</th>\n",
       "      <th>F</th>\n",
       "      <th>PR(&gt;F)</th>\n",
       "    </tr>\n",
       "  </thead>\n",
       "  <tbody>\n",
       "    <tr>\n",
       "      <th>Outlet_Size</th>\n",
       "      <td>1.0</td>\n",
       "      <td>3.328290e+07</td>\n",
       "      <td>3.328290e+07</td>\n",
       "      <td>25.909038</td>\n",
       "      <td>3.687770e-07</td>\n",
       "    </tr>\n",
       "    <tr>\n",
       "      <th>Residual</th>\n",
       "      <td>6009.0</td>\n",
       "      <td>7.719196e+09</td>\n",
       "      <td>1.284606e+06</td>\n",
       "      <td>NaN</td>\n",
       "      <td>NaN</td>\n",
       "    </tr>\n",
       "  </tbody>\n",
       "</table>\n",
       "</div>"
      ],
      "text/plain": [
       "                 df        sum_sq       mean_sq          F        PR(>F)\n",
       "Outlet_Size     1.0  3.328290e+07  3.328290e+07  25.909038  3.687770e-07\n",
       "Residual     6009.0  7.719196e+09  1.284606e+06        NaN           NaN"
      ]
     },
     "execution_count": 107,
     "metadata": {},
     "output_type": "execute_result"
    }
   ],
   "source": [
    "\n",
    "mode = ols(\"Item_Outlet_Sales  ~ Outlet_Size\", data = df4).fit()\n",
    "sm.stats.anova_lm(mode)"
   ]
  },
  {
   "cell_type": "markdown",
   "id": "512b3369",
   "metadata": {},
   "source": [
    "# b. Label Encoding wherever required"
   ]
  },
  {
   "cell_type": "code",
   "execution_count": 108,
   "id": "4e5adebd",
   "metadata": {},
   "outputs": [
    {
     "data": {
      "text/plain": [
       "Index(['Item_Identifier', 'Item_Type', 'Outlet_Identifier', 'Outlet_Size',\n",
       "       'Outlet_Location_Type', 'Outlet_Type'],\n",
       "      dtype='object')"
      ]
     },
     "execution_count": 108,
     "metadata": {},
     "output_type": "execute_result"
    }
   ],
   "source": [
    "cat = df2.select_dtypes('O')\n",
    "cat.columns"
   ]
  },
  {
   "cell_type": "code",
   "execution_count": 109,
   "id": "af28fa84",
   "metadata": {},
   "outputs": [],
   "source": [
    "cat = df2[['Item_Identifier', 'Item_Type', 'Outlet_Identifier',\n",
    "       'Outlet_Location_Type', 'Outlet_Type',\"Outlet_Establishment_Year\",\"Outlet_Size\"]]"
   ]
  },
  {
   "cell_type": "code",
   "execution_count": 110,
   "id": "e3926832",
   "metadata": {},
   "outputs": [],
   "source": [
    "from sklearn import preprocessing\n",
    "\n",
    "label_e = preprocessing.LabelEncoder()"
   ]
  },
  {
   "cell_type": "code",
   "execution_count": 111,
   "id": "e5567c4c",
   "metadata": {},
   "outputs": [
    {
     "data": {
      "text/html": [
       "<div>\n",
       "<style scoped>\n",
       "    .dataframe tbody tr th:only-of-type {\n",
       "        vertical-align: middle;\n",
       "    }\n",
       "\n",
       "    .dataframe tbody tr th {\n",
       "        vertical-align: top;\n",
       "    }\n",
       "\n",
       "    .dataframe thead th {\n",
       "        text-align: right;\n",
       "    }\n",
       "</style>\n",
       "<table border=\"1\" class=\"dataframe\">\n",
       "  <thead>\n",
       "    <tr style=\"text-align: right;\">\n",
       "      <th></th>\n",
       "      <th>Item_Identifier</th>\n",
       "      <th>Item_Type</th>\n",
       "      <th>Outlet_Identifier</th>\n",
       "      <th>Outlet_Location_Type</th>\n",
       "      <th>Outlet_Type</th>\n",
       "      <th>Outlet_Establishment_Year</th>\n",
       "      <th>Outlet_Size</th>\n",
       "    </tr>\n",
       "  </thead>\n",
       "  <tbody>\n",
       "    <tr>\n",
       "      <th>0</th>\n",
       "      <td>FDA15</td>\n",
       "      <td>Dairy</td>\n",
       "      <td>OUT049</td>\n",
       "      <td>Tier 1</td>\n",
       "      <td>Supermarket Type1</td>\n",
       "      <td>1999</td>\n",
       "      <td>Medium</td>\n",
       "    </tr>\n",
       "    <tr>\n",
       "      <th>1</th>\n",
       "      <td>DRC01</td>\n",
       "      <td>Soft Drinks</td>\n",
       "      <td>OUT018</td>\n",
       "      <td>Tier 3</td>\n",
       "      <td>Supermarket Type2</td>\n",
       "      <td>2009</td>\n",
       "      <td>Medium</td>\n",
       "    </tr>\n",
       "    <tr>\n",
       "      <th>2</th>\n",
       "      <td>FDN15</td>\n",
       "      <td>Meat</td>\n",
       "      <td>OUT049</td>\n",
       "      <td>Tier 1</td>\n",
       "      <td>Supermarket Type1</td>\n",
       "      <td>1999</td>\n",
       "      <td>Medium</td>\n",
       "    </tr>\n",
       "    <tr>\n",
       "      <th>3</th>\n",
       "      <td>FDX07</td>\n",
       "      <td>Fruits and Vegetables</td>\n",
       "      <td>OUT010</td>\n",
       "      <td>Tier 3</td>\n",
       "      <td>Grocery Store</td>\n",
       "      <td>1998</td>\n",
       "      <td>Medium</td>\n",
       "    </tr>\n",
       "    <tr>\n",
       "      <th>4</th>\n",
       "      <td>NCD19</td>\n",
       "      <td>Household</td>\n",
       "      <td>OUT013</td>\n",
       "      <td>Tier 3</td>\n",
       "      <td>Supermarket Type1</td>\n",
       "      <td>1987</td>\n",
       "      <td>High</td>\n",
       "    </tr>\n",
       "    <tr>\n",
       "      <th>...</th>\n",
       "      <td>...</td>\n",
       "      <td>...</td>\n",
       "      <td>...</td>\n",
       "      <td>...</td>\n",
       "      <td>...</td>\n",
       "      <td>...</td>\n",
       "      <td>...</td>\n",
       "    </tr>\n",
       "    <tr>\n",
       "      <th>8518</th>\n",
       "      <td>FDF22</td>\n",
       "      <td>Snack Foods</td>\n",
       "      <td>OUT013</td>\n",
       "      <td>Tier 3</td>\n",
       "      <td>Supermarket Type1</td>\n",
       "      <td>1987</td>\n",
       "      <td>High</td>\n",
       "    </tr>\n",
       "    <tr>\n",
       "      <th>8519</th>\n",
       "      <td>FDS36</td>\n",
       "      <td>Baking Goods</td>\n",
       "      <td>OUT045</td>\n",
       "      <td>Tier 2</td>\n",
       "      <td>Supermarket Type1</td>\n",
       "      <td>2002</td>\n",
       "      <td>Medium</td>\n",
       "    </tr>\n",
       "    <tr>\n",
       "      <th>8520</th>\n",
       "      <td>NCJ29</td>\n",
       "      <td>Health and Hygiene</td>\n",
       "      <td>OUT035</td>\n",
       "      <td>Tier 2</td>\n",
       "      <td>Supermarket Type1</td>\n",
       "      <td>2004</td>\n",
       "      <td>Medium</td>\n",
       "    </tr>\n",
       "    <tr>\n",
       "      <th>8521</th>\n",
       "      <td>FDN46</td>\n",
       "      <td>Snack Foods</td>\n",
       "      <td>OUT018</td>\n",
       "      <td>Tier 3</td>\n",
       "      <td>Supermarket Type2</td>\n",
       "      <td>2009</td>\n",
       "      <td>Medium</td>\n",
       "    </tr>\n",
       "    <tr>\n",
       "      <th>8522</th>\n",
       "      <td>DRG01</td>\n",
       "      <td>Soft Drinks</td>\n",
       "      <td>OUT046</td>\n",
       "      <td>Tier 1</td>\n",
       "      <td>Supermarket Type1</td>\n",
       "      <td>1997</td>\n",
       "      <td>Medium</td>\n",
       "    </tr>\n",
       "  </tbody>\n",
       "</table>\n",
       "<p>8337 rows × 7 columns</p>\n",
       "</div>"
      ],
      "text/plain": [
       "     Item_Identifier              Item_Type Outlet_Identifier  \\\n",
       "0              FDA15                  Dairy            OUT049   \n",
       "1              DRC01            Soft Drinks            OUT018   \n",
       "2              FDN15                   Meat            OUT049   \n",
       "3              FDX07  Fruits and Vegetables            OUT010   \n",
       "4              NCD19              Household            OUT013   \n",
       "...              ...                    ...               ...   \n",
       "8518           FDF22            Snack Foods            OUT013   \n",
       "8519           FDS36           Baking Goods            OUT045   \n",
       "8520           NCJ29     Health and Hygiene            OUT035   \n",
       "8521           FDN46            Snack Foods            OUT018   \n",
       "8522           DRG01            Soft Drinks            OUT046   \n",
       "\n",
       "     Outlet_Location_Type        Outlet_Type  Outlet_Establishment_Year  \\\n",
       "0                  Tier 1  Supermarket Type1                       1999   \n",
       "1                  Tier 3  Supermarket Type2                       2009   \n",
       "2                  Tier 1  Supermarket Type1                       1999   \n",
       "3                  Tier 3      Grocery Store                       1998   \n",
       "4                  Tier 3  Supermarket Type1                       1987   \n",
       "...                   ...                ...                        ...   \n",
       "8518               Tier 3  Supermarket Type1                       1987   \n",
       "8519               Tier 2  Supermarket Type1                       2002   \n",
       "8520               Tier 2  Supermarket Type1                       2004   \n",
       "8521               Tier 3  Supermarket Type2                       2009   \n",
       "8522               Tier 1  Supermarket Type1                       1997   \n",
       "\n",
       "     Outlet_Size  \n",
       "0         Medium  \n",
       "1         Medium  \n",
       "2         Medium  \n",
       "3         Medium  \n",
       "4           High  \n",
       "...          ...  \n",
       "8518        High  \n",
       "8519      Medium  \n",
       "8520      Medium  \n",
       "8521      Medium  \n",
       "8522      Medium  \n",
       "\n",
       "[8337 rows x 7 columns]"
      ]
     },
     "execution_count": 111,
     "metadata": {},
     "output_type": "execute_result"
    }
   ],
   "source": [
    "cat"
   ]
  },
  {
   "cell_type": "code",
   "execution_count": 112,
   "id": "a2bdd2b9",
   "metadata": {},
   "outputs": [
    {
     "name": "stderr",
     "output_type": "stream",
     "text": [
      "C:\\Users\\user\\AppData\\Local\\Temp\\ipykernel_6484\\1989538220.py:2: SettingWithCopyWarning: \n",
      "A value is trying to be set on a copy of a slice from a DataFrame.\n",
      "Try using .loc[row_indexer,col_indexer] = value instead\n",
      "\n",
      "See the caveats in the documentation: https://pandas.pydata.org/pandas-docs/stable/user_guide/indexing.html#returning-a-view-versus-a-copy\n",
      "  df2[col] = label_e.fit_transform(df2[col])\n"
     ]
    }
   ],
   "source": [
    "for col in cat:\n",
    "    df2[col] = label_e.fit_transform(df2[col])"
   ]
  },
  {
   "cell_type": "code",
   "execution_count": 113,
   "id": "7b11626e",
   "metadata": {},
   "outputs": [
    {
     "data": {
      "text/html": [
       "<div>\n",
       "<style scoped>\n",
       "    .dataframe tbody tr th:only-of-type {\n",
       "        vertical-align: middle;\n",
       "    }\n",
       "\n",
       "    .dataframe tbody tr th {\n",
       "        vertical-align: top;\n",
       "    }\n",
       "\n",
       "    .dataframe thead th {\n",
       "        text-align: right;\n",
       "    }\n",
       "</style>\n",
       "<table border=\"1\" class=\"dataframe\">\n",
       "  <thead>\n",
       "    <tr style=\"text-align: right;\">\n",
       "      <th></th>\n",
       "      <th>Item_Identifier</th>\n",
       "      <th>Item_Weight</th>\n",
       "      <th>Item_Visibility</th>\n",
       "      <th>Item_Type</th>\n",
       "      <th>Item_MRP</th>\n",
       "      <th>Outlet_Identifier</th>\n",
       "      <th>Outlet_Establishment_Year</th>\n",
       "      <th>Outlet_Size</th>\n",
       "      <th>Outlet_Location_Type</th>\n",
       "      <th>Outlet_Type</th>\n",
       "      <th>Item_Outlet_Sales</th>\n",
       "    </tr>\n",
       "  </thead>\n",
       "  <tbody>\n",
       "    <tr>\n",
       "      <th>0</th>\n",
       "      <td>156</td>\n",
       "      <td>9.300</td>\n",
       "      <td>0.016047</td>\n",
       "      <td>4</td>\n",
       "      <td>249.8092</td>\n",
       "      <td>9</td>\n",
       "      <td>4</td>\n",
       "      <td>1</td>\n",
       "      <td>0</td>\n",
       "      <td>1</td>\n",
       "      <td>3735.1380</td>\n",
       "    </tr>\n",
       "    <tr>\n",
       "      <th>1</th>\n",
       "      <td>8</td>\n",
       "      <td>5.920</td>\n",
       "      <td>0.019278</td>\n",
       "      <td>14</td>\n",
       "      <td>48.2692</td>\n",
       "      <td>3</td>\n",
       "      <td>8</td>\n",
       "      <td>1</td>\n",
       "      <td>2</td>\n",
       "      <td>2</td>\n",
       "      <td>443.4228</td>\n",
       "    </tr>\n",
       "    <tr>\n",
       "      <th>2</th>\n",
       "      <td>662</td>\n",
       "      <td>17.500</td>\n",
       "      <td>0.016760</td>\n",
       "      <td>10</td>\n",
       "      <td>141.6180</td>\n",
       "      <td>9</td>\n",
       "      <td>4</td>\n",
       "      <td>1</td>\n",
       "      <td>0</td>\n",
       "      <td>1</td>\n",
       "      <td>2097.2700</td>\n",
       "    </tr>\n",
       "    <tr>\n",
       "      <th>3</th>\n",
       "      <td>1121</td>\n",
       "      <td>19.200</td>\n",
       "      <td>0.000000</td>\n",
       "      <td>6</td>\n",
       "      <td>182.0950</td>\n",
       "      <td>0</td>\n",
       "      <td>3</td>\n",
       "      <td>1</td>\n",
       "      <td>2</td>\n",
       "      <td>0</td>\n",
       "      <td>732.3800</td>\n",
       "    </tr>\n",
       "    <tr>\n",
       "      <th>4</th>\n",
       "      <td>1297</td>\n",
       "      <td>8.930</td>\n",
       "      <td>0.000000</td>\n",
       "      <td>9</td>\n",
       "      <td>53.8614</td>\n",
       "      <td>1</td>\n",
       "      <td>1</td>\n",
       "      <td>0</td>\n",
       "      <td>2</td>\n",
       "      <td>1</td>\n",
       "      <td>994.7052</td>\n",
       "    </tr>\n",
       "    <tr>\n",
       "      <th>...</th>\n",
       "      <td>...</td>\n",
       "      <td>...</td>\n",
       "      <td>...</td>\n",
       "      <td>...</td>\n",
       "      <td>...</td>\n",
       "      <td>...</td>\n",
       "      <td>...</td>\n",
       "      <td>...</td>\n",
       "      <td>...</td>\n",
       "      <td>...</td>\n",
       "      <td>...</td>\n",
       "    </tr>\n",
       "    <tr>\n",
       "      <th>8518</th>\n",
       "      <td>370</td>\n",
       "      <td>6.865</td>\n",
       "      <td>0.056783</td>\n",
       "      <td>13</td>\n",
       "      <td>214.5218</td>\n",
       "      <td>1</td>\n",
       "      <td>1</td>\n",
       "      <td>0</td>\n",
       "      <td>2</td>\n",
       "      <td>1</td>\n",
       "      <td>2778.3834</td>\n",
       "    </tr>\n",
       "    <tr>\n",
       "      <th>8519</th>\n",
       "      <td>897</td>\n",
       "      <td>8.380</td>\n",
       "      <td>0.046982</td>\n",
       "      <td>0</td>\n",
       "      <td>108.1570</td>\n",
       "      <td>7</td>\n",
       "      <td>5</td>\n",
       "      <td>1</td>\n",
       "      <td>1</td>\n",
       "      <td>1</td>\n",
       "      <td>549.2850</td>\n",
       "    </tr>\n",
       "    <tr>\n",
       "      <th>8520</th>\n",
       "      <td>1357</td>\n",
       "      <td>10.600</td>\n",
       "      <td>0.035186</td>\n",
       "      <td>8</td>\n",
       "      <td>85.1224</td>\n",
       "      <td>6</td>\n",
       "      <td>6</td>\n",
       "      <td>1</td>\n",
       "      <td>1</td>\n",
       "      <td>1</td>\n",
       "      <td>1193.1136</td>\n",
       "    </tr>\n",
       "    <tr>\n",
       "      <th>8521</th>\n",
       "      <td>681</td>\n",
       "      <td>7.210</td>\n",
       "      <td>0.145221</td>\n",
       "      <td>13</td>\n",
       "      <td>103.1332</td>\n",
       "      <td>3</td>\n",
       "      <td>8</td>\n",
       "      <td>1</td>\n",
       "      <td>2</td>\n",
       "      <td>2</td>\n",
       "      <td>1845.5976</td>\n",
       "    </tr>\n",
       "    <tr>\n",
       "      <th>8522</th>\n",
       "      <td>50</td>\n",
       "      <td>14.800</td>\n",
       "      <td>0.044878</td>\n",
       "      <td>14</td>\n",
       "      <td>75.4670</td>\n",
       "      <td>8</td>\n",
       "      <td>2</td>\n",
       "      <td>1</td>\n",
       "      <td>0</td>\n",
       "      <td>1</td>\n",
       "      <td>765.6700</td>\n",
       "    </tr>\n",
       "  </tbody>\n",
       "</table>\n",
       "<p>8337 rows × 11 columns</p>\n",
       "</div>"
      ],
      "text/plain": [
       "      Item_Identifier  Item_Weight  Item_Visibility  Item_Type  Item_MRP  \\\n",
       "0                 156        9.300         0.016047          4  249.8092   \n",
       "1                   8        5.920         0.019278         14   48.2692   \n",
       "2                 662       17.500         0.016760         10  141.6180   \n",
       "3                1121       19.200         0.000000          6  182.0950   \n",
       "4                1297        8.930         0.000000          9   53.8614   \n",
       "...               ...          ...              ...        ...       ...   \n",
       "8518              370        6.865         0.056783         13  214.5218   \n",
       "8519              897        8.380         0.046982          0  108.1570   \n",
       "8520             1357       10.600         0.035186          8   85.1224   \n",
       "8521              681        7.210         0.145221         13  103.1332   \n",
       "8522               50       14.800         0.044878         14   75.4670   \n",
       "\n",
       "      Outlet_Identifier  Outlet_Establishment_Year  Outlet_Size  \\\n",
       "0                     9                          4            1   \n",
       "1                     3                          8            1   \n",
       "2                     9                          4            1   \n",
       "3                     0                          3            1   \n",
       "4                     1                          1            0   \n",
       "...                 ...                        ...          ...   \n",
       "8518                  1                          1            0   \n",
       "8519                  7                          5            1   \n",
       "8520                  6                          6            1   \n",
       "8521                  3                          8            1   \n",
       "8522                  8                          2            1   \n",
       "\n",
       "      Outlet_Location_Type  Outlet_Type  Item_Outlet_Sales  \n",
       "0                        0            1          3735.1380  \n",
       "1                        2            2           443.4228  \n",
       "2                        0            1          2097.2700  \n",
       "3                        2            0           732.3800  \n",
       "4                        2            1           994.7052  \n",
       "...                    ...          ...                ...  \n",
       "8518                     2            1          2778.3834  \n",
       "8519                     1            1           549.2850  \n",
       "8520                     1            1          1193.1136  \n",
       "8521                     2            2          1845.5976  \n",
       "8522                     0            1           765.6700  \n",
       "\n",
       "[8337 rows x 11 columns]"
      ]
     },
     "execution_count": 113,
     "metadata": {},
     "output_type": "execute_result"
    }
   ],
   "source": [
    "df2"
   ]
  },
  {
   "cell_type": "code",
   "execution_count": 114,
   "id": "b4978703",
   "metadata": {},
   "outputs": [
    {
     "data": {
      "image/png": "[encoded data removed]",
      "text/plain": [
       "<Figure size 1008x864 with 1 Axes>"
      ]
     },
     "metadata": {},
     "output_type": "display_data"
    }
   ],
   "source": [
    "plt.figure(figsize = (14, 12))\n",
    "sns.heatmap(df2.corr(), annot = True, linewidth = .5, center = 0, cbar = False, cmap = 'YlGnBu')\n",
    "plt.show()"
   ]
  },
  {
   "cell_type": "code",
   "execution_count": 115,
   "id": "ce525079",
   "metadata": {},
   "outputs": [],
   "source": [
    "from sklearn.preprocessing import StandardScaler"
   ]
  },
  {
   "cell_type": "code",
   "execution_count": 116,
   "id": "0170f265",
   "metadata": {},
   "outputs": [
    {
     "data": {
      "text/plain": [
       "(8337, 11)"
      ]
     },
     "execution_count": 116,
     "metadata": {},
     "output_type": "execute_result"
    }
   ],
   "source": [
    "df2.shape"
   ]
  },
  {
   "cell_type": "markdown",
   "id": "8669f2a0",
   "metadata": {},
   "source": [
    "# Finding the right model"
   ]
  },
  {
   "cell_type": "code",
   "execution_count": 136,
   "id": "c2fdf6fb",
   "metadata": {},
   "outputs": [],
   "source": [
    "x = df2.drop(['Item_Outlet_Sales',\"Item_Weight\",\"Outlet_Size\"], axis = 1)\n",
    "y = df2.Item_Outlet_Sales"
   ]
  },
  {
   "cell_type": "code",
   "execution_count": 137,
   "id": "0b0ce517",
   "metadata": {},
   "outputs": [
    {
     "data": {
      "text/html": [
       "<div>\n",
       "<style scoped>\n",
       "    .dataframe tbody tr th:only-of-type {\n",
       "        vertical-align: middle;\n",
       "    }\n",
       "\n",
       "    .dataframe tbody tr th {\n",
       "        vertical-align: top;\n",
       "    }\n",
       "\n",
       "    .dataframe thead th {\n",
       "        text-align: right;\n",
       "    }\n",
       "</style>\n",
       "<table border=\"1\" class=\"dataframe\">\n",
       "  <thead>\n",
       "    <tr style=\"text-align: right;\">\n",
       "      <th></th>\n",
       "      <th>Item_Identifier</th>\n",
       "      <th>Item_Visibility</th>\n",
       "      <th>Item_Type</th>\n",
       "      <th>Item_MRP</th>\n",
       "      <th>Outlet_Identifier</th>\n",
       "      <th>Outlet_Establishment_Year</th>\n",
       "      <th>Outlet_Location_Type</th>\n",
       "      <th>Outlet_Type</th>\n",
       "    </tr>\n",
       "  </thead>\n",
       "  <tbody>\n",
       "    <tr>\n",
       "      <th>0</th>\n",
       "      <td>156</td>\n",
       "      <td>0.016047</td>\n",
       "      <td>4</td>\n",
       "      <td>249.8092</td>\n",
       "      <td>9</td>\n",
       "      <td>4</td>\n",
       "      <td>0</td>\n",
       "      <td>1</td>\n",
       "    </tr>\n",
       "    <tr>\n",
       "      <th>1</th>\n",
       "      <td>8</td>\n",
       "      <td>0.019278</td>\n",
       "      <td>14</td>\n",
       "      <td>48.2692</td>\n",
       "      <td>3</td>\n",
       "      <td>8</td>\n",
       "      <td>2</td>\n",
       "      <td>2</td>\n",
       "    </tr>\n",
       "    <tr>\n",
       "      <th>2</th>\n",
       "      <td>662</td>\n",
       "      <td>0.016760</td>\n",
       "      <td>10</td>\n",
       "      <td>141.6180</td>\n",
       "      <td>9</td>\n",
       "      <td>4</td>\n",
       "      <td>0</td>\n",
       "      <td>1</td>\n",
       "    </tr>\n",
       "    <tr>\n",
       "      <th>3</th>\n",
       "      <td>1121</td>\n",
       "      <td>0.000000</td>\n",
       "      <td>6</td>\n",
       "      <td>182.0950</td>\n",
       "      <td>0</td>\n",
       "      <td>3</td>\n",
       "      <td>2</td>\n",
       "      <td>0</td>\n",
       "    </tr>\n",
       "    <tr>\n",
       "      <th>4</th>\n",
       "      <td>1297</td>\n",
       "      <td>0.000000</td>\n",
       "      <td>9</td>\n",
       "      <td>53.8614</td>\n",
       "      <td>1</td>\n",
       "      <td>1</td>\n",
       "      <td>2</td>\n",
       "      <td>1</td>\n",
       "    </tr>\n",
       "    <tr>\n",
       "      <th>...</th>\n",
       "      <td>...</td>\n",
       "      <td>...</td>\n",
       "      <td>...</td>\n",
       "      <td>...</td>\n",
       "      <td>...</td>\n",
       "      <td>...</td>\n",
       "      <td>...</td>\n",
       "      <td>...</td>\n",
       "    </tr>\n",
       "    <tr>\n",
       "      <th>8518</th>\n",
       "      <td>370</td>\n",
       "      <td>0.056783</td>\n",
       "      <td>13</td>\n",
       "      <td>214.5218</td>\n",
       "      <td>1</td>\n",
       "      <td>1</td>\n",
       "      <td>2</td>\n",
       "      <td>1</td>\n",
       "    </tr>\n",
       "    <tr>\n",
       "      <th>8519</th>\n",
       "      <td>897</td>\n",
       "      <td>0.046982</td>\n",
       "      <td>0</td>\n",
       "      <td>108.1570</td>\n",
       "      <td>7</td>\n",
       "      <td>5</td>\n",
       "      <td>1</td>\n",
       "      <td>1</td>\n",
       "    </tr>\n",
       "    <tr>\n",
       "      <th>8520</th>\n",
       "      <td>1357</td>\n",
       "      <td>0.035186</td>\n",
       "      <td>8</td>\n",
       "      <td>85.1224</td>\n",
       "      <td>6</td>\n",
       "      <td>6</td>\n",
       "      <td>1</td>\n",
       "      <td>1</td>\n",
       "    </tr>\n",
       "    <tr>\n",
       "      <th>8521</th>\n",
       "      <td>681</td>\n",
       "      <td>0.145221</td>\n",
       "      <td>13</td>\n",
       "      <td>103.1332</td>\n",
       "      <td>3</td>\n",
       "      <td>8</td>\n",
       "      <td>2</td>\n",
       "      <td>2</td>\n",
       "    </tr>\n",
       "    <tr>\n",
       "      <th>8522</th>\n",
       "      <td>50</td>\n",
       "      <td>0.044878</td>\n",
       "      <td>14</td>\n",
       "      <td>75.4670</td>\n",
       "      <td>8</td>\n",
       "      <td>2</td>\n",
       "      <td>0</td>\n",
       "      <td>1</td>\n",
       "    </tr>\n",
       "  </tbody>\n",
       "</table>\n",
       "<p>8337 rows × 8 columns</p>\n",
       "</div>"
      ],
      "text/plain": [
       "      Item_Identifier  Item_Visibility  Item_Type  Item_MRP  \\\n",
       "0                 156         0.016047          4  249.8092   \n",
       "1                   8         0.019278         14   48.2692   \n",
       "2                 662         0.016760         10  141.6180   \n",
       "3                1121         0.000000          6  182.0950   \n",
       "4                1297         0.000000          9   53.8614   \n",
       "...               ...              ...        ...       ...   \n",
       "8518              370         0.056783         13  214.5218   \n",
       "8519              897         0.046982          0  108.1570   \n",
       "8520             1357         0.035186          8   85.1224   \n",
       "8521              681         0.145221         13  103.1332   \n",
       "8522               50         0.044878         14   75.4670   \n",
       "\n",
       "      Outlet_Identifier  Outlet_Establishment_Year  Outlet_Location_Type  \\\n",
       "0                     9                          4                     0   \n",
       "1                     3                          8                     2   \n",
       "2                     9                          4                     0   \n",
       "3                     0                          3                     2   \n",
       "4                     1                          1                     2   \n",
       "...                 ...                        ...                   ...   \n",
       "8518                  1                          1                     2   \n",
       "8519                  7                          5                     1   \n",
       "8520                  6                          6                     1   \n",
       "8521                  3                          8                     2   \n",
       "8522                  8                          2                     0   \n",
       "\n",
       "      Outlet_Type  \n",
       "0               1  \n",
       "1               2  \n",
       "2               1  \n",
       "3               0  \n",
       "4               1  \n",
       "...           ...  \n",
       "8518            1  \n",
       "8519            1  \n",
       "8520            1  \n",
       "8521            2  \n",
       "8522            1  \n",
       "\n",
       "[8337 rows x 8 columns]"
      ]
     },
     "execution_count": 137,
     "metadata": {},
     "output_type": "execute_result"
    }
   ],
   "source": [
    "x"
   ]
  },
  {
   "cell_type": "code",
   "execution_count": 138,
   "id": "b4f3d2d1",
   "metadata": {},
   "outputs": [
    {
     "name": "stdout",
     "output_type": "stream",
     "text": [
      "Coefficient [-1.13217352e-03 -1.68221731e+03 -2.19719338e+00  1.38137660e+01\n",
      "  5.75758147e+01  9.70795856e+00 -6.93125231e+01  7.52768070e+02] intercept -861.5918819551425\n",
      "The R_square is:  0.488\n"
     ]
    }
   ],
   "source": [
    "from sklearn.model_selection import train_test_split\n",
    "X_train, X_test, y_train, y_test = train_test_split(x,y,train_size=0.7)\n",
    "from sklearn.linear_model import LinearRegression\n",
    "lm = LinearRegression()\n",
    "lm.fit(X_train,y_train)\n",
    "print(\"Coefficient\", lm.coef_ , \"intercept\", lm.intercept_)\n",
    "print(\"The R_square is: \", round(lm.score (X_train,y_train),3))"
   ]
  },
  {
   "cell_type": "code",
   "execution_count": 139,
   "id": "3b913aa4",
   "metadata": {},
   "outputs": [
    {
     "data": {
      "text/plain": [
       "0.46976289554069983"
      ]
     },
     "execution_count": 139,
     "metadata": {},
     "output_type": "execute_result"
    }
   ],
   "source": [
    "from sklearn.linear_model import LinearRegression\n",
    "lm = LinearRegression()\n",
    "clg = lm.fit(X_train,y_train)\n",
    "lm.score(X_train,y_train)\n",
    "lm.score(X_test,y_test)"
   ]
  },
  {
   "cell_type": "markdown",
   "id": "353c7568",
   "metadata": {},
   "source": [
    "# Buliding models"
   ]
  },
  {
   "cell_type": "code",
   "execution_count": 140,
   "id": "27d14473",
   "metadata": {},
   "outputs": [],
   "source": [
    "from sklearn import datasets\n",
    "from sklearn.linear_model import LogisticRegression\n"
   ]
  },
  {
   "cell_type": "code",
   "execution_count": 141,
   "id": "93454403",
   "metadata": {},
   "outputs": [
    {
     "name": "stdout",
     "output_type": "stream",
     "text": [
      "0.5406329437381407 0.9381858292597127\n"
     ]
    }
   ],
   "source": [
    "from sklearn.ensemble import RandomForestRegressor\n",
    "\n",
    "RandomForest_model=RandomForestRegressor(n_estimators=1000)\n",
    "RandomForest_model.fit(X_train,y_train)\n",
    "accuracy=RandomForest_model.score(X_test,y_test)\n",
    "accuracy_train = RandomForest_model.score(X_train,y_train)\n",
    "print(accuracy,accuracy_train)"
   ]
  },
  {
   "cell_type": "code",
   "execution_count": 142,
   "id": "596fcf63",
   "metadata": {},
   "outputs": [
    {
     "name": "stdout",
     "output_type": "stream",
     "text": [
      "0.1665172677652096 1.0\n"
     ]
    }
   ],
   "source": [
    "from sklearn.tree import DecisionTreeRegressor\n",
    "\n",
    "DecisionTree_model=DecisionTreeRegressor()\n",
    "DecisionTree_model.fit(X_train,y_train)\n",
    "accuracy=DecisionTree_model.score(X_test,y_test)\n",
    "accuracy_train = DecisionTree_model.score(X_train,y_train)\n",
    "print(accuracy,accuracy_train)"
   ]
  },
  {
   "cell_type": "code",
   "execution_count": 143,
   "id": "7aca2820",
   "metadata": {},
   "outputs": [
    {
     "name": "stdout",
     "output_type": "stream",
     "text": [
      "-0.006350462960524217 -0.010067786629264663\n"
     ]
    }
   ],
   "source": [
    "from sklearn.svm import SVR\n",
    "regressor = SVR(kernel = 'poly')\n",
    "regressor.fit(X_train,y_train)\n",
    "train = regressor.score(X_train, y_train)\n",
    "test = regressor.score(X_test, y_test)\n",
    "print(train,test)"
   ]
  },
  {
   "cell_type": "code",
   "execution_count": 144,
   "id": "3bb39e55",
   "metadata": {},
   "outputs": [],
   "source": [
    "X = x"
   ]
  },
  {
   "cell_type": "code",
   "execution_count": 145,
   "id": "c3a644a2",
   "metadata": {
    "scrolled": false
   },
   "outputs": [
    {
     "name": "stderr",
     "output_type": "stream",
     "text": [
      "C:\\Users\\user\\anaconda3\\lib\\site-packages\\sklearn\\linear_model\\_base.py:141: FutureWarning: 'normalize' was deprecated in version 1.0 and will be removed in 1.2.\n",
      "If you wish to scale the data, use Pipeline with a StandardScaler in a preprocessing stage. To reproduce the previous behavior:\n",
      "\n",
      "from sklearn.pipeline import make_pipeline\n",
      "\n",
      "model = make_pipeline(StandardScaler(with_mean=False), LinearRegression())\n",
      "\n",
      "If you wish to pass a sample_weight parameter, you need to pass it as a fit parameter to each step of the pipeline as follows:\n",
      "\n",
      "kwargs = {s[0] + '__sample_weight': sample_weight for s in model.steps}\n",
      "model.fit(X, y, **kwargs)\n",
      "\n",
      "\n",
      "  warnings.warn(\n",
      "C:\\Users\\user\\anaconda3\\lib\\site-packages\\sklearn\\linear_model\\_base.py:141: FutureWarning: 'normalize' was deprecated in version 1.0 and will be removed in 1.2.\n",
      "If you wish to scale the data, use Pipeline with a StandardScaler in a preprocessing stage. To reproduce the previous behavior:\n",
      "\n",
      "from sklearn.pipeline import make_pipeline\n",
      "\n",
      "model = make_pipeline(StandardScaler(with_mean=False), LinearRegression())\n",
      "\n",
      "If you wish to pass a sample_weight parameter, you need to pass it as a fit parameter to each step of the pipeline as follows:\n",
      "\n",
      "kwargs = {s[0] + '__sample_weight': sample_weight for s in model.steps}\n",
      "model.fit(X, y, **kwargs)\n",
      "\n",
      "\n",
      "  warnings.warn(\n",
      "C:\\Users\\user\\anaconda3\\lib\\site-packages\\sklearn\\linear_model\\_base.py:141: FutureWarning: 'normalize' was deprecated in version 1.0 and will be removed in 1.2.\n",
      "If you wish to scale the data, use Pipeline with a StandardScaler in a preprocessing stage. To reproduce the previous behavior:\n",
      "\n",
      "from sklearn.pipeline import make_pipeline\n",
      "\n",
      "model = make_pipeline(StandardScaler(with_mean=False), LinearRegression())\n",
      "\n",
      "If you wish to pass a sample_weight parameter, you need to pass it as a fit parameter to each step of the pipeline as follows:\n",
      "\n",
      "kwargs = {s[0] + '__sample_weight': sample_weight for s in model.steps}\n",
      "model.fit(X, y, **kwargs)\n",
      "\n",
      "\n",
      "  warnings.warn(\n",
      "C:\\Users\\user\\anaconda3\\lib\\site-packages\\sklearn\\linear_model\\_base.py:141: FutureWarning: 'normalize' was deprecated in version 1.0 and will be removed in 1.2.\n",
      "If you wish to scale the data, use Pipeline with a StandardScaler in a preprocessing stage. To reproduce the previous behavior:\n",
      "\n",
      "from sklearn.pipeline import make_pipeline\n",
      "\n",
      "model = make_pipeline(StandardScaler(with_mean=False), LinearRegression())\n",
      "\n",
      "If you wish to pass a sample_weight parameter, you need to pass it as a fit parameter to each step of the pipeline as follows:\n",
      "\n",
      "kwargs = {s[0] + '__sample_weight': sample_weight for s in model.steps}\n",
      "model.fit(X, y, **kwargs)\n",
      "\n",
      "\n",
      "  warnings.warn(\n",
      "C:\\Users\\user\\anaconda3\\lib\\site-packages\\sklearn\\linear_model\\_base.py:141: FutureWarning: 'normalize' was deprecated in version 1.0 and will be removed in 1.2.\n",
      "If you wish to scale the data, use Pipeline with a StandardScaler in a preprocessing stage. To reproduce the previous behavior:\n",
      "\n",
      "from sklearn.pipeline import make_pipeline\n",
      "\n",
      "model = make_pipeline(StandardScaler(with_mean=False), LinearRegression())\n",
      "\n",
      "If you wish to pass a sample_weight parameter, you need to pass it as a fit parameter to each step of the pipeline as follows:\n",
      "\n",
      "kwargs = {s[0] + '__sample_weight': sample_weight for s in model.steps}\n",
      "model.fit(X, y, **kwargs)\n",
      "\n",
      "\n",
      "  warnings.warn(\n",
      "C:\\Users\\user\\anaconda3\\lib\\site-packages\\sklearn\\linear_model\\_base.py:148: FutureWarning: 'normalize' was deprecated in version 1.0 and will be removed in 1.2. Please leave the normalize parameter to its default value to silence this warning. The default behavior of this estimator is to not do any normalization. If normalization is needed please use sklearn.preprocessing.StandardScaler instead.\n",
      "  warnings.warn(\n",
      "C:\\Users\\user\\anaconda3\\lib\\site-packages\\sklearn\\linear_model\\_base.py:148: FutureWarning: 'normalize' was deprecated in version 1.0 and will be removed in 1.2. Please leave the normalize parameter to its default value to silence this warning. The default behavior of this estimator is to not do any normalization. If normalization is needed please use sklearn.preprocessing.StandardScaler instead.\n",
      "  warnings.warn(\n",
      "C:\\Users\\user\\anaconda3\\lib\\site-packages\\sklearn\\linear_model\\_base.py:148: FutureWarning: 'normalize' was deprecated in version 1.0 and will be removed in 1.2. Please leave the normalize parameter to its default value to silence this warning. The default behavior of this estimator is to not do any normalization. If normalization is needed please use sklearn.preprocessing.StandardScaler instead.\n",
      "  warnings.warn(\n",
      "C:\\Users\\user\\anaconda3\\lib\\site-packages\\sklearn\\linear_model\\_base.py:148: FutureWarning: 'normalize' was deprecated in version 1.0 and will be removed in 1.2. Please leave the normalize parameter to its default value to silence this warning. The default behavior of this estimator is to not do any normalization. If normalization is needed please use sklearn.preprocessing.StandardScaler instead.\n",
      "  warnings.warn(\n",
      "C:\\Users\\user\\anaconda3\\lib\\site-packages\\sklearn\\linear_model\\_base.py:148: FutureWarning: 'normalize' was deprecated in version 1.0 and will be removed in 1.2. Please leave the normalize parameter to its default value to silence this warning. The default behavior of this estimator is to not do any normalization. If normalization is needed please use sklearn.preprocessing.StandardScaler instead.\n",
      "  warnings.warn(\n",
      "C:\\Users\\user\\anaconda3\\lib\\site-packages\\sklearn\\linear_model\\_base.py:148: FutureWarning: 'normalize' was deprecated in version 1.0 and will be removed in 1.2. Please leave the normalize parameter to its default value to silence this warning. The default behavior of this estimator is to not do any normalization. If normalization is needed please use sklearn.preprocessing.StandardScaler instead.\n",
      "  warnings.warn(\n",
      "C:\\Users\\user\\anaconda3\\lib\\site-packages\\sklearn\\tree\\_classes.py:397: FutureWarning: Criterion 'mse' was deprecated in v1.0 and will be removed in version 1.2. Use `criterion='squared_error'` which is equivalent.\n",
      "  warnings.warn(\n",
      "C:\\Users\\user\\anaconda3\\lib\\site-packages\\sklearn\\tree\\_classes.py:397: FutureWarning: Criterion 'mse' was deprecated in v1.0 and will be removed in version 1.2. Use `criterion='squared_error'` which is equivalent.\n",
      "  warnings.warn(\n",
      "C:\\Users\\user\\anaconda3\\lib\\site-packages\\sklearn\\tree\\_classes.py:397: FutureWarning: Criterion 'mse' was deprecated in v1.0 and will be removed in version 1.2. Use `criterion='squared_error'` which is equivalent.\n",
      "  warnings.warn(\n",
      "C:\\Users\\user\\anaconda3\\lib\\site-packages\\sklearn\\tree\\_classes.py:397: FutureWarning: Criterion 'mse' was deprecated in v1.0 and will be removed in version 1.2. Use `criterion='squared_error'` which is equivalent.\n",
      "  warnings.warn(\n",
      "C:\\Users\\user\\anaconda3\\lib\\site-packages\\sklearn\\tree\\_classes.py:397: FutureWarning: Criterion 'mse' was deprecated in v1.0 and will be removed in version 1.2. Use `criterion='squared_error'` which is equivalent.\n",
      "  warnings.warn(\n",
      "C:\\Users\\user\\anaconda3\\lib\\site-packages\\sklearn\\tree\\_classes.py:397: FutureWarning: Criterion 'mse' was deprecated in v1.0 and will be removed in version 1.2. Use `criterion='squared_error'` which is equivalent.\n",
      "  warnings.warn(\n",
      "C:\\Users\\user\\anaconda3\\lib\\site-packages\\sklearn\\tree\\_classes.py:397: FutureWarning: Criterion 'mse' was deprecated in v1.0 and will be removed in version 1.2. Use `criterion='squared_error'` which is equivalent.\n",
      "  warnings.warn(\n",
      "C:\\Users\\user\\anaconda3\\lib\\site-packages\\sklearn\\tree\\_classes.py:397: FutureWarning: Criterion 'mse' was deprecated in v1.0 and will be removed in version 1.2. Use `criterion='squared_error'` which is equivalent.\n",
      "  warnings.warn(\n",
      "C:\\Users\\user\\anaconda3\\lib\\site-packages\\sklearn\\tree\\_classes.py:397: FutureWarning: Criterion 'mse' was deprecated in v1.0 and will be removed in version 1.2. Use `criterion='squared_error'` which is equivalent.\n",
      "  warnings.warn(\n",
      "C:\\Users\\user\\anaconda3\\lib\\site-packages\\sklearn\\tree\\_classes.py:397: FutureWarning: Criterion 'mse' was deprecated in v1.0 and will be removed in version 1.2. Use `criterion='squared_error'` which is equivalent.\n",
      "  warnings.warn(\n"
     ]
    },
    {
     "data": {
      "text/html": [
       "<div>\n",
       "<style scoped>\n",
       "    .dataframe tbody tr th:only-of-type {\n",
       "        vertical-align: middle;\n",
       "    }\n",
       "\n",
       "    .dataframe tbody tr th {\n",
       "        vertical-align: top;\n",
       "    }\n",
       "\n",
       "    .dataframe thead th {\n",
       "        text-align: right;\n",
       "    }\n",
       "</style>\n",
       "<table border=\"1\" class=\"dataframe\">\n",
       "  <thead>\n",
       "    <tr style=\"text-align: right;\">\n",
       "      <th></th>\n",
       "      <th>model</th>\n",
       "      <th>best_score</th>\n",
       "      <th>best_params</th>\n",
       "    </tr>\n",
       "  </thead>\n",
       "  <tbody>\n",
       "    <tr>\n",
       "      <th>0</th>\n",
       "      <td>linear_regression</td>\n",
       "      <td>0.476526</td>\n",
       "      <td>{'normalize': False}</td>\n",
       "    </tr>\n",
       "    <tr>\n",
       "      <th>1</th>\n",
       "      <td>lasso</td>\n",
       "      <td>0.476161</td>\n",
       "      <td>{'alpha': 1, 'selection': 'cyclic'}</td>\n",
       "    </tr>\n",
       "    <tr>\n",
       "      <th>2</th>\n",
       "      <td>decision_tree</td>\n",
       "      <td>0.144072</td>\n",
       "      <td>{'criterion': 'friedman_mse', 'splitter': 'ran...</td>\n",
       "    </tr>\n",
       "  </tbody>\n",
       "</table>\n",
       "</div>"
      ],
      "text/plain": [
       "               model  best_score  \\\n",
       "0  linear_regression    0.476526   \n",
       "1              lasso    0.476161   \n",
       "2      decision_tree    0.144072   \n",
       "\n",
       "                                         best_params  \n",
       "0                               {'normalize': False}  \n",
       "1                {'alpha': 1, 'selection': 'cyclic'}  \n",
       "2  {'criterion': 'friedman_mse', 'splitter': 'ran...  "
      ]
     },
     "execution_count": 145,
     "metadata": {},
     "output_type": "execute_result"
    }
   ],
   "source": [
    "from sklearn.model_selection import GridSearchCV\n",
    "\n",
    "from sklearn.linear_model import Lasso\n",
    "from sklearn.tree import DecisionTreeRegressor\n",
    "from sklearn.model_selection import ShuffleSplit\n",
    "from sklearn import datasets, linear_model\n",
    "from sklearn.model_selection import cross_val_score\n",
    "def find_best_model_using_gridsearchcv(X,y):\n",
    "    algos = {\n",
    "        'linear_regression' : {\n",
    "            'model': LinearRegression(),\n",
    "            'params': {\n",
    "                'normalize': [True, False]\n",
    "            }\n",
    "        },\n",
    "        'lasso': {\n",
    "            'model': Lasso(),\n",
    "            'params': {\n",
    "                'alpha': [1,2],\n",
    "                'selection': ['random', 'cyclic']\n",
    "            }\n",
    "        },\n",
    "        'decision_tree': {\n",
    "            'model': DecisionTreeRegressor(),\n",
    "            'params': {\n",
    "                'criterion' : ['mse','friedman_mse'],\n",
    "                'splitter': ['best','random']\n",
    "            }\n",
    "        }\n",
    "    }\n",
    "    scores = []\n",
    "    cv = ShuffleSplit(n_splits=5, test_size=0.2, random_state=0)\n",
    "    for algo_name, config in algos.items():\n",
    "        gs =  GridSearchCV(config['model'], config['params'], cv=cv, return_train_score=False)\n",
    "        gs.fit(X,y)\n",
    "        scores.append({\n",
    "            'model': algo_name,\n",
    "            'best_score': gs.best_score_,\n",
    "            'best_params': gs.best_params_\n",
    "        })\n",
    "\n",
    "    return pd.DataFrame(scores,columns=['model','best_score','best_params'])\n",
    "\n",
    "find_best_model_using_gridsearchcv(X,y)"
   ]
  },
  {
   "cell_type": "code",
   "execution_count": null,
   "id": "f1ca6e49",
   "metadata": {},
   "outputs": [],
   "source": []
  },
  {
   "cell_type": "markdown",
   "id": "d37e3229",
   "metadata": {},
   "source": [
    "### RandomForest model gives high accuracy of 54% "
   ]
  },
  {
   "cell_type": "code",
   "execution_count": 146,
   "id": "5a673055",
   "metadata": {},
   "outputs": [
    {
     "name": "stdout",
     "output_type": "stream",
     "text": [
      "0.9359681912528871\n"
     ]
    }
   ],
   "source": [
    "RandomForest_model=RandomForestRegressor()\n",
    "k = RandomForest_model.fit(x,y)\n",
    "accuracy_train = RandomForest_model.score(x,y)\n",
    "print(accuracy_train)"
   ]
  },
  {
   "cell_type": "code",
   "execution_count": 147,
   "id": "e6f1e862",
   "metadata": {},
   "outputs": [],
   "source": [
    "test = pd.read_csv(\"test_bigmart.csv\")"
   ]
  },
  {
   "cell_type": "code",
   "execution_count": 148,
   "id": "63560323",
   "metadata": {},
   "outputs": [],
   "source": [
    "test1 = test[[\"Item_Identifier\",\"Outlet_Identifier\"]]"
   ]
  },
  {
   "cell_type": "code",
   "execution_count": 149,
   "id": "76e17b9a",
   "metadata": {},
   "outputs": [
    {
     "data": {
      "text/html": [
       "<div>\n",
       "<style scoped>\n",
       "    .dataframe tbody tr th:only-of-type {\n",
       "        vertical-align: middle;\n",
       "    }\n",
       "\n",
       "    .dataframe tbody tr th {\n",
       "        vertical-align: top;\n",
       "    }\n",
       "\n",
       "    .dataframe thead th {\n",
       "        text-align: right;\n",
       "    }\n",
       "</style>\n",
       "<table border=\"1\" class=\"dataframe\">\n",
       "  <thead>\n",
       "    <tr style=\"text-align: right;\">\n",
       "      <th></th>\n",
       "      <th>Item_Identifier</th>\n",
       "      <th>Outlet_Identifier</th>\n",
       "    </tr>\n",
       "  </thead>\n",
       "  <tbody>\n",
       "    <tr>\n",
       "      <th>0</th>\n",
       "      <td>FDW58</td>\n",
       "      <td>OUT049</td>\n",
       "    </tr>\n",
       "    <tr>\n",
       "      <th>1</th>\n",
       "      <td>FDW14</td>\n",
       "      <td>OUT017</td>\n",
       "    </tr>\n",
       "    <tr>\n",
       "      <th>2</th>\n",
       "      <td>NCN55</td>\n",
       "      <td>OUT010</td>\n",
       "    </tr>\n",
       "    <tr>\n",
       "      <th>3</th>\n",
       "      <td>FDQ58</td>\n",
       "      <td>OUT017</td>\n",
       "    </tr>\n",
       "    <tr>\n",
       "      <th>4</th>\n",
       "      <td>FDY38</td>\n",
       "      <td>OUT027</td>\n",
       "    </tr>\n",
       "  </tbody>\n",
       "</table>\n",
       "</div>"
      ],
      "text/plain": [
       "  Item_Identifier Outlet_Identifier\n",
       "0           FDW58            OUT049\n",
       "1           FDW14            OUT017\n",
       "2           NCN55            OUT010\n",
       "3           FDQ58            OUT017\n",
       "4           FDY38            OUT027"
      ]
     },
     "execution_count": 149,
     "metadata": {},
     "output_type": "execute_result"
    }
   ],
   "source": [
    "test1.head()"
   ]
  },
  {
   "cell_type": "code",
   "execution_count": 150,
   "id": "6caec233",
   "metadata": {},
   "outputs": [],
   "source": [
    "cat = test[['Item_Identifier', 'Item_Type', 'Outlet_Identifier',\n",
    "       'Outlet_Location_Type', 'Outlet_Type']]\n",
    "from sklearn import preprocessing\n",
    "\n",
    "label_e = preprocessing.LabelEncoder()"
   ]
  },
  {
   "cell_type": "code",
   "execution_count": 151,
   "id": "8957b688",
   "metadata": {},
   "outputs": [],
   "source": [
    "for col in cat:\n",
    "    test[col] = label_e.fit_transform(test[col])"
   ]
  },
  {
   "cell_type": "code",
   "execution_count": 152,
   "id": "5ed387bb",
   "metadata": {},
   "outputs": [
    {
     "data": {
      "text/html": [
       "<div>\n",
       "<style scoped>\n",
       "    .dataframe tbody tr th:only-of-type {\n",
       "        vertical-align: middle;\n",
       "    }\n",
       "\n",
       "    .dataframe tbody tr th {\n",
       "        vertical-align: top;\n",
       "    }\n",
       "\n",
       "    .dataframe thead th {\n",
       "        text-align: right;\n",
       "    }\n",
       "</style>\n",
       "<table border=\"1\" class=\"dataframe\">\n",
       "  <thead>\n",
       "    <tr style=\"text-align: right;\">\n",
       "      <th></th>\n",
       "      <th>Item_Identifier</th>\n",
       "      <th>Outlet_Identifier</th>\n",
       "    </tr>\n",
       "  </thead>\n",
       "  <tbody>\n",
       "    <tr>\n",
       "      <th>0</th>\n",
       "      <td>FDW58</td>\n",
       "      <td>OUT049</td>\n",
       "    </tr>\n",
       "    <tr>\n",
       "      <th>1</th>\n",
       "      <td>FDW14</td>\n",
       "      <td>OUT017</td>\n",
       "    </tr>\n",
       "    <tr>\n",
       "      <th>2</th>\n",
       "      <td>NCN55</td>\n",
       "      <td>OUT010</td>\n",
       "    </tr>\n",
       "    <tr>\n",
       "      <th>3</th>\n",
       "      <td>FDQ58</td>\n",
       "      <td>OUT017</td>\n",
       "    </tr>\n",
       "    <tr>\n",
       "      <th>4</th>\n",
       "      <td>FDY38</td>\n",
       "      <td>OUT027</td>\n",
       "    </tr>\n",
       "    <tr>\n",
       "      <th>...</th>\n",
       "      <td>...</td>\n",
       "      <td>...</td>\n",
       "    </tr>\n",
       "    <tr>\n",
       "      <th>5676</th>\n",
       "      <td>FDB58</td>\n",
       "      <td>OUT046</td>\n",
       "    </tr>\n",
       "    <tr>\n",
       "      <th>5677</th>\n",
       "      <td>FDD47</td>\n",
       "      <td>OUT018</td>\n",
       "    </tr>\n",
       "    <tr>\n",
       "      <th>5678</th>\n",
       "      <td>NCO17</td>\n",
       "      <td>OUT045</td>\n",
       "    </tr>\n",
       "    <tr>\n",
       "      <th>5679</th>\n",
       "      <td>FDJ26</td>\n",
       "      <td>OUT017</td>\n",
       "    </tr>\n",
       "    <tr>\n",
       "      <th>5680</th>\n",
       "      <td>FDU37</td>\n",
       "      <td>OUT045</td>\n",
       "    </tr>\n",
       "  </tbody>\n",
       "</table>\n",
       "<p>5681 rows × 2 columns</p>\n",
       "</div>"
      ],
      "text/plain": [
       "     Item_Identifier Outlet_Identifier\n",
       "0              FDW58            OUT049\n",
       "1              FDW14            OUT017\n",
       "2              NCN55            OUT010\n",
       "3              FDQ58            OUT017\n",
       "4              FDY38            OUT027\n",
       "...              ...               ...\n",
       "5676           FDB58            OUT046\n",
       "5677           FDD47            OUT018\n",
       "5678           NCO17            OUT045\n",
       "5679           FDJ26            OUT017\n",
       "5680           FDU37            OUT045\n",
       "\n",
       "[5681 rows x 2 columns]"
      ]
     },
     "execution_count": 152,
     "metadata": {},
     "output_type": "execute_result"
    }
   ],
   "source": [
    "test1"
   ]
  },
  {
   "cell_type": "code",
   "execution_count": 153,
   "id": "cf953c94",
   "metadata": {},
   "outputs": [],
   "source": [
    "df_test = test.drop([\"Outlet_Size\",\"Item_Weight\",\"Item_Fat_Content\",], axis = 1)\n",
    "x = df_test"
   ]
  },
  {
   "cell_type": "code",
   "execution_count": 154,
   "id": "c03b5d16",
   "metadata": {},
   "outputs": [
    {
     "data": {
      "text/plain": [
       "array([1539.12986 , 1262.450012,  653.24967 , ..., 1996.088374,\n",
       "       3730.17779 , 1405.850016])"
      ]
     },
     "execution_count": 154,
     "metadata": {},
     "output_type": "execute_result"
    }
   ],
   "source": [
    "result = k.predict(x)\n",
    "result"
   ]
  },
  {
   "cell_type": "code",
   "execution_count": 155,
   "id": "cbfb79af",
   "metadata": {},
   "outputs": [
    {
     "name": "stderr",
     "output_type": "stream",
     "text": [
      "C:\\Users\\user\\AppData\\Local\\Temp\\ipykernel_6484\\3779115773.py:1: SettingWithCopyWarning: \n",
      "A value is trying to be set on a copy of a slice from a DataFrame.\n",
      "Try using .loc[row_indexer,col_indexer] = value instead\n",
      "\n",
      "See the caveats in the documentation: https://pandas.pydata.org/pandas-docs/stable/user_guide/indexing.html#returning-a-view-versus-a-copy\n",
      "  test1[\"Item_Outlet_Sales\"] = result\n"
     ]
    }
   ],
   "source": [
    "test1[\"Item_Outlet_Sales\"] = result"
   ]
  },
  {
   "cell_type": "code",
   "execution_count": 156,
   "id": "c6d7138c",
   "metadata": {},
   "outputs": [
    {
     "data": {
      "text/html": [
       "<div>\n",
       "<style scoped>\n",
       "    .dataframe tbody tr th:only-of-type {\n",
       "        vertical-align: middle;\n",
       "    }\n",
       "\n",
       "    .dataframe tbody tr th {\n",
       "        vertical-align: top;\n",
       "    }\n",
       "\n",
       "    .dataframe thead th {\n",
       "        text-align: right;\n",
       "    }\n",
       "</style>\n",
       "<table border=\"1\" class=\"dataframe\">\n",
       "  <thead>\n",
       "    <tr style=\"text-align: right;\">\n",
       "      <th></th>\n",
       "      <th>Item_Identifier</th>\n",
       "      <th>Outlet_Identifier</th>\n",
       "      <th>Item_Outlet_Sales</th>\n",
       "    </tr>\n",
       "  </thead>\n",
       "  <tbody>\n",
       "    <tr>\n",
       "      <th>0</th>\n",
       "      <td>FDW58</td>\n",
       "      <td>OUT049</td>\n",
       "      <td>1539.129860</td>\n",
       "    </tr>\n",
       "    <tr>\n",
       "      <th>1</th>\n",
       "      <td>FDW14</td>\n",
       "      <td>OUT017</td>\n",
       "      <td>1262.450012</td>\n",
       "    </tr>\n",
       "    <tr>\n",
       "      <th>2</th>\n",
       "      <td>NCN55</td>\n",
       "      <td>OUT010</td>\n",
       "      <td>653.249670</td>\n",
       "    </tr>\n",
       "    <tr>\n",
       "      <th>3</th>\n",
       "      <td>FDQ58</td>\n",
       "      <td>OUT017</td>\n",
       "      <td>2538.708716</td>\n",
       "    </tr>\n",
       "    <tr>\n",
       "      <th>4</th>\n",
       "      <td>FDY38</td>\n",
       "      <td>OUT027</td>\n",
       "      <td>4760.223654</td>\n",
       "    </tr>\n",
       "    <tr>\n",
       "      <th>...</th>\n",
       "      <td>...</td>\n",
       "      <td>...</td>\n",
       "      <td>...</td>\n",
       "    </tr>\n",
       "    <tr>\n",
       "      <th>5676</th>\n",
       "      <td>FDB58</td>\n",
       "      <td>OUT046</td>\n",
       "      <td>2331.312016</td>\n",
       "    </tr>\n",
       "    <tr>\n",
       "      <th>5677</th>\n",
       "      <td>FDD47</td>\n",
       "      <td>OUT018</td>\n",
       "      <td>2767.477596</td>\n",
       "    </tr>\n",
       "    <tr>\n",
       "      <th>5678</th>\n",
       "      <td>NCO17</td>\n",
       "      <td>OUT045</td>\n",
       "      <td>1996.088374</td>\n",
       "    </tr>\n",
       "    <tr>\n",
       "      <th>5679</th>\n",
       "      <td>FDJ26</td>\n",
       "      <td>OUT017</td>\n",
       "      <td>3730.177790</td>\n",
       "    </tr>\n",
       "    <tr>\n",
       "      <th>5680</th>\n",
       "      <td>FDU37</td>\n",
       "      <td>OUT045</td>\n",
       "      <td>1405.850016</td>\n",
       "    </tr>\n",
       "  </tbody>\n",
       "</table>\n",
       "<p>5681 rows × 3 columns</p>\n",
       "</div>"
      ],
      "text/plain": [
       "     Item_Identifier Outlet_Identifier  Item_Outlet_Sales\n",
       "0              FDW58            OUT049        1539.129860\n",
       "1              FDW14            OUT017        1262.450012\n",
       "2              NCN55            OUT010         653.249670\n",
       "3              FDQ58            OUT017        2538.708716\n",
       "4              FDY38            OUT027        4760.223654\n",
       "...              ...               ...                ...\n",
       "5676           FDB58            OUT046        2331.312016\n",
       "5677           FDD47            OUT018        2767.477596\n",
       "5678           NCO17            OUT045        1996.088374\n",
       "5679           FDJ26            OUT017        3730.177790\n",
       "5680           FDU37            OUT045        1405.850016\n",
       "\n",
       "[5681 rows x 3 columns]"
      ]
     },
     "execution_count": 156,
     "metadata": {},
     "output_type": "execute_result"
    }
   ],
   "source": [
    "test1"
   ]
  },
  {
   "cell_type": "code",
   "execution_count": 157,
   "id": "d7edcd3f",
   "metadata": {},
   "outputs": [],
   "source": [
    "end_result = test1[[\"Item_Identifier\",\"Outlet_Identifier\",\"Item_Outlet_Sales\"]]"
   ]
  },
  {
   "cell_type": "code",
   "execution_count": 158,
   "id": "763a32fe",
   "metadata": {},
   "outputs": [
    {
     "data": {
      "text/html": [
       "<div>\n",
       "<style scoped>\n",
       "    .dataframe tbody tr th:only-of-type {\n",
       "        vertical-align: middle;\n",
       "    }\n",
       "\n",
       "    .dataframe tbody tr th {\n",
       "        vertical-align: top;\n",
       "    }\n",
       "\n",
       "    .dataframe thead th {\n",
       "        text-align: right;\n",
       "    }\n",
       "</style>\n",
       "<table border=\"1\" class=\"dataframe\">\n",
       "  <thead>\n",
       "    <tr style=\"text-align: right;\">\n",
       "      <th></th>\n",
       "      <th>Item_Identifier</th>\n",
       "      <th>Outlet_Identifier</th>\n",
       "      <th>Item_Outlet_Sales</th>\n",
       "    </tr>\n",
       "  </thead>\n",
       "  <tbody>\n",
       "    <tr>\n",
       "      <th>0</th>\n",
       "      <td>FDW58</td>\n",
       "      <td>OUT049</td>\n",
       "      <td>1539.129860</td>\n",
       "    </tr>\n",
       "    <tr>\n",
       "      <th>1</th>\n",
       "      <td>FDW14</td>\n",
       "      <td>OUT017</td>\n",
       "      <td>1262.450012</td>\n",
       "    </tr>\n",
       "    <tr>\n",
       "      <th>2</th>\n",
       "      <td>NCN55</td>\n",
       "      <td>OUT010</td>\n",
       "      <td>653.249670</td>\n",
       "    </tr>\n",
       "    <tr>\n",
       "      <th>3</th>\n",
       "      <td>FDQ58</td>\n",
       "      <td>OUT017</td>\n",
       "      <td>2538.708716</td>\n",
       "    </tr>\n",
       "    <tr>\n",
       "      <th>4</th>\n",
       "      <td>FDY38</td>\n",
       "      <td>OUT027</td>\n",
       "      <td>4760.223654</td>\n",
       "    </tr>\n",
       "    <tr>\n",
       "      <th>...</th>\n",
       "      <td>...</td>\n",
       "      <td>...</td>\n",
       "      <td>...</td>\n",
       "    </tr>\n",
       "    <tr>\n",
       "      <th>5676</th>\n",
       "      <td>FDB58</td>\n",
       "      <td>OUT046</td>\n",
       "      <td>2331.312016</td>\n",
       "    </tr>\n",
       "    <tr>\n",
       "      <th>5677</th>\n",
       "      <td>FDD47</td>\n",
       "      <td>OUT018</td>\n",
       "      <td>2767.477596</td>\n",
       "    </tr>\n",
       "    <tr>\n",
       "      <th>5678</th>\n",
       "      <td>NCO17</td>\n",
       "      <td>OUT045</td>\n",
       "      <td>1996.088374</td>\n",
       "    </tr>\n",
       "    <tr>\n",
       "      <th>5679</th>\n",
       "      <td>FDJ26</td>\n",
       "      <td>OUT017</td>\n",
       "      <td>3730.177790</td>\n",
       "    </tr>\n",
       "    <tr>\n",
       "      <th>5680</th>\n",
       "      <td>FDU37</td>\n",
       "      <td>OUT045</td>\n",
       "      <td>1405.850016</td>\n",
       "    </tr>\n",
       "  </tbody>\n",
       "</table>\n",
       "<p>5681 rows × 3 columns</p>\n",
       "</div>"
      ],
      "text/plain": [
       "     Item_Identifier Outlet_Identifier  Item_Outlet_Sales\n",
       "0              FDW58            OUT049        1539.129860\n",
       "1              FDW14            OUT017        1262.450012\n",
       "2              NCN55            OUT010         653.249670\n",
       "3              FDQ58            OUT017        2538.708716\n",
       "4              FDY38            OUT027        4760.223654\n",
       "...              ...               ...                ...\n",
       "5676           FDB58            OUT046        2331.312016\n",
       "5677           FDD47            OUT018        2767.477596\n",
       "5678           NCO17            OUT045        1996.088374\n",
       "5679           FDJ26            OUT017        3730.177790\n",
       "5680           FDU37            OUT045        1405.850016\n",
       "\n",
       "[5681 rows x 3 columns]"
      ]
     },
     "execution_count": 158,
     "metadata": {},
     "output_type": "execute_result"
    }
   ],
   "source": [
    "end_result"
   ]
  },
  {
   "cell_type": "code",
   "execution_count": 159,
   "id": "c218fcfa",
   "metadata": {},
   "outputs": [],
   "source": [
    "end_result.to_csv(\"C:/Users/user/big_mart_end_resultsss.csv\", index = False)"
   ]
  },
  {
   "cell_type": "markdown",
   "id": "8a695159",
   "metadata": {},
   "source": [
    "#                                           Thankyou"
   ]
  }
 ],
 "metadata": {
  "kernelspec": {
   "display_name": "Python 3 (ipykernel)",
   "language": "python",
   "name": "python3"
  },
  "language_info": {
   "codemirror_mode": {
    "name": "ipython",
    "version": 3
   },
   "file_extension": ".py",
   "mimetype": "text/x-python",
   "name": "python",
   "nbconvert_exporter": "python",
   "pygments_lexer": "ipython3",
   "version": "3.9.12"
  }
 },
 "nbformat": 4,
 "nbformat_minor": 5
}
